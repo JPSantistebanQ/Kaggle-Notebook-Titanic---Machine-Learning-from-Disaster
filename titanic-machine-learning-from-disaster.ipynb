{
 "cells": [
  {
   "cell_type": "markdown",
   "id": "a97ffea9",
   "metadata": {
    "papermill": {
     "duration": 0.013549,
     "end_time": "2022-06-29T17:10:02.404470",
     "exception": false,
     "start_time": "2022-06-29T17:10:02.390921",
     "status": "completed"
    },
    "tags": []
   },
   "source": [
    "# Titanic - Machine Learning from Disaster"
   ]
  },
  {
   "cell_type": "code",
   "execution_count": 1,
   "id": "51afd27b",
   "metadata": {
    "execution": {
     "iopub.execute_input": "2022-06-29T17:10:02.432098Z",
     "iopub.status.busy": "2022-06-29T17:10:02.431005Z",
     "iopub.status.idle": "2022-06-29T17:10:03.593415Z",
     "shell.execute_reply": "2022-06-29T17:10:03.592171Z"
    },
    "papermill": {
     "duration": 1.179572,
     "end_time": "2022-06-29T17:10:03.596930",
     "exception": false,
     "start_time": "2022-06-29T17:10:02.417358",
     "status": "completed"
    },
    "tags": []
   },
   "outputs": [],
   "source": [
    "import pandas as pd # data processing, CSV file I/O (e.g. pd.read_csv)\n",
    "import numpy as np # linear algebra\n",
    "import matplotlib.pyplot as plt\n",
    "import seaborn as sns\n",
    "%matplotlib inline"
   ]
  },
  {
   "cell_type": "code",
   "execution_count": 2,
   "id": "a2210d57",
   "metadata": {
    "_cell_guid": "b1076dfc-b9ad-4769-8c92-a6c4dae69d19",
    "_uuid": "8f2839f25d086af736a60e9eeb907d3b93b6e0e5",
    "execution": {
     "iopub.execute_input": "2022-06-29T17:10:03.624264Z",
     "iopub.status.busy": "2022-06-29T17:10:03.623868Z",
     "iopub.status.idle": "2022-06-29T17:10:03.632244Z",
     "shell.execute_reply": "2022-06-29T17:10:03.631422Z"
    },
    "papermill": {
     "duration": 0.025111,
     "end_time": "2022-06-29T17:10:03.634562",
     "exception": false,
     "start_time": "2022-06-29T17:10:03.609451",
     "status": "completed"
    },
    "tags": []
   },
   "outputs": [
    {
     "name": "stdout",
     "output_type": "stream",
     "text": [
      "/kaggle/input/titanic/train.csv\n",
      "/kaggle/input/titanic/test.csv\n",
      "/kaggle/input/titanic/gender_submission.csv\n"
     ]
    }
   ],
   "source": [
    "# This Python 3 environment comes with many helpful analytics libraries installed\n",
    "# It is defined by the kaggle/python Docker image: https://github.com/kaggle/docker-python\n",
    "# For example, here's several helpful packages to load\n",
    "\n",
    "# Input data files are available in the read-only \"../input/\" directory\n",
    "# For example, running this (by clicking run or pressing Shift+Enter) will list all files under the input directory\n",
    "\n",
    "import os\n",
    "for dirname, _, filenames in os.walk('/kaggle/input'):\n",
    "    for filename in filenames:\n",
    "        print(os.path.join(dirname, filename))\n",
    "\n",
    "# You can write up to 20GB to the current directory (/kaggle/working/) that gets preserved as output when you create a version using \"Save & Run All\" \n",
    "# You can also write temporary files to /kaggle/temp/, but they won't be saved outside of the current session"
   ]
  },
  {
   "cell_type": "markdown",
   "id": "7907496e",
   "metadata": {
    "papermill": {
     "duration": 0.012602,
     "end_time": "2022-06-29T17:10:03.660153",
     "exception": false,
     "start_time": "2022-06-29T17:10:03.647551",
     "status": "completed"
    },
    "tags": []
   },
   "source": [
    "## Import dataset"
   ]
  },
  {
   "cell_type": "code",
   "execution_count": 3,
   "id": "dfa56a73",
   "metadata": {
    "execution": {
     "iopub.execute_input": "2022-06-29T17:10:03.688634Z",
     "iopub.status.busy": "2022-06-29T17:10:03.688204Z",
     "iopub.status.idle": "2022-06-29T17:10:03.709601Z",
     "shell.execute_reply": "2022-06-29T17:10:03.708462Z"
    },
    "papermill": {
     "duration": 0.039387,
     "end_time": "2022-06-29T17:10:03.712018",
     "exception": false,
     "start_time": "2022-06-29T17:10:03.672631",
     "status": "completed"
    },
    "tags": []
   },
   "outputs": [],
   "source": [
    "train = pd.read_csv('../input/titanic/train.csv')"
   ]
  },
  {
   "cell_type": "code",
   "execution_count": 4,
   "id": "c93244e9",
   "metadata": {
    "execution": {
     "iopub.execute_input": "2022-06-29T17:10:03.738827Z",
     "iopub.status.busy": "2022-06-29T17:10:03.737949Z",
     "iopub.status.idle": "2022-06-29T17:10:03.763095Z",
     "shell.execute_reply": "2022-06-29T17:10:03.761996Z"
    },
    "papermill": {
     "duration": 0.041884,
     "end_time": "2022-06-29T17:10:03.766318",
     "exception": false,
     "start_time": "2022-06-29T17:10:03.724434",
     "status": "completed"
    },
    "tags": []
   },
   "outputs": [
    {
     "data": {
      "text/html": [
       "<div>\n",
       "<style scoped>\n",
       "    .dataframe tbody tr th:only-of-type {\n",
       "        vertical-align: middle;\n",
       "    }\n",
       "\n",
       "    .dataframe tbody tr th {\n",
       "        vertical-align: top;\n",
       "    }\n",
       "\n",
       "    .dataframe thead th {\n",
       "        text-align: right;\n",
       "    }\n",
       "</style>\n",
       "<table border=\"1\" class=\"dataframe\">\n",
       "  <thead>\n",
       "    <tr style=\"text-align: right;\">\n",
       "      <th></th>\n",
       "      <th>PassengerId</th>\n",
       "      <th>Survived</th>\n",
       "      <th>Pclass</th>\n",
       "      <th>Name</th>\n",
       "      <th>Sex</th>\n",
       "      <th>Age</th>\n",
       "      <th>SibSp</th>\n",
       "      <th>Parch</th>\n",
       "      <th>Ticket</th>\n",
       "      <th>Fare</th>\n",
       "      <th>Cabin</th>\n",
       "      <th>Embarked</th>\n",
       "    </tr>\n",
       "  </thead>\n",
       "  <tbody>\n",
       "    <tr>\n",
       "      <th>0</th>\n",
       "      <td>1</td>\n",
       "      <td>0</td>\n",
       "      <td>3</td>\n",
       "      <td>Braund, Mr. Owen Harris</td>\n",
       "      <td>male</td>\n",
       "      <td>22.0</td>\n",
       "      <td>1</td>\n",
       "      <td>0</td>\n",
       "      <td>A/5 21171</td>\n",
       "      <td>7.2500</td>\n",
       "      <td>NaN</td>\n",
       "      <td>S</td>\n",
       "    </tr>\n",
       "    <tr>\n",
       "      <th>1</th>\n",
       "      <td>2</td>\n",
       "      <td>1</td>\n",
       "      <td>1</td>\n",
       "      <td>Cumings, Mrs. John Bradley (Florence Briggs Th...</td>\n",
       "      <td>female</td>\n",
       "      <td>38.0</td>\n",
       "      <td>1</td>\n",
       "      <td>0</td>\n",
       "      <td>PC 17599</td>\n",
       "      <td>71.2833</td>\n",
       "      <td>C85</td>\n",
       "      <td>C</td>\n",
       "    </tr>\n",
       "    <tr>\n",
       "      <th>2</th>\n",
       "      <td>3</td>\n",
       "      <td>1</td>\n",
       "      <td>3</td>\n",
       "      <td>Heikkinen, Miss. Laina</td>\n",
       "      <td>female</td>\n",
       "      <td>26.0</td>\n",
       "      <td>0</td>\n",
       "      <td>0</td>\n",
       "      <td>STON/O2. 3101282</td>\n",
       "      <td>7.9250</td>\n",
       "      <td>NaN</td>\n",
       "      <td>S</td>\n",
       "    </tr>\n",
       "    <tr>\n",
       "      <th>3</th>\n",
       "      <td>4</td>\n",
       "      <td>1</td>\n",
       "      <td>1</td>\n",
       "      <td>Futrelle, Mrs. Jacques Heath (Lily May Peel)</td>\n",
       "      <td>female</td>\n",
       "      <td>35.0</td>\n",
       "      <td>1</td>\n",
       "      <td>0</td>\n",
       "      <td>113803</td>\n",
       "      <td>53.1000</td>\n",
       "      <td>C123</td>\n",
       "      <td>S</td>\n",
       "    </tr>\n",
       "    <tr>\n",
       "      <th>4</th>\n",
       "      <td>5</td>\n",
       "      <td>0</td>\n",
       "      <td>3</td>\n",
       "      <td>Allen, Mr. William Henry</td>\n",
       "      <td>male</td>\n",
       "      <td>35.0</td>\n",
       "      <td>0</td>\n",
       "      <td>0</td>\n",
       "      <td>373450</td>\n",
       "      <td>8.0500</td>\n",
       "      <td>NaN</td>\n",
       "      <td>S</td>\n",
       "    </tr>\n",
       "  </tbody>\n",
       "</table>\n",
       "</div>"
      ],
      "text/plain": [
       "   PassengerId  Survived  Pclass  \\\n",
       "0            1         0       3   \n",
       "1            2         1       1   \n",
       "2            3         1       3   \n",
       "3            4         1       1   \n",
       "4            5         0       3   \n",
       "\n",
       "                                                Name     Sex   Age  SibSp  \\\n",
       "0                            Braund, Mr. Owen Harris    male  22.0      1   \n",
       "1  Cumings, Mrs. John Bradley (Florence Briggs Th...  female  38.0      1   \n",
       "2                             Heikkinen, Miss. Laina  female  26.0      0   \n",
       "3       Futrelle, Mrs. Jacques Heath (Lily May Peel)  female  35.0      1   \n",
       "4                           Allen, Mr. William Henry    male  35.0      0   \n",
       "\n",
       "   Parch            Ticket     Fare Cabin Embarked  \n",
       "0      0         A/5 21171   7.2500   NaN        S  \n",
       "1      0          PC 17599  71.2833   C85        C  \n",
       "2      0  STON/O2. 3101282   7.9250   NaN        S  \n",
       "3      0            113803  53.1000  C123        S  \n",
       "4      0            373450   8.0500   NaN        S  "
      ]
     },
     "execution_count": 4,
     "metadata": {},
     "output_type": "execute_result"
    }
   ],
   "source": [
    "train.head()"
   ]
  },
  {
   "cell_type": "code",
   "execution_count": 5,
   "id": "2ab3e49a",
   "metadata": {
    "execution": {
     "iopub.execute_input": "2022-06-29T17:10:03.793432Z",
     "iopub.status.busy": "2022-06-29T17:10:03.793027Z",
     "iopub.status.idle": "2022-06-29T17:10:03.822631Z",
     "shell.execute_reply": "2022-06-29T17:10:03.820950Z"
    },
    "papermill": {
     "duration": 0.04663,
     "end_time": "2022-06-29T17:10:03.825701",
     "exception": false,
     "start_time": "2022-06-29T17:10:03.779071",
     "status": "completed"
    },
    "tags": []
   },
   "outputs": [
    {
     "name": "stdout",
     "output_type": "stream",
     "text": [
      "<class 'pandas.core.frame.DataFrame'>\n",
      "RangeIndex: 891 entries, 0 to 890\n",
      "Data columns (total 12 columns):\n",
      " #   Column       Non-Null Count  Dtype  \n",
      "---  ------       --------------  -----  \n",
      " 0   PassengerId  891 non-null    int64  \n",
      " 1   Survived     891 non-null    int64  \n",
      " 2   Pclass       891 non-null    int64  \n",
      " 3   Name         891 non-null    object \n",
      " 4   Sex          891 non-null    object \n",
      " 5   Age          714 non-null    float64\n",
      " 6   SibSp        891 non-null    int64  \n",
      " 7   Parch        891 non-null    int64  \n",
      " 8   Ticket       891 non-null    object \n",
      " 9   Fare         891 non-null    float64\n",
      " 10  Cabin        204 non-null    object \n",
      " 11  Embarked     889 non-null    object \n",
      "dtypes: float64(2), int64(5), object(5)\n",
      "memory usage: 83.7+ KB\n"
     ]
    }
   ],
   "source": [
    "train.info()"
   ]
  },
  {
   "cell_type": "code",
   "execution_count": 6,
   "id": "49d6768b",
   "metadata": {
    "execution": {
     "iopub.execute_input": "2022-06-29T17:10:03.853885Z",
     "iopub.status.busy": "2022-06-29T17:10:03.853486Z",
     "iopub.status.idle": "2022-06-29T17:10:04.083374Z",
     "shell.execute_reply": "2022-06-29T17:10:04.082364Z"
    },
    "papermill": {
     "duration": 0.247015,
     "end_time": "2022-06-29T17:10:04.085868",
     "exception": false,
     "start_time": "2022-06-29T17:10:03.838853",
     "status": "completed"
    },
    "tags": []
   },
   "outputs": [
    {
     "data": {
      "text/plain": [
       "<AxesSubplot:>"
      ]
     },
     "execution_count": 6,
     "metadata": {},
     "output_type": "execute_result"
    },
    {
     "data": {
      "image/png": "[encoded data removed]",
      "text/plain": [
       "<Figure size 432x288 with 1 Axes>"
      ]
     },
     "metadata": {
      "needs_background": "light"
     },
     "output_type": "display_data"
    }
   ],
   "source": [
    "sns.heatmap(train.isnull(),yticklabels=False,cbar=False,cmap='viridis')"
   ]
  },
  {
   "cell_type": "code",
   "execution_count": 7,
   "id": "2a864a9f",
   "metadata": {
    "execution": {
     "iopub.execute_input": "2022-06-29T17:10:04.114172Z",
     "iopub.status.busy": "2022-06-29T17:10:04.113797Z",
     "iopub.status.idle": "2022-06-29T17:10:04.289278Z",
     "shell.execute_reply": "2022-06-29T17:10:04.288142Z"
    },
    "papermill": {
     "duration": 0.1931,
     "end_time": "2022-06-29T17:10:04.292317",
     "exception": false,
     "start_time": "2022-06-29T17:10:04.099217",
     "status": "completed"
    },
    "tags": []
   },
   "outputs": [
    {
     "data": {
      "text/plain": [
       "<AxesSubplot:xlabel='Survived', ylabel='count'>"
      ]
     },
     "execution_count": 7,
     "metadata": {},
     "output_type": "execute_result"
    },
    {
     "data": {
      "image/png": "[encoded data removed]",
      "text/plain": [
       "<Figure size 432x288 with 1 Axes>"
      ]
     },
     "metadata": {},
     "output_type": "display_data"
    }
   ],
   "source": [
    "sns.set_style('whitegrid')\n",
    "sns.countplot(x='Survived',data=train,palette='RdBu_r')"
   ]
  },
  {
   "cell_type": "code",
   "execution_count": 8,
   "id": "f0bfd595",
   "metadata": {
    "execution": {
     "iopub.execute_input": "2022-06-29T17:10:04.323114Z",
     "iopub.status.busy": "2022-06-29T17:10:04.322716Z",
     "iopub.status.idle": "2022-06-29T17:10:04.519262Z",
     "shell.execute_reply": "2022-06-29T17:10:04.517925Z"
    },
    "papermill": {
     "duration": 0.215654,
     "end_time": "2022-06-29T17:10:04.521833",
     "exception": false,
     "start_time": "2022-06-29T17:10:04.306179",
     "status": "completed"
    },
    "tags": []
   },
   "outputs": [
    {
     "data": {
      "text/plain": [
       "<AxesSubplot:xlabel='Survived', ylabel='count'>"
      ]
     },
     "execution_count": 8,
     "metadata": {},
     "output_type": "execute_result"
    },
    {
     "data": {
      "image/png": "[encoded data removed]",
      "text/plain": [
       "<Figure size 432x288 with 1 Axes>"
      ]
     },
     "metadata": {},
     "output_type": "display_data"
    }
   ],
   "source": [
    "sns.set_style('whitegrid')\n",
    "sns.countplot(x='Survived',hue='Sex',data=train,palette='RdBu_r')"
   ]
  },
  {
   "cell_type": "code",
   "execution_count": 9,
   "id": "5d5934d6",
   "metadata": {
    "execution": {
     "iopub.execute_input": "2022-06-29T17:10:04.552877Z",
     "iopub.status.busy": "2022-06-29T17:10:04.552497Z",
     "iopub.status.idle": "2022-06-29T17:10:04.772358Z",
     "shell.execute_reply": "2022-06-29T17:10:04.771117Z"
    },
    "papermill": {
     "duration": 0.239382,
     "end_time": "2022-06-29T17:10:04.775098",
     "exception": false,
     "start_time": "2022-06-29T17:10:04.535716",
     "status": "completed"
    },
    "tags": []
   },
   "outputs": [
    {
     "data": {
      "text/plain": [
       "<AxesSubplot:xlabel='Survived', ylabel='count'>"
      ]
     },
     "execution_count": 9,
     "metadata": {},
     "output_type": "execute_result"
    },
    {
     "data": {
      "image/png": "[encoded data removed]",
      "text/plain": [
       "<Figure size 432x288 with 1 Axes>"
      ]
     },
     "metadata": {},
     "output_type": "display_data"
    }
   ],
   "source": [
    "sns.set_style('whitegrid')\n",
    "sns.countplot(x='Survived',hue='Pclass',data=train,palette='rainbow')"
   ]
  },
  {
   "cell_type": "code",
   "execution_count": 10,
   "id": "a21ec4f1",
   "metadata": {
    "execution": {
     "iopub.execute_input": "2022-06-29T17:10:04.808594Z",
     "iopub.status.busy": "2022-06-29T17:10:04.808207Z",
     "iopub.status.idle": "2022-06-29T17:10:05.270927Z",
     "shell.execute_reply": "2022-06-29T17:10:05.269758Z"
    },
    "papermill": {
     "duration": 0.482298,
     "end_time": "2022-06-29T17:10:05.273325",
     "exception": false,
     "start_time": "2022-06-29T17:10:04.791027",
     "status": "completed"
    },
    "tags": []
   },
   "outputs": [
    {
     "data": {
      "text/plain": [
       "<seaborn.axisgrid.FacetGrid at 0x7fbf331f6090>"
      ]
     },
     "execution_count": 10,
     "metadata": {},
     "output_type": "execute_result"
    },
    {
     "data": {
      "image/png": "[encoded data removed]",
      "text/plain": [
       "<Figure size 360x360 with 1 Axes>"
      ]
     },
     "metadata": {},
     "output_type": "display_data"
    }
   ],
   "source": [
    "# dropna: delete null values\n",
    "sns.displot(train['Age'].dropna(),kde=False,color='darkred',bins=30)\n"
   ]
  },
  {
   "cell_type": "code",
   "execution_count": 11,
   "id": "bfd042bd",
   "metadata": {
    "execution": {
     "iopub.execute_input": "2022-06-29T17:10:05.304901Z",
     "iopub.status.busy": "2022-06-29T17:10:05.304513Z",
     "iopub.status.idle": "2022-06-29T17:10:05.617566Z",
     "shell.execute_reply": "2022-06-29T17:10:05.615354Z"
    },
    "papermill": {
     "duration": 0.332291,
     "end_time": "2022-06-29T17:10:05.620142",
     "exception": false,
     "start_time": "2022-06-29T17:10:05.287851",
     "status": "completed"
    },
    "tags": []
   },
   "outputs": [
    {
     "data": {
      "text/plain": [
       "<AxesSubplot:>"
      ]
     },
     "execution_count": 11,
     "metadata": {},
     "output_type": "execute_result"
    },
    {
     "data": {
      "image/png": "[encoded data removed]",
      "text/plain": [
       "<Figure size 432x288 with 1 Axes>"
      ]
     },
     "metadata": {},
     "output_type": "display_data"
    }
   ],
   "source": [
    "train['Age'].hist(bins=30,color='darkred',alpha=0.7)"
   ]
  },
  {
   "cell_type": "code",
   "execution_count": 12,
   "id": "7db38e71",
   "metadata": {
    "execution": {
     "iopub.execute_input": "2022-06-29T17:10:05.652357Z",
     "iopub.status.busy": "2022-06-29T17:10:05.651737Z",
     "iopub.status.idle": "2022-06-29T17:10:05.871258Z",
     "shell.execute_reply": "2022-06-29T17:10:05.870369Z"
    },
    "papermill": {
     "duration": 0.238201,
     "end_time": "2022-06-29T17:10:05.873535",
     "exception": false,
     "start_time": "2022-06-29T17:10:05.635334",
     "status": "completed"
    },
    "tags": []
   },
   "outputs": [
    {
     "data": {
      "text/plain": [
       "<AxesSubplot:xlabel='SibSp', ylabel='count'>"
      ]
     },
     "execution_count": 12,
     "metadata": {},
     "output_type": "execute_result"
    },
    {
     "data": {
      "image/png": "[encoded data removed]",
      "text/plain": [
       "<Figure size 432x288 with 1 Axes>"
      ]
     },
     "metadata": {},
     "output_type": "display_data"
    }
   ],
   "source": [
    "sns.countplot(x='SibSp',data=train)"
   ]
  },
  {
   "cell_type": "code",
   "execution_count": 13,
   "id": "f5343f48",
   "metadata": {
    "execution": {
     "iopub.execute_input": "2022-06-29T17:10:05.905952Z",
     "iopub.status.busy": "2022-06-29T17:10:05.905379Z",
     "iopub.status.idle": "2022-06-29T17:10:06.124871Z",
     "shell.execute_reply": "2022-06-29T17:10:06.124036Z"
    },
    "papermill": {
     "duration": 0.238203,
     "end_time": "2022-06-29T17:10:06.126945",
     "exception": false,
     "start_time": "2022-06-29T17:10:05.888742",
     "status": "completed"
    },
    "tags": []
   },
   "outputs": [
    {
     "data": {
      "text/plain": [
       "<AxesSubplot:xlabel='Parch', ylabel='count'>"
      ]
     },
     "execution_count": 13,
     "metadata": {},
     "output_type": "execute_result"
    },
    {
     "data": {
      "image/png": "[encoded data removed]",
      "text/plain": [
       "<Figure size 432x288 with 1 Axes>"
      ]
     },
     "metadata": {},
     "output_type": "display_data"
    }
   ],
   "source": [
    "sns.countplot(x='Parch',data=train)"
   ]
  },
  {
   "cell_type": "code",
   "execution_count": 14,
   "id": "b43e31ef",
   "metadata": {
    "execution": {
     "iopub.execute_input": "2022-06-29T17:10:06.159863Z",
     "iopub.status.busy": "2022-06-29T17:10:06.159185Z",
     "iopub.status.idle": "2022-06-29T17:10:06.451037Z",
     "shell.execute_reply": "2022-06-29T17:10:06.450203Z"
    },
    "papermill": {
     "duration": 0.310763,
     "end_time": "2022-06-29T17:10:06.453192",
     "exception": false,
     "start_time": "2022-06-29T17:10:06.142429",
     "status": "completed"
    },
    "tags": []
   },
   "outputs": [
    {
     "data": {
      "text/plain": [
       "<AxesSubplot:>"
      ]
     },
     "execution_count": 14,
     "metadata": {},
     "output_type": "execute_result"
    },
    {
     "data": {
      "image/png": "[encoded data removed]",
      "text/plain": [
       "<Figure size 576x288 with 1 Axes>"
      ]
     },
     "metadata": {},
     "output_type": "display_data"
    }
   ],
   "source": [
    "train['Fare'].hist(color='green',bins=40,figsize=(8,4))"
   ]
  },
  {
   "cell_type": "markdown",
   "id": "bf74e9f8",
   "metadata": {
    "papermill": {
     "duration": 0.015851,
     "end_time": "2022-06-29T17:10:06.485597",
     "exception": false,
     "start_time": "2022-06-29T17:10:06.469746",
     "status": "completed"
    },
    "tags": []
   },
   "source": [
    "## Clean data"
   ]
  },
  {
   "cell_type": "code",
   "execution_count": 15,
   "id": "4503c6dd",
   "metadata": {
    "execution": {
     "iopub.execute_input": "2022-06-29T17:10:06.522447Z",
     "iopub.status.busy": "2022-06-29T17:10:06.521722Z",
     "iopub.status.idle": "2022-06-29T17:10:06.757198Z",
     "shell.execute_reply": "2022-06-29T17:10:06.756080Z"
    },
    "papermill": {
     "duration": 0.257196,
     "end_time": "2022-06-29T17:10:06.759624",
     "exception": false,
     "start_time": "2022-06-29T17:10:06.502428",
     "status": "completed"
    },
    "tags": []
   },
   "outputs": [
    {
     "data": {
      "text/plain": [
       "<AxesSubplot:xlabel='Pclass', ylabel='Age'>"
      ]
     },
     "execution_count": 15,
     "metadata": {},
     "output_type": "execute_result"
    },
    {
     "data": {
      "image/png": "[encoded data removed]",
      "text/plain": [
       "<Figure size 864x504 with 1 Axes>"
      ]
     },
     "metadata": {},
     "output_type": "display_data"
    }
   ],
   "source": [
    "plt.figure(figsize=(12, 7))\n",
    "sns.boxplot(x='Pclass',y='Age',data=train,palette='winter')"
   ]
  },
  {
   "cell_type": "code",
   "execution_count": 16,
   "id": "3d4222b5",
   "metadata": {
    "execution": {
     "iopub.execute_input": "2022-06-29T17:10:06.798882Z",
     "iopub.status.busy": "2022-06-29T17:10:06.797893Z",
     "iopub.status.idle": "2022-06-29T17:10:06.804290Z",
     "shell.execute_reply": "2022-06-29T17:10:06.803128Z"
    },
    "papermill": {
     "duration": 0.028535,
     "end_time": "2022-06-29T17:10:06.806846",
     "exception": false,
     "start_time": "2022-06-29T17:10:06.778311",
     "status": "completed"
    },
    "tags": []
   },
   "outputs": [],
   "source": [
    "fil_no_null = pd.notnull(train['Age'])\n",
    "edades = train[fil_no_null]"
   ]
  },
  {
   "cell_type": "code",
   "execution_count": 17,
   "id": "f67625c9",
   "metadata": {
    "execution": {
     "iopub.execute_input": "2022-06-29T17:10:06.843127Z",
     "iopub.status.busy": "2022-06-29T17:10:06.842546Z",
     "iopub.status.idle": "2022-06-29T17:10:06.868349Z",
     "shell.execute_reply": "2022-06-29T17:10:06.866918Z"
    },
    "papermill": {
     "duration": 0.046785,
     "end_time": "2022-06-29T17:10:06.870775",
     "exception": false,
     "start_time": "2022-06-29T17:10:06.823990",
     "status": "completed"
    },
    "tags": []
   },
   "outputs": [
    {
     "data": {
      "text/html": [
       "<div>\n",
       "<style scoped>\n",
       "    .dataframe tbody tr th:only-of-type {\n",
       "        vertical-align: middle;\n",
       "    }\n",
       "\n",
       "    .dataframe tbody tr th {\n",
       "        vertical-align: top;\n",
       "    }\n",
       "\n",
       "    .dataframe thead th {\n",
       "        text-align: right;\n",
       "    }\n",
       "</style>\n",
       "<table border=\"1\" class=\"dataframe\">\n",
       "  <thead>\n",
       "    <tr style=\"text-align: right;\">\n",
       "      <th></th>\n",
       "      <th>PassengerId</th>\n",
       "      <th>Survived</th>\n",
       "      <th>Pclass</th>\n",
       "      <th>Name</th>\n",
       "      <th>Sex</th>\n",
       "      <th>Age</th>\n",
       "      <th>SibSp</th>\n",
       "      <th>Parch</th>\n",
       "      <th>Ticket</th>\n",
       "      <th>Fare</th>\n",
       "      <th>Cabin</th>\n",
       "      <th>Embarked</th>\n",
       "    </tr>\n",
       "  </thead>\n",
       "  <tbody>\n",
       "    <tr>\n",
       "      <th>1</th>\n",
       "      <td>2</td>\n",
       "      <td>1</td>\n",
       "      <td>1</td>\n",
       "      <td>Cumings, Mrs. John Bradley (Florence Briggs Th...</td>\n",
       "      <td>female</td>\n",
       "      <td>38.0</td>\n",
       "      <td>1</td>\n",
       "      <td>0</td>\n",
       "      <td>PC 17599</td>\n",
       "      <td>71.2833</td>\n",
       "      <td>C85</td>\n",
       "      <td>C</td>\n",
       "    </tr>\n",
       "    <tr>\n",
       "      <th>3</th>\n",
       "      <td>4</td>\n",
       "      <td>1</td>\n",
       "      <td>1</td>\n",
       "      <td>Futrelle, Mrs. Jacques Heath (Lily May Peel)</td>\n",
       "      <td>female</td>\n",
       "      <td>35.0</td>\n",
       "      <td>1</td>\n",
       "      <td>0</td>\n",
       "      <td>113803</td>\n",
       "      <td>53.1000</td>\n",
       "      <td>C123</td>\n",
       "      <td>S</td>\n",
       "    </tr>\n",
       "    <tr>\n",
       "      <th>6</th>\n",
       "      <td>7</td>\n",
       "      <td>0</td>\n",
       "      <td>1</td>\n",
       "      <td>McCarthy, Mr. Timothy J</td>\n",
       "      <td>male</td>\n",
       "      <td>54.0</td>\n",
       "      <td>0</td>\n",
       "      <td>0</td>\n",
       "      <td>17463</td>\n",
       "      <td>51.8625</td>\n",
       "      <td>E46</td>\n",
       "      <td>S</td>\n",
       "    </tr>\n",
       "    <tr>\n",
       "      <th>11</th>\n",
       "      <td>12</td>\n",
       "      <td>1</td>\n",
       "      <td>1</td>\n",
       "      <td>Bonnell, Miss. Elizabeth</td>\n",
       "      <td>female</td>\n",
       "      <td>58.0</td>\n",
       "      <td>0</td>\n",
       "      <td>0</td>\n",
       "      <td>113783</td>\n",
       "      <td>26.5500</td>\n",
       "      <td>C103</td>\n",
       "      <td>S</td>\n",
       "    </tr>\n",
       "    <tr>\n",
       "      <th>23</th>\n",
       "      <td>24</td>\n",
       "      <td>1</td>\n",
       "      <td>1</td>\n",
       "      <td>Sloper, Mr. William Thompson</td>\n",
       "      <td>male</td>\n",
       "      <td>28.0</td>\n",
       "      <td>0</td>\n",
       "      <td>0</td>\n",
       "      <td>113788</td>\n",
       "      <td>35.5000</td>\n",
       "      <td>A6</td>\n",
       "      <td>S</td>\n",
       "    </tr>\n",
       "    <tr>\n",
       "      <th>...</th>\n",
       "      <td>...</td>\n",
       "      <td>...</td>\n",
       "      <td>...</td>\n",
       "      <td>...</td>\n",
       "      <td>...</td>\n",
       "      <td>...</td>\n",
       "      <td>...</td>\n",
       "      <td>...</td>\n",
       "      <td>...</td>\n",
       "      <td>...</td>\n",
       "      <td>...</td>\n",
       "      <td>...</td>\n",
       "    </tr>\n",
       "    <tr>\n",
       "      <th>871</th>\n",
       "      <td>872</td>\n",
       "      <td>1</td>\n",
       "      <td>1</td>\n",
       "      <td>Beckwith, Mrs. Richard Leonard (Sallie Monypeny)</td>\n",
       "      <td>female</td>\n",
       "      <td>47.0</td>\n",
       "      <td>1</td>\n",
       "      <td>1</td>\n",
       "      <td>11751</td>\n",
       "      <td>52.5542</td>\n",
       "      <td>D35</td>\n",
       "      <td>S</td>\n",
       "    </tr>\n",
       "    <tr>\n",
       "      <th>872</th>\n",
       "      <td>873</td>\n",
       "      <td>0</td>\n",
       "      <td>1</td>\n",
       "      <td>Carlsson, Mr. Frans Olof</td>\n",
       "      <td>male</td>\n",
       "      <td>33.0</td>\n",
       "      <td>0</td>\n",
       "      <td>0</td>\n",
       "      <td>695</td>\n",
       "      <td>5.0000</td>\n",
       "      <td>B51 B53 B55</td>\n",
       "      <td>S</td>\n",
       "    </tr>\n",
       "    <tr>\n",
       "      <th>879</th>\n",
       "      <td>880</td>\n",
       "      <td>1</td>\n",
       "      <td>1</td>\n",
       "      <td>Potter, Mrs. Thomas Jr (Lily Alexenia Wilson)</td>\n",
       "      <td>female</td>\n",
       "      <td>56.0</td>\n",
       "      <td>0</td>\n",
       "      <td>1</td>\n",
       "      <td>11767</td>\n",
       "      <td>83.1583</td>\n",
       "      <td>C50</td>\n",
       "      <td>C</td>\n",
       "    </tr>\n",
       "    <tr>\n",
       "      <th>887</th>\n",
       "      <td>888</td>\n",
       "      <td>1</td>\n",
       "      <td>1</td>\n",
       "      <td>Graham, Miss. Margaret Edith</td>\n",
       "      <td>female</td>\n",
       "      <td>19.0</td>\n",
       "      <td>0</td>\n",
       "      <td>0</td>\n",
       "      <td>112053</td>\n",
       "      <td>30.0000</td>\n",
       "      <td>B42</td>\n",
       "      <td>S</td>\n",
       "    </tr>\n",
       "    <tr>\n",
       "      <th>889</th>\n",
       "      <td>890</td>\n",
       "      <td>1</td>\n",
       "      <td>1</td>\n",
       "      <td>Behr, Mr. Karl Howell</td>\n",
       "      <td>male</td>\n",
       "      <td>26.0</td>\n",
       "      <td>0</td>\n",
       "      <td>0</td>\n",
       "      <td>111369</td>\n",
       "      <td>30.0000</td>\n",
       "      <td>C148</td>\n",
       "      <td>C</td>\n",
       "    </tr>\n",
       "  </tbody>\n",
       "</table>\n",
       "<p>186 rows × 12 columns</p>\n",
       "</div>"
      ],
      "text/plain": [
       "     PassengerId  Survived  Pclass  \\\n",
       "1              2         1       1   \n",
       "3              4         1       1   \n",
       "6              7         0       1   \n",
       "11            12         1       1   \n",
       "23            24         1       1   \n",
       "..           ...       ...     ...   \n",
       "871          872         1       1   \n",
       "872          873         0       1   \n",
       "879          880         1       1   \n",
       "887          888         1       1   \n",
       "889          890         1       1   \n",
       "\n",
       "                                                  Name     Sex   Age  SibSp  \\\n",
       "1    Cumings, Mrs. John Bradley (Florence Briggs Th...  female  38.0      1   \n",
       "3         Futrelle, Mrs. Jacques Heath (Lily May Peel)  female  35.0      1   \n",
       "6                              McCarthy, Mr. Timothy J    male  54.0      0   \n",
       "11                            Bonnell, Miss. Elizabeth  female  58.0      0   \n",
       "23                        Sloper, Mr. William Thompson    male  28.0      0   \n",
       "..                                                 ...     ...   ...    ...   \n",
       "871   Beckwith, Mrs. Richard Leonard (Sallie Monypeny)  female  47.0      1   \n",
       "872                           Carlsson, Mr. Frans Olof    male  33.0      0   \n",
       "879      Potter, Mrs. Thomas Jr (Lily Alexenia Wilson)  female  56.0      0   \n",
       "887                       Graham, Miss. Margaret Edith  female  19.0      0   \n",
       "889                              Behr, Mr. Karl Howell    male  26.0      0   \n",
       "\n",
       "     Parch    Ticket     Fare        Cabin Embarked  \n",
       "1        0  PC 17599  71.2833          C85        C  \n",
       "3        0    113803  53.1000         C123        S  \n",
       "6        0     17463  51.8625          E46        S  \n",
       "11       0    113783  26.5500         C103        S  \n",
       "23       0    113788  35.5000           A6        S  \n",
       "..     ...       ...      ...          ...      ...  \n",
       "871      1     11751  52.5542          D35        S  \n",
       "872      0       695   5.0000  B51 B53 B55        S  \n",
       "879      1     11767  83.1583          C50        C  \n",
       "887      0    112053  30.0000          B42        S  \n",
       "889      0    111369  30.0000         C148        C  \n",
       "\n",
       "[186 rows x 12 columns]"
      ]
     },
     "execution_count": 17,
     "metadata": {},
     "output_type": "execute_result"
    }
   ],
   "source": [
    "fil_1ra = edades['Pclass'] == 1\n",
    "pas_1ra = edades[fil_1ra]\n",
    "# pasajeros de prumera clase\n",
    "pas_1ra"
   ]
  },
  {
   "cell_type": "code",
   "execution_count": 18,
   "id": "9b43ddbe",
   "metadata": {
    "execution": {
     "iopub.execute_input": "2022-06-29T17:10:06.906858Z",
     "iopub.status.busy": "2022-06-29T17:10:06.906326Z",
     "iopub.status.idle": "2022-06-29T17:10:06.914653Z",
     "shell.execute_reply": "2022-06-29T17:10:06.913261Z"
    },
    "papermill": {
     "duration": 0.029445,
     "end_time": "2022-06-29T17:10:06.917000",
     "exception": false,
     "start_time": "2022-06-29T17:10:06.887555",
     "status": "completed"
    },
    "tags": []
   },
   "outputs": [
    {
     "data": {
      "text/plain": [
       "38.233440860215055"
      ]
     },
     "execution_count": 18,
     "metadata": {},
     "output_type": "execute_result"
    }
   ],
   "source": [
    "# Promedio de edades\n",
    "pas_1ra['Age'].mean()"
   ]
  },
  {
   "cell_type": "code",
   "execution_count": 19,
   "id": "5aa1c09f",
   "metadata": {
    "execution": {
     "iopub.execute_input": "2022-06-29T17:10:06.952716Z",
     "iopub.status.busy": "2022-06-29T17:10:06.952063Z",
     "iopub.status.idle": "2022-06-29T17:10:06.965383Z",
     "shell.execute_reply": "2022-06-29T17:10:06.964351Z"
    },
    "papermill": {
     "duration": 0.033398,
     "end_time": "2022-06-29T17:10:06.967432",
     "exception": false,
     "start_time": "2022-06-29T17:10:06.934034",
     "status": "completed"
    },
    "tags": []
   },
   "outputs": [
    {
     "data": {
      "text/html": [
       "<div>\n",
       "<style scoped>\n",
       "    .dataframe tbody tr th:only-of-type {\n",
       "        vertical-align: middle;\n",
       "    }\n",
       "\n",
       "    .dataframe tbody tr th {\n",
       "        vertical-align: top;\n",
       "    }\n",
       "\n",
       "    .dataframe thead th {\n",
       "        text-align: right;\n",
       "    }\n",
       "</style>\n",
       "<table border=\"1\" class=\"dataframe\">\n",
       "  <thead>\n",
       "    <tr style=\"text-align: right;\">\n",
       "      <th></th>\n",
       "      <th>Age</th>\n",
       "    </tr>\n",
       "  </thead>\n",
       "  <tbody>\n",
       "    <tr>\n",
       "      <th>0.25</th>\n",
       "      <td>27.0</td>\n",
       "    </tr>\n",
       "    <tr>\n",
       "      <th>0.50</th>\n",
       "      <td>37.0</td>\n",
       "    </tr>\n",
       "    <tr>\n",
       "      <th>0.75</th>\n",
       "      <td>49.0</td>\n",
       "    </tr>\n",
       "  </tbody>\n",
       "</table>\n",
       "</div>"
      ],
      "text/plain": [
       "       Age\n",
       "0.25  27.0\n",
       "0.50  37.0\n",
       "0.75  49.0"
      ]
     },
     "execution_count": 19,
     "metadata": {},
     "output_type": "execute_result"
    }
   ],
   "source": [
    "pas_1ra[['Age']].quantile([0.25, 0.5, 0.75])"
   ]
  },
  {
   "cell_type": "code",
   "execution_count": 20,
   "id": "fc2850a4",
   "metadata": {
    "execution": {
     "iopub.execute_input": "2022-06-29T17:10:07.004210Z",
     "iopub.status.busy": "2022-06-29T17:10:07.003815Z",
     "iopub.status.idle": "2022-06-29T17:10:07.012506Z",
     "shell.execute_reply": "2022-06-29T17:10:07.011377Z"
    },
    "papermill": {
     "duration": 0.029923,
     "end_time": "2022-06-29T17:10:07.014808",
     "exception": false,
     "start_time": "2022-06-29T17:10:06.984885",
     "status": "completed"
    },
    "tags": []
   },
   "outputs": [
    {
     "data": {
      "text/plain": [
       "29.87763005780347"
      ]
     },
     "execution_count": 20,
     "metadata": {},
     "output_type": "execute_result"
    }
   ],
   "source": [
    "fil_2da = edades['Pclass'] == 2\n",
    "pas_2da = edades[fil_2da]\n",
    "# pasajeros de prumera clase\n",
    "pas_2da['Age'].mean()"
   ]
  },
  {
   "cell_type": "code",
   "execution_count": 21,
   "id": "0ded6078",
   "metadata": {
    "execution": {
     "iopub.execute_input": "2022-06-29T17:10:07.052439Z",
     "iopub.status.busy": "2022-06-29T17:10:07.052023Z",
     "iopub.status.idle": "2022-06-29T17:10:07.063878Z",
     "shell.execute_reply": "2022-06-29T17:10:07.062710Z"
    },
    "papermill": {
     "duration": 0.034003,
     "end_time": "2022-06-29T17:10:07.066402",
     "exception": false,
     "start_time": "2022-06-29T17:10:07.032399",
     "status": "completed"
    },
    "tags": []
   },
   "outputs": [
    {
     "data": {
      "text/html": [
       "<div>\n",
       "<style scoped>\n",
       "    .dataframe tbody tr th:only-of-type {\n",
       "        vertical-align: middle;\n",
       "    }\n",
       "\n",
       "    .dataframe tbody tr th {\n",
       "        vertical-align: top;\n",
       "    }\n",
       "\n",
       "    .dataframe thead th {\n",
       "        text-align: right;\n",
       "    }\n",
       "</style>\n",
       "<table border=\"1\" class=\"dataframe\">\n",
       "  <thead>\n",
       "    <tr style=\"text-align: right;\">\n",
       "      <th></th>\n",
       "      <th>Age</th>\n",
       "    </tr>\n",
       "  </thead>\n",
       "  <tbody>\n",
       "    <tr>\n",
       "      <th>0.25</th>\n",
       "      <td>23.0</td>\n",
       "    </tr>\n",
       "    <tr>\n",
       "      <th>0.50</th>\n",
       "      <td>29.0</td>\n",
       "    </tr>\n",
       "    <tr>\n",
       "      <th>0.75</th>\n",
       "      <td>36.0</td>\n",
       "    </tr>\n",
       "  </tbody>\n",
       "</table>\n",
       "</div>"
      ],
      "text/plain": [
       "       Age\n",
       "0.25  23.0\n",
       "0.50  29.0\n",
       "0.75  36.0"
      ]
     },
     "execution_count": 21,
     "metadata": {},
     "output_type": "execute_result"
    }
   ],
   "source": [
    "pas_2da[['Age']].quantile([0.25, 0.5, 0.75])"
   ]
  },
  {
   "cell_type": "code",
   "execution_count": 22,
   "id": "dd25f1b4",
   "metadata": {
    "execution": {
     "iopub.execute_input": "2022-06-29T17:10:07.104948Z",
     "iopub.status.busy": "2022-06-29T17:10:07.103725Z",
     "iopub.status.idle": "2022-06-29T17:10:07.113467Z",
     "shell.execute_reply": "2022-06-29T17:10:07.112453Z"
    },
    "papermill": {
     "duration": 0.031175,
     "end_time": "2022-06-29T17:10:07.115709",
     "exception": false,
     "start_time": "2022-06-29T17:10:07.084534",
     "status": "completed"
    },
    "tags": []
   },
   "outputs": [
    {
     "data": {
      "text/plain": [
       "25.14061971830986"
      ]
     },
     "execution_count": 22,
     "metadata": {},
     "output_type": "execute_result"
    }
   ],
   "source": [
    "fil_3ra = edades['Pclass'] == 3\n",
    "pas_3ra = edades[fil_3ra]\n",
    "# pasajeros de prumera clase\n",
    "pas_3ra['Age'].mean()"
   ]
  },
  {
   "cell_type": "code",
   "execution_count": 23,
   "id": "d84c06e9",
   "metadata": {
    "execution": {
     "iopub.execute_input": "2022-06-29T17:10:07.153360Z",
     "iopub.status.busy": "2022-06-29T17:10:07.152567Z",
     "iopub.status.idle": "2022-06-29T17:10:07.166442Z",
     "shell.execute_reply": "2022-06-29T17:10:07.165585Z"
    },
    "papermill": {
     "duration": 0.035639,
     "end_time": "2022-06-29T17:10:07.168697",
     "exception": false,
     "start_time": "2022-06-29T17:10:07.133058",
     "status": "completed"
    },
    "tags": []
   },
   "outputs": [
    {
     "data": {
      "text/html": [
       "<div>\n",
       "<style scoped>\n",
       "    .dataframe tbody tr th:only-of-type {\n",
       "        vertical-align: middle;\n",
       "    }\n",
       "\n",
       "    .dataframe tbody tr th {\n",
       "        vertical-align: top;\n",
       "    }\n",
       "\n",
       "    .dataframe thead th {\n",
       "        text-align: right;\n",
       "    }\n",
       "</style>\n",
       "<table border=\"1\" class=\"dataframe\">\n",
       "  <thead>\n",
       "    <tr style=\"text-align: right;\">\n",
       "      <th></th>\n",
       "      <th>Age</th>\n",
       "    </tr>\n",
       "  </thead>\n",
       "  <tbody>\n",
       "    <tr>\n",
       "      <th>0.25</th>\n",
       "      <td>18.0</td>\n",
       "    </tr>\n",
       "    <tr>\n",
       "      <th>0.50</th>\n",
       "      <td>24.0</td>\n",
       "    </tr>\n",
       "    <tr>\n",
       "      <th>0.75</th>\n",
       "      <td>32.0</td>\n",
       "    </tr>\n",
       "  </tbody>\n",
       "</table>\n",
       "</div>"
      ],
      "text/plain": [
       "       Age\n",
       "0.25  18.0\n",
       "0.50  24.0\n",
       "0.75  32.0"
      ]
     },
     "execution_count": 23,
     "metadata": {},
     "output_type": "execute_result"
    }
   ],
   "source": [
    "pas_3ra[['Age']].quantile([0.25, 0.5, 0.75])"
   ]
  },
  {
   "cell_type": "code",
   "execution_count": 24,
   "id": "30e5e1b8",
   "metadata": {
    "execution": {
     "iopub.execute_input": "2022-06-29T17:10:07.206441Z",
     "iopub.status.busy": "2022-06-29T17:10:07.205313Z",
     "iopub.status.idle": "2022-06-29T17:10:07.211527Z",
     "shell.execute_reply": "2022-06-29T17:10:07.210664Z"
    },
    "papermill": {
     "duration": 0.02738,
     "end_time": "2022-06-29T17:10:07.213829",
     "exception": false,
     "start_time": "2022-06-29T17:10:07.186449",
     "status": "completed"
    },
    "tags": []
   },
   "outputs": [],
   "source": [
    "# Imputar datos de la clase a partir de la mediana de la edad\n",
    "def imputar_edad(cols):\n",
    "    Age = cols[0]\n",
    "    Pclass = cols[1]\n",
    "    \n",
    "    if pd.isnull(Age):\n",
    "\n",
    "        if Pclass == 1:\n",
    "            return 37\n",
    "\n",
    "        elif Pclass == 2:\n",
    "            return 29\n",
    "\n",
    "        else:\n",
    "            return 24\n",
    "\n",
    "    else:\n",
    "        return Age"
   ]
  },
  {
   "cell_type": "code",
   "execution_count": 25,
   "id": "41df3af8",
   "metadata": {
    "execution": {
     "iopub.execute_input": "2022-06-29T17:10:07.252026Z",
     "iopub.status.busy": "2022-06-29T17:10:07.251326Z",
     "iopub.status.idle": "2022-06-29T17:10:07.272644Z",
     "shell.execute_reply": "2022-06-29T17:10:07.271529Z"
    },
    "papermill": {
     "duration": 0.043121,
     "end_time": "2022-06-29T17:10:07.275033",
     "exception": false,
     "start_time": "2022-06-29T17:10:07.231912",
     "status": "completed"
    },
    "tags": []
   },
   "outputs": [],
   "source": [
    "train['Age'] = train[['Age','Pclass']].apply(imputar_edad,axis=1)"
   ]
  },
  {
   "cell_type": "code",
   "execution_count": 26,
   "id": "b4bc3ecd",
   "metadata": {
    "execution": {
     "iopub.execute_input": "2022-06-29T17:10:07.312140Z",
     "iopub.status.busy": "2022-06-29T17:10:07.311748Z",
     "iopub.status.idle": "2022-06-29T17:10:07.550867Z",
     "shell.execute_reply": "2022-06-29T17:10:07.549808Z"
    },
    "papermill": {
     "duration": 0.260655,
     "end_time": "2022-06-29T17:10:07.553337",
     "exception": false,
     "start_time": "2022-06-29T17:10:07.292682",
     "status": "completed"
    },
    "tags": []
   },
   "outputs": [
    {
     "data": {
      "text/plain": [
       "<AxesSubplot:>"
      ]
     },
     "execution_count": 26,
     "metadata": {},
     "output_type": "execute_result"
    },
    {
     "data": {
      "image/png": "[encoded data removed]",
      "text/plain": [
       "<Figure size 432x288 with 1 Axes>"
      ]
     },
     "metadata": {},
     "output_type": "display_data"
    }
   ],
   "source": [
    "sns.heatmap(train.isnull(),yticklabels=False,cbar=False,cmap='viridis')"
   ]
  },
  {
   "cell_type": "code",
   "execution_count": 27,
   "id": "6e08041d",
   "metadata": {
    "execution": {
     "iopub.execute_input": "2022-06-29T17:10:07.597488Z",
     "iopub.status.busy": "2022-06-29T17:10:07.596805Z",
     "iopub.status.idle": "2022-06-29T17:10:07.611859Z",
     "shell.execute_reply": "2022-06-29T17:10:07.610097Z"
    },
    "papermill": {
     "duration": 0.042886,
     "end_time": "2022-06-29T17:10:07.614672",
     "exception": false,
     "start_time": "2022-06-29T17:10:07.571786",
     "status": "completed"
    },
    "tags": []
   },
   "outputs": [
    {
     "name": "stdout",
     "output_type": "stream",
     "text": [
      "<class 'pandas.core.frame.DataFrame'>\n",
      "RangeIndex: 891 entries, 0 to 890\n",
      "Data columns (total 12 columns):\n",
      " #   Column       Non-Null Count  Dtype  \n",
      "---  ------       --------------  -----  \n",
      " 0   PassengerId  891 non-null    int64  \n",
      " 1   Survived     891 non-null    int64  \n",
      " 2   Pclass       891 non-null    int64  \n",
      " 3   Name         891 non-null    object \n",
      " 4   Sex          891 non-null    object \n",
      " 5   Age          891 non-null    float64\n",
      " 6   SibSp        891 non-null    int64  \n",
      " 7   Parch        891 non-null    int64  \n",
      " 8   Ticket       891 non-null    object \n",
      " 9   Fare         891 non-null    float64\n",
      " 10  Cabin        204 non-null    object \n",
      " 11  Embarked     889 non-null    object \n",
      "dtypes: float64(2), int64(5), object(5)\n",
      "memory usage: 83.7+ KB\n"
     ]
    }
   ],
   "source": [
    "train.info()"
   ]
  },
  {
   "cell_type": "code",
   "execution_count": 28,
   "id": "ed593936",
   "metadata": {
    "execution": {
     "iopub.execute_input": "2022-06-29T17:10:07.654453Z",
     "iopub.status.busy": "2022-06-29T17:10:07.654046Z",
     "iopub.status.idle": "2022-06-29T17:10:07.660861Z",
     "shell.execute_reply": "2022-06-29T17:10:07.659736Z"
    },
    "papermill": {
     "duration": 0.029385,
     "end_time": "2022-06-29T17:10:07.663127",
     "exception": false,
     "start_time": "2022-06-29T17:10:07.633742",
     "status": "completed"
    },
    "tags": []
   },
   "outputs": [],
   "source": [
    "# Elimina la columna cabina\n",
    "# inplace: toma efecto sobre el mismo dataFrame\n",
    "train.drop('Cabin',axis=1,inplace=True)"
   ]
  },
  {
   "cell_type": "code",
   "execution_count": 29,
   "id": "b340b33b",
   "metadata": {
    "execution": {
     "iopub.execute_input": "2022-06-29T17:10:07.702803Z",
     "iopub.status.busy": "2022-06-29T17:10:07.702126Z",
     "iopub.status.idle": "2022-06-29T17:10:07.718697Z",
     "shell.execute_reply": "2022-06-29T17:10:07.717610Z"
    },
    "papermill": {
     "duration": 0.038802,
     "end_time": "2022-06-29T17:10:07.721006",
     "exception": false,
     "start_time": "2022-06-29T17:10:07.682204",
     "status": "completed"
    },
    "tags": []
   },
   "outputs": [
    {
     "data": {
      "text/html": [
       "<div>\n",
       "<style scoped>\n",
       "    .dataframe tbody tr th:only-of-type {\n",
       "        vertical-align: middle;\n",
       "    }\n",
       "\n",
       "    .dataframe tbody tr th {\n",
       "        vertical-align: top;\n",
       "    }\n",
       "\n",
       "    .dataframe thead th {\n",
       "        text-align: right;\n",
       "    }\n",
       "</style>\n",
       "<table border=\"1\" class=\"dataframe\">\n",
       "  <thead>\n",
       "    <tr style=\"text-align: right;\">\n",
       "      <th></th>\n",
       "      <th>PassengerId</th>\n",
       "      <th>Survived</th>\n",
       "      <th>Pclass</th>\n",
       "      <th>Name</th>\n",
       "      <th>Sex</th>\n",
       "      <th>Age</th>\n",
       "      <th>SibSp</th>\n",
       "      <th>Parch</th>\n",
       "      <th>Ticket</th>\n",
       "      <th>Fare</th>\n",
       "      <th>Embarked</th>\n",
       "    </tr>\n",
       "  </thead>\n",
       "  <tbody>\n",
       "    <tr>\n",
       "      <th>0</th>\n",
       "      <td>1</td>\n",
       "      <td>0</td>\n",
       "      <td>3</td>\n",
       "      <td>Braund, Mr. Owen Harris</td>\n",
       "      <td>male</td>\n",
       "      <td>22.0</td>\n",
       "      <td>1</td>\n",
       "      <td>0</td>\n",
       "      <td>A/5 21171</td>\n",
       "      <td>7.2500</td>\n",
       "      <td>S</td>\n",
       "    </tr>\n",
       "    <tr>\n",
       "      <th>1</th>\n",
       "      <td>2</td>\n",
       "      <td>1</td>\n",
       "      <td>1</td>\n",
       "      <td>Cumings, Mrs. John Bradley (Florence Briggs Th...</td>\n",
       "      <td>female</td>\n",
       "      <td>38.0</td>\n",
       "      <td>1</td>\n",
       "      <td>0</td>\n",
       "      <td>PC 17599</td>\n",
       "      <td>71.2833</td>\n",
       "      <td>C</td>\n",
       "    </tr>\n",
       "    <tr>\n",
       "      <th>2</th>\n",
       "      <td>3</td>\n",
       "      <td>1</td>\n",
       "      <td>3</td>\n",
       "      <td>Heikkinen, Miss. Laina</td>\n",
       "      <td>female</td>\n",
       "      <td>26.0</td>\n",
       "      <td>0</td>\n",
       "      <td>0</td>\n",
       "      <td>STON/O2. 3101282</td>\n",
       "      <td>7.9250</td>\n",
       "      <td>S</td>\n",
       "    </tr>\n",
       "    <tr>\n",
       "      <th>3</th>\n",
       "      <td>4</td>\n",
       "      <td>1</td>\n",
       "      <td>1</td>\n",
       "      <td>Futrelle, Mrs. Jacques Heath (Lily May Peel)</td>\n",
       "      <td>female</td>\n",
       "      <td>35.0</td>\n",
       "      <td>1</td>\n",
       "      <td>0</td>\n",
       "      <td>113803</td>\n",
       "      <td>53.1000</td>\n",
       "      <td>S</td>\n",
       "    </tr>\n",
       "    <tr>\n",
       "      <th>4</th>\n",
       "      <td>5</td>\n",
       "      <td>0</td>\n",
       "      <td>3</td>\n",
       "      <td>Allen, Mr. William Henry</td>\n",
       "      <td>male</td>\n",
       "      <td>35.0</td>\n",
       "      <td>0</td>\n",
       "      <td>0</td>\n",
       "      <td>373450</td>\n",
       "      <td>8.0500</td>\n",
       "      <td>S</td>\n",
       "    </tr>\n",
       "  </tbody>\n",
       "</table>\n",
       "</div>"
      ],
      "text/plain": [
       "   PassengerId  Survived  Pclass  \\\n",
       "0            1         0       3   \n",
       "1            2         1       1   \n",
       "2            3         1       3   \n",
       "3            4         1       1   \n",
       "4            5         0       3   \n",
       "\n",
       "                                                Name     Sex   Age  SibSp  \\\n",
       "0                            Braund, Mr. Owen Harris    male  22.0      1   \n",
       "1  Cumings, Mrs. John Bradley (Florence Briggs Th...  female  38.0      1   \n",
       "2                             Heikkinen, Miss. Laina  female  26.0      0   \n",
       "3       Futrelle, Mrs. Jacques Heath (Lily May Peel)  female  35.0      1   \n",
       "4                           Allen, Mr. William Henry    male  35.0      0   \n",
       "\n",
       "   Parch            Ticket     Fare Embarked  \n",
       "0      0         A/5 21171   7.2500        S  \n",
       "1      0          PC 17599  71.2833        C  \n",
       "2      0  STON/O2. 3101282   7.9250        S  \n",
       "3      0            113803  53.1000        S  \n",
       "4      0            373450   8.0500        S  "
      ]
     },
     "execution_count": 29,
     "metadata": {},
     "output_type": "execute_result"
    }
   ],
   "source": [
    "train.head()"
   ]
  },
  {
   "cell_type": "code",
   "execution_count": 30,
   "id": "b6c50e60",
   "metadata": {
    "execution": {
     "iopub.execute_input": "2022-06-29T17:10:07.760792Z",
     "iopub.status.busy": "2022-06-29T17:10:07.760395Z",
     "iopub.status.idle": "2022-06-29T17:10:07.988105Z",
     "shell.execute_reply": "2022-06-29T17:10:07.987327Z"
    },
    "papermill": {
     "duration": 0.250016,
     "end_time": "2022-06-29T17:10:07.990319",
     "exception": false,
     "start_time": "2022-06-29T17:10:07.740303",
     "status": "completed"
    },
    "tags": []
   },
   "outputs": [
    {
     "data": {
      "text/plain": [
       "<AxesSubplot:>"
      ]
     },
     "execution_count": 30,
     "metadata": {},
     "output_type": "execute_result"
    },
    {
     "data": {
      "image/png": "[encoded data removed]",
      "text/plain": [
       "<Figure size 432x288 with 1 Axes>"
      ]
     },
     "metadata": {},
     "output_type": "display_data"
    }
   ],
   "source": [
    "sns.heatmap(train.isnull(),yticklabels=False,cbar=False,cmap='viridis')"
   ]
  },
  {
   "cell_type": "code",
   "execution_count": 31,
   "id": "316f0bb5",
   "metadata": {
    "execution": {
     "iopub.execute_input": "2022-06-29T17:10:08.030427Z",
     "iopub.status.busy": "2022-06-29T17:10:08.029418Z",
     "iopub.status.idle": "2022-06-29T17:10:08.036746Z",
     "shell.execute_reply": "2022-06-29T17:10:08.035895Z"
    },
    "papermill": {
     "duration": 0.029872,
     "end_time": "2022-06-29T17:10:08.039097",
     "exception": false,
     "start_time": "2022-06-29T17:10:08.009225",
     "status": "completed"
    },
    "tags": []
   },
   "outputs": [],
   "source": [
    "# Elimina finas con datos faltantes\n",
    "train.dropna(inplace=True)"
   ]
  },
  {
   "cell_type": "code",
   "execution_count": 32,
   "id": "9c6c6f4c",
   "metadata": {
    "execution": {
     "iopub.execute_input": "2022-06-29T17:10:08.081919Z",
     "iopub.status.busy": "2022-06-29T17:10:08.080806Z",
     "iopub.status.idle": "2022-06-29T17:10:08.305189Z",
     "shell.execute_reply": "2022-06-29T17:10:08.303996Z"
    },
    "papermill": {
     "duration": 0.248361,
     "end_time": "2022-06-29T17:10:08.308125",
     "exception": false,
     "start_time": "2022-06-29T17:10:08.059764",
     "status": "completed"
    },
    "tags": []
   },
   "outputs": [
    {
     "data": {
      "text/plain": [
       "<AxesSubplot:>"
      ]
     },
     "execution_count": 32,
     "metadata": {},
     "output_type": "execute_result"
    },
    {
     "data": {
      "image/png": "[encoded data removed]",
      "text/plain": [
       "<Figure size 432x288 with 1 Axes>"
      ]
     },
     "metadata": {},
     "output_type": "display_data"
    }
   ],
   "source": [
    "sns.heatmap(train.isnull(),yticklabels=False,cbar=False,cmap='viridis')"
   ]
  },
  {
   "cell_type": "markdown",
   "id": "fc769db8",
   "metadata": {
    "papermill": {
     "duration": 0.019591,
     "end_time": "2022-06-29T17:10:08.347527",
     "exception": false,
     "start_time": "2022-06-29T17:10:08.327936",
     "status": "completed"
    },
    "tags": []
   },
   "source": [
    "## Convert categoricals to dummy"
   ]
  },
  {
   "cell_type": "code",
   "execution_count": 33,
   "id": "9417378b",
   "metadata": {
    "execution": {
     "iopub.execute_input": "2022-06-29T17:10:08.392100Z",
     "iopub.status.busy": "2022-06-29T17:10:08.391623Z",
     "iopub.status.idle": "2022-06-29T17:10:08.406726Z",
     "shell.execute_reply": "2022-06-29T17:10:08.405613Z"
    },
    "papermill": {
     "duration": 0.040708,
     "end_time": "2022-06-29T17:10:08.409367",
     "exception": false,
     "start_time": "2022-06-29T17:10:08.368659",
     "status": "completed"
    },
    "tags": []
   },
   "outputs": [
    {
     "name": "stdout",
     "output_type": "stream",
     "text": [
      "<class 'pandas.core.frame.DataFrame'>\n",
      "Int64Index: 889 entries, 0 to 890\n",
      "Data columns (total 11 columns):\n",
      " #   Column       Non-Null Count  Dtype  \n",
      "---  ------       --------------  -----  \n",
      " 0   PassengerId  889 non-null    int64  \n",
      " 1   Survived     889 non-null    int64  \n",
      " 2   Pclass       889 non-null    int64  \n",
      " 3   Name         889 non-null    object \n",
      " 4   Sex          889 non-null    object \n",
      " 5   Age          889 non-null    float64\n",
      " 6   SibSp        889 non-null    int64  \n",
      " 7   Parch        889 non-null    int64  \n",
      " 8   Ticket       889 non-null    object \n",
      " 9   Fare         889 non-null    float64\n",
      " 10  Embarked     889 non-null    object \n",
      "dtypes: float64(2), int64(5), object(4)\n",
      "memory usage: 83.3+ KB\n"
     ]
    }
   ],
   "source": [
    "train.info()"
   ]
  },
  {
   "cell_type": "code",
   "execution_count": 34,
   "id": "6b9bc6eb",
   "metadata": {
    "execution": {
     "iopub.execute_input": "2022-06-29T17:10:08.452402Z",
     "iopub.status.busy": "2022-06-29T17:10:08.451725Z",
     "iopub.status.idle": "2022-06-29T17:10:08.458647Z",
     "shell.execute_reply": "2022-06-29T17:10:08.457536Z"
    },
    "papermill": {
     "duration": 0.030163,
     "end_time": "2022-06-29T17:10:08.460988",
     "exception": false,
     "start_time": "2022-06-29T17:10:08.430825",
     "status": "completed"
    },
    "tags": []
   },
   "outputs": [
    {
     "data": {
      "text/plain": [
       "array(['male', 'female'], dtype=object)"
      ]
     },
     "execution_count": 34,
     "metadata": {},
     "output_type": "execute_result"
    }
   ],
   "source": [
    "# Valores que tiene Sex\n",
    "train['Sex'].unique()"
   ]
  },
  {
   "cell_type": "code",
   "execution_count": 35,
   "id": "b32873d3",
   "metadata": {
    "execution": {
     "iopub.execute_input": "2022-06-29T17:10:08.504239Z",
     "iopub.status.busy": "2022-06-29T17:10:08.503437Z",
     "iopub.status.idle": "2022-06-29T17:10:08.512209Z",
     "shell.execute_reply": "2022-06-29T17:10:08.511051Z"
    },
    "papermill": {
     "duration": 0.033854,
     "end_time": "2022-06-29T17:10:08.514420",
     "exception": false,
     "start_time": "2022-06-29T17:10:08.480566",
     "status": "completed"
    },
    "tags": []
   },
   "outputs": [
    {
     "data": {
      "text/plain": [
       "array(['S', 'C', 'Q'], dtype=object)"
      ]
     },
     "execution_count": 35,
     "metadata": {},
     "output_type": "execute_result"
    }
   ],
   "source": [
    "# Valores que tiene Embarked\n",
    "train['Embarked'].unique()"
   ]
  },
  {
   "cell_type": "code",
   "execution_count": 36,
   "id": "99e0fb82",
   "metadata": {
    "execution": {
     "iopub.execute_input": "2022-06-29T17:10:08.555457Z",
     "iopub.status.busy": "2022-06-29T17:10:08.554823Z",
     "iopub.status.idle": "2022-06-29T17:10:08.571934Z",
     "shell.execute_reply": "2022-06-29T17:10:08.570717Z"
    },
    "papermill": {
     "duration": 0.040333,
     "end_time": "2022-06-29T17:10:08.574305",
     "exception": false,
     "start_time": "2022-06-29T17:10:08.533972",
     "status": "completed"
    },
    "tags": []
   },
   "outputs": [
    {
     "data": {
      "text/html": [
       "<div>\n",
       "<style scoped>\n",
       "    .dataframe tbody tr th:only-of-type {\n",
       "        vertical-align: middle;\n",
       "    }\n",
       "\n",
       "    .dataframe tbody tr th {\n",
       "        vertical-align: top;\n",
       "    }\n",
       "\n",
       "    .dataframe thead th {\n",
       "        text-align: right;\n",
       "    }\n",
       "</style>\n",
       "<table border=\"1\" class=\"dataframe\">\n",
       "  <thead>\n",
       "    <tr style=\"text-align: right;\">\n",
       "      <th></th>\n",
       "      <th>PassengerId</th>\n",
       "      <th>Survived</th>\n",
       "      <th>Pclass</th>\n",
       "      <th>Name</th>\n",
       "      <th>Sex</th>\n",
       "      <th>Age</th>\n",
       "      <th>SibSp</th>\n",
       "      <th>Parch</th>\n",
       "      <th>Ticket</th>\n",
       "      <th>Fare</th>\n",
       "      <th>Embarked</th>\n",
       "    </tr>\n",
       "  </thead>\n",
       "  <tbody>\n",
       "    <tr>\n",
       "      <th>0</th>\n",
       "      <td>1</td>\n",
       "      <td>0</td>\n",
       "      <td>3</td>\n",
       "      <td>Braund, Mr. Owen Harris</td>\n",
       "      <td>male</td>\n",
       "      <td>22.0</td>\n",
       "      <td>1</td>\n",
       "      <td>0</td>\n",
       "      <td>A/5 21171</td>\n",
       "      <td>7.2500</td>\n",
       "      <td>S</td>\n",
       "    </tr>\n",
       "    <tr>\n",
       "      <th>1</th>\n",
       "      <td>2</td>\n",
       "      <td>1</td>\n",
       "      <td>1</td>\n",
       "      <td>Cumings, Mrs. John Bradley (Florence Briggs Th...</td>\n",
       "      <td>female</td>\n",
       "      <td>38.0</td>\n",
       "      <td>1</td>\n",
       "      <td>0</td>\n",
       "      <td>PC 17599</td>\n",
       "      <td>71.2833</td>\n",
       "      <td>C</td>\n",
       "    </tr>\n",
       "    <tr>\n",
       "      <th>2</th>\n",
       "      <td>3</td>\n",
       "      <td>1</td>\n",
       "      <td>3</td>\n",
       "      <td>Heikkinen, Miss. Laina</td>\n",
       "      <td>female</td>\n",
       "      <td>26.0</td>\n",
       "      <td>0</td>\n",
       "      <td>0</td>\n",
       "      <td>STON/O2. 3101282</td>\n",
       "      <td>7.9250</td>\n",
       "      <td>S</td>\n",
       "    </tr>\n",
       "    <tr>\n",
       "      <th>3</th>\n",
       "      <td>4</td>\n",
       "      <td>1</td>\n",
       "      <td>1</td>\n",
       "      <td>Futrelle, Mrs. Jacques Heath (Lily May Peel)</td>\n",
       "      <td>female</td>\n",
       "      <td>35.0</td>\n",
       "      <td>1</td>\n",
       "      <td>0</td>\n",
       "      <td>113803</td>\n",
       "      <td>53.1000</td>\n",
       "      <td>S</td>\n",
       "    </tr>\n",
       "    <tr>\n",
       "      <th>4</th>\n",
       "      <td>5</td>\n",
       "      <td>0</td>\n",
       "      <td>3</td>\n",
       "      <td>Allen, Mr. William Henry</td>\n",
       "      <td>male</td>\n",
       "      <td>35.0</td>\n",
       "      <td>0</td>\n",
       "      <td>0</td>\n",
       "      <td>373450</td>\n",
       "      <td>8.0500</td>\n",
       "      <td>S</td>\n",
       "    </tr>\n",
       "  </tbody>\n",
       "</table>\n",
       "</div>"
      ],
      "text/plain": [
       "   PassengerId  Survived  Pclass  \\\n",
       "0            1         0       3   \n",
       "1            2         1       1   \n",
       "2            3         1       3   \n",
       "3            4         1       1   \n",
       "4            5         0       3   \n",
       "\n",
       "                                                Name     Sex   Age  SibSp  \\\n",
       "0                            Braund, Mr. Owen Harris    male  22.0      1   \n",
       "1  Cumings, Mrs. John Bradley (Florence Briggs Th...  female  38.0      1   \n",
       "2                             Heikkinen, Miss. Laina  female  26.0      0   \n",
       "3       Futrelle, Mrs. Jacques Heath (Lily May Peel)  female  35.0      1   \n",
       "4                           Allen, Mr. William Henry    male  35.0      0   \n",
       "\n",
       "   Parch            Ticket     Fare Embarked  \n",
       "0      0         A/5 21171   7.2500        S  \n",
       "1      0          PC 17599  71.2833        C  \n",
       "2      0  STON/O2. 3101282   7.9250        S  \n",
       "3      0            113803  53.1000        S  \n",
       "4      0            373450   8.0500        S  "
      ]
     },
     "execution_count": 36,
     "metadata": {},
     "output_type": "execute_result"
    }
   ],
   "source": [
    "train.head()"
   ]
  },
  {
   "cell_type": "code",
   "execution_count": 37,
   "id": "efc05769",
   "metadata": {
    "execution": {
     "iopub.execute_input": "2022-06-29T17:10:08.615796Z",
     "iopub.status.busy": "2022-06-29T17:10:08.615142Z",
     "iopub.status.idle": "2022-06-29T17:10:08.627643Z",
     "shell.execute_reply": "2022-06-29T17:10:08.626496Z"
    },
    "papermill": {
     "duration": 0.035928,
     "end_time": "2022-06-29T17:10:08.629896",
     "exception": false,
     "start_time": "2022-06-29T17:10:08.593968",
     "status": "completed"
    },
    "tags": []
   },
   "outputs": [
    {
     "data": {
      "text/html": [
       "<div>\n",
       "<style scoped>\n",
       "    .dataframe tbody tr th:only-of-type {\n",
       "        vertical-align: middle;\n",
       "    }\n",
       "\n",
       "    .dataframe tbody tr th {\n",
       "        vertical-align: top;\n",
       "    }\n",
       "\n",
       "    .dataframe thead th {\n",
       "        text-align: right;\n",
       "    }\n",
       "</style>\n",
       "<table border=\"1\" class=\"dataframe\">\n",
       "  <thead>\n",
       "    <tr style=\"text-align: right;\">\n",
       "      <th></th>\n",
       "      <th>female</th>\n",
       "      <th>male</th>\n",
       "    </tr>\n",
       "  </thead>\n",
       "  <tbody>\n",
       "    <tr>\n",
       "      <th>0</th>\n",
       "      <td>0</td>\n",
       "      <td>1</td>\n",
       "    </tr>\n",
       "    <tr>\n",
       "      <th>1</th>\n",
       "      <td>1</td>\n",
       "      <td>0</td>\n",
       "    </tr>\n",
       "    <tr>\n",
       "      <th>2</th>\n",
       "      <td>1</td>\n",
       "      <td>0</td>\n",
       "    </tr>\n",
       "    <tr>\n",
       "      <th>3</th>\n",
       "      <td>1</td>\n",
       "      <td>0</td>\n",
       "    </tr>\n",
       "    <tr>\n",
       "      <th>4</th>\n",
       "      <td>0</td>\n",
       "      <td>1</td>\n",
       "    </tr>\n",
       "    <tr>\n",
       "      <th>...</th>\n",
       "      <td>...</td>\n",
       "      <td>...</td>\n",
       "    </tr>\n",
       "    <tr>\n",
       "      <th>886</th>\n",
       "      <td>0</td>\n",
       "      <td>1</td>\n",
       "    </tr>\n",
       "    <tr>\n",
       "      <th>887</th>\n",
       "      <td>1</td>\n",
       "      <td>0</td>\n",
       "    </tr>\n",
       "    <tr>\n",
       "      <th>888</th>\n",
       "      <td>1</td>\n",
       "      <td>0</td>\n",
       "    </tr>\n",
       "    <tr>\n",
       "      <th>889</th>\n",
       "      <td>0</td>\n",
       "      <td>1</td>\n",
       "    </tr>\n",
       "    <tr>\n",
       "      <th>890</th>\n",
       "      <td>0</td>\n",
       "      <td>1</td>\n",
       "    </tr>\n",
       "  </tbody>\n",
       "</table>\n",
       "<p>889 rows × 2 columns</p>\n",
       "</div>"
      ],
      "text/plain": [
       "     female  male\n",
       "0         0     1\n",
       "1         1     0\n",
       "2         1     0\n",
       "3         1     0\n",
       "4         0     1\n",
       "..      ...   ...\n",
       "886       0     1\n",
       "887       1     0\n",
       "888       1     0\n",
       "889       0     1\n",
       "890       0     1\n",
       "\n",
       "[889 rows x 2 columns]"
      ]
     },
     "execution_count": 37,
     "metadata": {},
     "output_type": "execute_result"
    }
   ],
   "source": [
    "# Convertir variables dummies (0-1) crea nuevas columnas\n",
    "pd.get_dummies(train['Sex'])\n",
    "#pd.get_dummies(train['Sex'],drop_first=True)"
   ]
  },
  {
   "cell_type": "code",
   "execution_count": 38,
   "id": "e56fb697",
   "metadata": {
    "execution": {
     "iopub.execute_input": "2022-06-29T17:10:08.674630Z",
     "iopub.status.busy": "2022-06-29T17:10:08.673515Z",
     "iopub.status.idle": "2022-06-29T17:10:08.686366Z",
     "shell.execute_reply": "2022-06-29T17:10:08.685256Z"
    },
    "papermill": {
     "duration": 0.037421,
     "end_time": "2022-06-29T17:10:08.688555",
     "exception": false,
     "start_time": "2022-06-29T17:10:08.651134",
     "status": "completed"
    },
    "tags": []
   },
   "outputs": [
    {
     "data": {
      "text/html": [
       "<div>\n",
       "<style scoped>\n",
       "    .dataframe tbody tr th:only-of-type {\n",
       "        vertical-align: middle;\n",
       "    }\n",
       "\n",
       "    .dataframe tbody tr th {\n",
       "        vertical-align: top;\n",
       "    }\n",
       "\n",
       "    .dataframe thead th {\n",
       "        text-align: right;\n",
       "    }\n",
       "</style>\n",
       "<table border=\"1\" class=\"dataframe\">\n",
       "  <thead>\n",
       "    <tr style=\"text-align: right;\">\n",
       "      <th></th>\n",
       "      <th>Q</th>\n",
       "      <th>S</th>\n",
       "    </tr>\n",
       "  </thead>\n",
       "  <tbody>\n",
       "    <tr>\n",
       "      <th>0</th>\n",
       "      <td>0</td>\n",
       "      <td>1</td>\n",
       "    </tr>\n",
       "    <tr>\n",
       "      <th>1</th>\n",
       "      <td>0</td>\n",
       "      <td>0</td>\n",
       "    </tr>\n",
       "    <tr>\n",
       "      <th>2</th>\n",
       "      <td>0</td>\n",
       "      <td>1</td>\n",
       "    </tr>\n",
       "    <tr>\n",
       "      <th>3</th>\n",
       "      <td>0</td>\n",
       "      <td>1</td>\n",
       "    </tr>\n",
       "    <tr>\n",
       "      <th>4</th>\n",
       "      <td>0</td>\n",
       "      <td>1</td>\n",
       "    </tr>\n",
       "    <tr>\n",
       "      <th>...</th>\n",
       "      <td>...</td>\n",
       "      <td>...</td>\n",
       "    </tr>\n",
       "    <tr>\n",
       "      <th>886</th>\n",
       "      <td>0</td>\n",
       "      <td>1</td>\n",
       "    </tr>\n",
       "    <tr>\n",
       "      <th>887</th>\n",
       "      <td>0</td>\n",
       "      <td>1</td>\n",
       "    </tr>\n",
       "    <tr>\n",
       "      <th>888</th>\n",
       "      <td>0</td>\n",
       "      <td>1</td>\n",
       "    </tr>\n",
       "    <tr>\n",
       "      <th>889</th>\n",
       "      <td>0</td>\n",
       "      <td>0</td>\n",
       "    </tr>\n",
       "    <tr>\n",
       "      <th>890</th>\n",
       "      <td>1</td>\n",
       "      <td>0</td>\n",
       "    </tr>\n",
       "  </tbody>\n",
       "</table>\n",
       "<p>889 rows × 2 columns</p>\n",
       "</div>"
      ],
      "text/plain": [
       "     Q  S\n",
       "0    0  1\n",
       "1    0  0\n",
       "2    0  1\n",
       "3    0  1\n",
       "4    0  1\n",
       "..  .. ..\n",
       "886  0  1\n",
       "887  0  1\n",
       "888  0  1\n",
       "889  0  0\n",
       "890  1  0\n",
       "\n",
       "[889 rows x 2 columns]"
      ]
     },
     "execution_count": 38,
     "metadata": {},
     "output_type": "execute_result"
    }
   ],
   "source": [
    "pd.get_dummies(train['Embarked'],drop_first=True)"
   ]
  },
  {
   "cell_type": "code",
   "execution_count": 39,
   "id": "847e6215",
   "metadata": {
    "execution": {
     "iopub.execute_input": "2022-06-29T17:10:08.731230Z",
     "iopub.status.busy": "2022-06-29T17:10:08.730628Z",
     "iopub.status.idle": "2022-06-29T17:10:08.738503Z",
     "shell.execute_reply": "2022-06-29T17:10:08.737165Z"
    },
    "papermill": {
     "duration": 0.032223,
     "end_time": "2022-06-29T17:10:08.740923",
     "exception": false,
     "start_time": "2022-06-29T17:10:08.708700",
     "status": "completed"
    },
    "tags": []
   },
   "outputs": [],
   "source": [
    "# drop_first=True: elimina la primera columna categórica\n",
    "# crea columnas sex y embark con variables dummies\n",
    "sex = pd.get_dummies(train['Sex'],drop_first=True)\n",
    "embark = pd.get_dummies(train['Embarked'],drop_first=True)"
   ]
  },
  {
   "cell_type": "code",
   "execution_count": 40,
   "id": "b1362815",
   "metadata": {
    "execution": {
     "iopub.execute_input": "2022-06-29T17:10:08.783512Z",
     "iopub.status.busy": "2022-06-29T17:10:08.783123Z",
     "iopub.status.idle": "2022-06-29T17:10:08.788914Z",
     "shell.execute_reply": "2022-06-29T17:10:08.788172Z"
    },
    "papermill": {
     "duration": 0.029539,
     "end_time": "2022-06-29T17:10:08.790925",
     "exception": false,
     "start_time": "2022-06-29T17:10:08.761386",
     "status": "completed"
    },
    "tags": []
   },
   "outputs": [],
   "source": [
    "# Elimina 4 columnas\n",
    "train.drop(['Sex','Embarked','Name','Ticket', 'PassengerId'],axis=1,inplace=True)"
   ]
  },
  {
   "cell_type": "code",
   "execution_count": 41,
   "id": "0998647b",
   "metadata": {
    "execution": {
     "iopub.execute_input": "2022-06-29T17:10:08.834259Z",
     "iopub.status.busy": "2022-06-29T17:10:08.833396Z",
     "iopub.status.idle": "2022-06-29T17:10:08.839188Z",
     "shell.execute_reply": "2022-06-29T17:10:08.838331Z"
    },
    "papermill": {
     "duration": 0.030364,
     "end_time": "2022-06-29T17:10:08.841843",
     "exception": false,
     "start_time": "2022-06-29T17:10:08.811479",
     "status": "completed"
    },
    "tags": []
   },
   "outputs": [],
   "source": [
    "# Agrega 2 columnas, axis = 1\n",
    "train = pd.concat([train,sex,embark],axis=1)"
   ]
  },
  {
   "cell_type": "code",
   "execution_count": 42,
   "id": "403b247b",
   "metadata": {
    "execution": {
     "iopub.execute_input": "2022-06-29T17:10:08.885451Z",
     "iopub.status.busy": "2022-06-29T17:10:08.884532Z",
     "iopub.status.idle": "2022-06-29T17:10:08.896469Z",
     "shell.execute_reply": "2022-06-29T17:10:08.895377Z"
    },
    "papermill": {
     "duration": 0.036504,
     "end_time": "2022-06-29T17:10:08.898713",
     "exception": false,
     "start_time": "2022-06-29T17:10:08.862209",
     "status": "completed"
    },
    "tags": []
   },
   "outputs": [],
   "source": [
    "# Guardando datos procesados\n",
    "train.to_csv('titanic_procesado.csv')"
   ]
  },
  {
   "cell_type": "code",
   "execution_count": 43,
   "id": "364481a9",
   "metadata": {
    "execution": {
     "iopub.execute_input": "2022-06-29T17:10:08.941059Z",
     "iopub.status.busy": "2022-06-29T17:10:08.940482Z",
     "iopub.status.idle": "2022-06-29T17:10:08.956023Z",
     "shell.execute_reply": "2022-06-29T17:10:08.955232Z"
    },
    "papermill": {
     "duration": 0.039173,
     "end_time": "2022-06-29T17:10:08.958074",
     "exception": false,
     "start_time": "2022-06-29T17:10:08.918901",
     "status": "completed"
    },
    "tags": []
   },
   "outputs": [
    {
     "data": {
      "text/html": [
       "<div>\n",
       "<style scoped>\n",
       "    .dataframe tbody tr th:only-of-type {\n",
       "        vertical-align: middle;\n",
       "    }\n",
       "\n",
       "    .dataframe tbody tr th {\n",
       "        vertical-align: top;\n",
       "    }\n",
       "\n",
       "    .dataframe thead th {\n",
       "        text-align: right;\n",
       "    }\n",
       "</style>\n",
       "<table border=\"1\" class=\"dataframe\">\n",
       "  <thead>\n",
       "    <tr style=\"text-align: right;\">\n",
       "      <th></th>\n",
       "      <th>Survived</th>\n",
       "      <th>Pclass</th>\n",
       "      <th>Age</th>\n",
       "      <th>SibSp</th>\n",
       "      <th>Parch</th>\n",
       "      <th>Fare</th>\n",
       "      <th>male</th>\n",
       "      <th>Q</th>\n",
       "      <th>S</th>\n",
       "    </tr>\n",
       "  </thead>\n",
       "  <tbody>\n",
       "    <tr>\n",
       "      <th>0</th>\n",
       "      <td>0</td>\n",
       "      <td>3</td>\n",
       "      <td>22.0</td>\n",
       "      <td>1</td>\n",
       "      <td>0</td>\n",
       "      <td>7.2500</td>\n",
       "      <td>1</td>\n",
       "      <td>0</td>\n",
       "      <td>1</td>\n",
       "    </tr>\n",
       "    <tr>\n",
       "      <th>1</th>\n",
       "      <td>1</td>\n",
       "      <td>1</td>\n",
       "      <td>38.0</td>\n",
       "      <td>1</td>\n",
       "      <td>0</td>\n",
       "      <td>71.2833</td>\n",
       "      <td>0</td>\n",
       "      <td>0</td>\n",
       "      <td>0</td>\n",
       "    </tr>\n",
       "    <tr>\n",
       "      <th>2</th>\n",
       "      <td>1</td>\n",
       "      <td>3</td>\n",
       "      <td>26.0</td>\n",
       "      <td>0</td>\n",
       "      <td>0</td>\n",
       "      <td>7.9250</td>\n",
       "      <td>0</td>\n",
       "      <td>0</td>\n",
       "      <td>1</td>\n",
       "    </tr>\n",
       "    <tr>\n",
       "      <th>3</th>\n",
       "      <td>1</td>\n",
       "      <td>1</td>\n",
       "      <td>35.0</td>\n",
       "      <td>1</td>\n",
       "      <td>0</td>\n",
       "      <td>53.1000</td>\n",
       "      <td>0</td>\n",
       "      <td>0</td>\n",
       "      <td>1</td>\n",
       "    </tr>\n",
       "    <tr>\n",
       "      <th>4</th>\n",
       "      <td>0</td>\n",
       "      <td>3</td>\n",
       "      <td>35.0</td>\n",
       "      <td>0</td>\n",
       "      <td>0</td>\n",
       "      <td>8.0500</td>\n",
       "      <td>1</td>\n",
       "      <td>0</td>\n",
       "      <td>1</td>\n",
       "    </tr>\n",
       "    <tr>\n",
       "      <th>5</th>\n",
       "      <td>0</td>\n",
       "      <td>3</td>\n",
       "      <td>24.0</td>\n",
       "      <td>0</td>\n",
       "      <td>0</td>\n",
       "      <td>8.4583</td>\n",
       "      <td>1</td>\n",
       "      <td>1</td>\n",
       "      <td>0</td>\n",
       "    </tr>\n",
       "    <tr>\n",
       "      <th>6</th>\n",
       "      <td>0</td>\n",
       "      <td>1</td>\n",
       "      <td>54.0</td>\n",
       "      <td>0</td>\n",
       "      <td>0</td>\n",
       "      <td>51.8625</td>\n",
       "      <td>1</td>\n",
       "      <td>0</td>\n",
       "      <td>1</td>\n",
       "    </tr>\n",
       "    <tr>\n",
       "      <th>7</th>\n",
       "      <td>0</td>\n",
       "      <td>3</td>\n",
       "      <td>2.0</td>\n",
       "      <td>3</td>\n",
       "      <td>1</td>\n",
       "      <td>21.0750</td>\n",
       "      <td>1</td>\n",
       "      <td>0</td>\n",
       "      <td>1</td>\n",
       "    </tr>\n",
       "    <tr>\n",
       "      <th>8</th>\n",
       "      <td>1</td>\n",
       "      <td>3</td>\n",
       "      <td>27.0</td>\n",
       "      <td>0</td>\n",
       "      <td>2</td>\n",
       "      <td>11.1333</td>\n",
       "      <td>0</td>\n",
       "      <td>0</td>\n",
       "      <td>1</td>\n",
       "    </tr>\n",
       "    <tr>\n",
       "      <th>9</th>\n",
       "      <td>1</td>\n",
       "      <td>2</td>\n",
       "      <td>14.0</td>\n",
       "      <td>1</td>\n",
       "      <td>0</td>\n",
       "      <td>30.0708</td>\n",
       "      <td>0</td>\n",
       "      <td>0</td>\n",
       "      <td>0</td>\n",
       "    </tr>\n",
       "    <tr>\n",
       "      <th>10</th>\n",
       "      <td>1</td>\n",
       "      <td>3</td>\n",
       "      <td>4.0</td>\n",
       "      <td>1</td>\n",
       "      <td>1</td>\n",
       "      <td>16.7000</td>\n",
       "      <td>0</td>\n",
       "      <td>0</td>\n",
       "      <td>1</td>\n",
       "    </tr>\n",
       "    <tr>\n",
       "      <th>11</th>\n",
       "      <td>1</td>\n",
       "      <td>1</td>\n",
       "      <td>58.0</td>\n",
       "      <td>0</td>\n",
       "      <td>0</td>\n",
       "      <td>26.5500</td>\n",
       "      <td>0</td>\n",
       "      <td>0</td>\n",
       "      <td>1</td>\n",
       "    </tr>\n",
       "    <tr>\n",
       "      <th>12</th>\n",
       "      <td>0</td>\n",
       "      <td>3</td>\n",
       "      <td>20.0</td>\n",
       "      <td>0</td>\n",
       "      <td>0</td>\n",
       "      <td>8.0500</td>\n",
       "      <td>1</td>\n",
       "      <td>0</td>\n",
       "      <td>1</td>\n",
       "    </tr>\n",
       "    <tr>\n",
       "      <th>13</th>\n",
       "      <td>0</td>\n",
       "      <td>3</td>\n",
       "      <td>39.0</td>\n",
       "      <td>1</td>\n",
       "      <td>5</td>\n",
       "      <td>31.2750</td>\n",
       "      <td>1</td>\n",
       "      <td>0</td>\n",
       "      <td>1</td>\n",
       "    </tr>\n",
       "    <tr>\n",
       "      <th>14</th>\n",
       "      <td>0</td>\n",
       "      <td>3</td>\n",
       "      <td>14.0</td>\n",
       "      <td>0</td>\n",
       "      <td>0</td>\n",
       "      <td>7.8542</td>\n",
       "      <td>0</td>\n",
       "      <td>0</td>\n",
       "      <td>1</td>\n",
       "    </tr>\n",
       "  </tbody>\n",
       "</table>\n",
       "</div>"
      ],
      "text/plain": [
       "    Survived  Pclass   Age  SibSp  Parch     Fare  male  Q  S\n",
       "0          0       3  22.0      1      0   7.2500     1  0  1\n",
       "1          1       1  38.0      1      0  71.2833     0  0  0\n",
       "2          1       3  26.0      0      0   7.9250     0  0  1\n",
       "3          1       1  35.0      1      0  53.1000     0  0  1\n",
       "4          0       3  35.0      0      0   8.0500     1  0  1\n",
       "5          0       3  24.0      0      0   8.4583     1  1  0\n",
       "6          0       1  54.0      0      0  51.8625     1  0  1\n",
       "7          0       3   2.0      3      1  21.0750     1  0  1\n",
       "8          1       3  27.0      0      2  11.1333     0  0  1\n",
       "9          1       2  14.0      1      0  30.0708     0  0  0\n",
       "10         1       3   4.0      1      1  16.7000     0  0  1\n",
       "11         1       1  58.0      0      0  26.5500     0  0  1\n",
       "12         0       3  20.0      0      0   8.0500     1  0  1\n",
       "13         0       3  39.0      1      5  31.2750     1  0  1\n",
       "14         0       3  14.0      0      0   7.8542     0  0  1"
      ]
     },
     "execution_count": 43,
     "metadata": {},
     "output_type": "execute_result"
    }
   ],
   "source": [
    "train.head(15)"
   ]
  }
 ],
 "metadata": {
  "kernelspec": {
   "display_name": "Python 3",
   "language": "python",
   "name": "python3"
  },
  "language_info": {
   "codemirror_mode": {
    "name": "ipython",
    "version": 3
   },
   "file_extension": ".py",
   "mimetype": "text/x-python",
   "name": "python",
   "nbconvert_exporter": "python",
   "pygments_lexer": "ipython3",
   "version": "3.7.12"
  },
  "papermill": {
   "default_parameters": {},
   "duration": 18.979189,
   "end_time": "2022-06-29T17:10:09.799927",
   "environment_variables": {},
   "exception": null,
   "input_path": "__notebook__.ipynb",
   "output_path": "__notebook__.ipynb",
   "parameters": {},
   "start_time": "2022-06-29T17:09:50.820738",
   "version": "2.3.4"
  }
 },
 "nbformat": 4,
 "nbformat_minor": 5
}
