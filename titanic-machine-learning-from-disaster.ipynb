{
 "cells": [
  {
   "cell_type": "markdown",
   "id": "1d3a17a6",
   "metadata": {
    "papermill": {
     "duration": 0.022693,
     "end_time": "2022-06-29T17:58:10.761558",
     "exception": false,
     "start_time": "2022-06-29T17:58:10.738865",
     "status": "completed"
    },
    "tags": []
   },
   "source": [
    "# Titanic - Machine Learning from Disaster"
   ]
  },
  {
   "cell_type": "code",
   "execution_count": 1,
   "id": "b2defffb",
   "metadata": {
    "execution": {
     "iopub.execute_input": "2022-06-29T17:58:10.808790Z",
     "iopub.status.busy": "2022-06-29T17:58:10.808107Z",
     "iopub.status.idle": "2022-06-29T17:58:11.903570Z",
     "shell.execute_reply": "2022-06-29T17:58:11.902486Z"
    },
    "papermill": {
     "duration": 1.122963,
     "end_time": "2022-06-29T17:58:11.906699",
     "exception": false,
     "start_time": "2022-06-29T17:58:10.783736",
     "status": "completed"
    },
    "tags": []
   },
   "outputs": [],
   "source": [
    "import pandas as pd # data processing, CSV file I/O (e.g. pd.read_csv)\n",
    "import numpy as np # linear algebra\n",
    "import matplotlib.pyplot as plt\n",
    "import seaborn as sns\n",
    "%matplotlib inline"
   ]
  },
  {
   "cell_type": "code",
   "execution_count": 2,
   "id": "942f0b45",
   "metadata": {
    "_cell_guid": "b1076dfc-b9ad-4769-8c92-a6c4dae69d19",
    "_uuid": "8f2839f25d086af736a60e9eeb907d3b93b6e0e5",
    "execution": {
     "iopub.execute_input": "2022-06-29T17:58:11.950773Z",
     "iopub.status.busy": "2022-06-29T17:58:11.950374Z",
     "iopub.status.idle": "2022-06-29T17:58:11.958692Z",
     "shell.execute_reply": "2022-06-29T17:58:11.957321Z"
    },
    "papermill": {
     "duration": 0.033602,
     "end_time": "2022-06-29T17:58:11.961408",
     "exception": false,
     "start_time": "2022-06-29T17:58:11.927806",
     "status": "completed"
    },
    "tags": []
   },
   "outputs": [
    {
     "name": "stdout",
     "output_type": "stream",
     "text": [
      "/kaggle/input/titanic/train.csv\n",
      "/kaggle/input/titanic/test.csv\n",
      "/kaggle/input/titanic/gender_submission.csv\n"
     ]
    }
   ],
   "source": [
    "# This Python 3 environment comes with many helpful analytics libraries installed\n",
    "# It is defined by the kaggle/python Docker image: https://github.com/kaggle/docker-python\n",
    "# For example, here's several helpful packages to load\n",
    "\n",
    "# Input data files are available in the read-only \"../input/\" directory\n",
    "# For example, running this (by clicking run or pressing Shift+Enter) will list all files under the input directory\n",
    "\n",
    "import os\n",
    "for dirname, _, filenames in os.walk('/kaggle/input'):\n",
    "    for filename in filenames:\n",
    "        print(os.path.join(dirname, filename))\n",
    "\n",
    "# You can write up to 20GB to the current directory (/kaggle/working/) that gets preserved as output when you create a version using \"Save & Run All\" \n",
    "# You can also write temporary files to /kaggle/temp/, but they won't be saved outside of the current session"
   ]
  },
  {
   "cell_type": "markdown",
   "id": "f08708d6",
   "metadata": {
    "papermill": {
     "duration": 0.020677,
     "end_time": "2022-06-29T17:58:12.003372",
     "exception": false,
     "start_time": "2022-06-29T17:58:11.982695",
     "status": "completed"
    },
    "tags": []
   },
   "source": [
    "## Import dataset"
   ]
  },
  {
   "cell_type": "code",
   "execution_count": 3,
   "id": "82f508aa",
   "metadata": {
    "execution": {
     "iopub.execute_input": "2022-06-29T17:58:12.048819Z",
     "iopub.status.busy": "2022-06-29T17:58:12.047640Z",
     "iopub.status.idle": "2022-06-29T17:58:12.088127Z",
     "shell.execute_reply": "2022-06-29T17:58:12.086512Z"
    },
    "papermill": {
     "duration": 0.066517,
     "end_time": "2022-06-29T17:58:12.091074",
     "exception": false,
     "start_time": "2022-06-29T17:58:12.024557",
     "status": "completed"
    },
    "tags": []
   },
   "outputs": [],
   "source": [
    "train = pd.read_csv('../input/titanic/train.csv')\n",
    "test = pd.read_csv('../input/titanic/test.csv')\n",
    "gender_submission = pd.read_csv('../input/titanic/gender_submission.csv')\n",
    "test_original = test.copy()"
   ]
  },
  {
   "cell_type": "code",
   "execution_count": 4,
   "id": "89448aff",
   "metadata": {
    "execution": {
     "iopub.execute_input": "2022-06-29T17:58:12.134794Z",
     "iopub.status.busy": "2022-06-29T17:58:12.134178Z",
     "iopub.status.idle": "2022-06-29T17:58:12.159850Z",
     "shell.execute_reply": "2022-06-29T17:58:12.158966Z"
    },
    "papermill": {
     "duration": 0.05018,
     "end_time": "2022-06-29T17:58:12.162094",
     "exception": false,
     "start_time": "2022-06-29T17:58:12.111914",
     "status": "completed"
    },
    "tags": []
   },
   "outputs": [
    {
     "data": {
      "text/html": [
       "<div>\n",
       "<style scoped>\n",
       "    .dataframe tbody tr th:only-of-type {\n",
       "        vertical-align: middle;\n",
       "    }\n",
       "\n",
       "    .dataframe tbody tr th {\n",
       "        vertical-align: top;\n",
       "    }\n",
       "\n",
       "    .dataframe thead th {\n",
       "        text-align: right;\n",
       "    }\n",
       "</style>\n",
       "<table border=\"1\" class=\"dataframe\">\n",
       "  <thead>\n",
       "    <tr style=\"text-align: right;\">\n",
       "      <th></th>\n",
       "      <th>PassengerId</th>\n",
       "      <th>Survived</th>\n",
       "      <th>Pclass</th>\n",
       "      <th>Name</th>\n",
       "      <th>Sex</th>\n",
       "      <th>Age</th>\n",
       "      <th>SibSp</th>\n",
       "      <th>Parch</th>\n",
       "      <th>Ticket</th>\n",
       "      <th>Fare</th>\n",
       "      <th>Cabin</th>\n",
       "      <th>Embarked</th>\n",
       "    </tr>\n",
       "  </thead>\n",
       "  <tbody>\n",
       "    <tr>\n",
       "      <th>0</th>\n",
       "      <td>1</td>\n",
       "      <td>0</td>\n",
       "      <td>3</td>\n",
       "      <td>Braund, Mr. Owen Harris</td>\n",
       "      <td>male</td>\n",
       "      <td>22.0</td>\n",
       "      <td>1</td>\n",
       "      <td>0</td>\n",
       "      <td>A/5 21171</td>\n",
       "      <td>7.2500</td>\n",
       "      <td>NaN</td>\n",
       "      <td>S</td>\n",
       "    </tr>\n",
       "    <tr>\n",
       "      <th>1</th>\n",
       "      <td>2</td>\n",
       "      <td>1</td>\n",
       "      <td>1</td>\n",
       "      <td>Cumings, Mrs. John Bradley (Florence Briggs Th...</td>\n",
       "      <td>female</td>\n",
       "      <td>38.0</td>\n",
       "      <td>1</td>\n",
       "      <td>0</td>\n",
       "      <td>PC 17599</td>\n",
       "      <td>71.2833</td>\n",
       "      <td>C85</td>\n",
       "      <td>C</td>\n",
       "    </tr>\n",
       "    <tr>\n",
       "      <th>2</th>\n",
       "      <td>3</td>\n",
       "      <td>1</td>\n",
       "      <td>3</td>\n",
       "      <td>Heikkinen, Miss. Laina</td>\n",
       "      <td>female</td>\n",
       "      <td>26.0</td>\n",
       "      <td>0</td>\n",
       "      <td>0</td>\n",
       "      <td>STON/O2. 3101282</td>\n",
       "      <td>7.9250</td>\n",
       "      <td>NaN</td>\n",
       "      <td>S</td>\n",
       "    </tr>\n",
       "    <tr>\n",
       "      <th>3</th>\n",
       "      <td>4</td>\n",
       "      <td>1</td>\n",
       "      <td>1</td>\n",
       "      <td>Futrelle, Mrs. Jacques Heath (Lily May Peel)</td>\n",
       "      <td>female</td>\n",
       "      <td>35.0</td>\n",
       "      <td>1</td>\n",
       "      <td>0</td>\n",
       "      <td>113803</td>\n",
       "      <td>53.1000</td>\n",
       "      <td>C123</td>\n",
       "      <td>S</td>\n",
       "    </tr>\n",
       "    <tr>\n",
       "      <th>4</th>\n",
       "      <td>5</td>\n",
       "      <td>0</td>\n",
       "      <td>3</td>\n",
       "      <td>Allen, Mr. William Henry</td>\n",
       "      <td>male</td>\n",
       "      <td>35.0</td>\n",
       "      <td>0</td>\n",
       "      <td>0</td>\n",
       "      <td>373450</td>\n",
       "      <td>8.0500</td>\n",
       "      <td>NaN</td>\n",
       "      <td>S</td>\n",
       "    </tr>\n",
       "  </tbody>\n",
       "</table>\n",
       "</div>"
      ],
      "text/plain": [
       "   PassengerId  Survived  Pclass  \\\n",
       "0            1         0       3   \n",
       "1            2         1       1   \n",
       "2            3         1       3   \n",
       "3            4         1       1   \n",
       "4            5         0       3   \n",
       "\n",
       "                                                Name     Sex   Age  SibSp  \\\n",
       "0                            Braund, Mr. Owen Harris    male  22.0      1   \n",
       "1  Cumings, Mrs. John Bradley (Florence Briggs Th...  female  38.0      1   \n",
       "2                             Heikkinen, Miss. Laina  female  26.0      0   \n",
       "3       Futrelle, Mrs. Jacques Heath (Lily May Peel)  female  35.0      1   \n",
       "4                           Allen, Mr. William Henry    male  35.0      0   \n",
       "\n",
       "   Parch            Ticket     Fare Cabin Embarked  \n",
       "0      0         A/5 21171   7.2500   NaN        S  \n",
       "1      0          PC 17599  71.2833   C85        C  \n",
       "2      0  STON/O2. 3101282   7.9250   NaN        S  \n",
       "3      0            113803  53.1000  C123        S  \n",
       "4      0            373450   8.0500   NaN        S  "
      ]
     },
     "execution_count": 4,
     "metadata": {},
     "output_type": "execute_result"
    }
   ],
   "source": [
    "train.head()"
   ]
  },
  {
   "cell_type": "code",
   "execution_count": 5,
   "id": "87c5f713",
   "metadata": {
    "execution": {
     "iopub.execute_input": "2022-06-29T17:58:12.207132Z",
     "iopub.status.busy": "2022-06-29T17:58:12.206442Z",
     "iopub.status.idle": "2022-06-29T17:58:12.235975Z",
     "shell.execute_reply": "2022-06-29T17:58:12.234497Z"
    },
    "papermill": {
     "duration": 0.056453,
     "end_time": "2022-06-29T17:58:12.239654",
     "exception": false,
     "start_time": "2022-06-29T17:58:12.183201",
     "status": "completed"
    },
    "tags": []
   },
   "outputs": [
    {
     "name": "stdout",
     "output_type": "stream",
     "text": [
      "<class 'pandas.core.frame.DataFrame'>\n",
      "RangeIndex: 891 entries, 0 to 890\n",
      "Data columns (total 12 columns):\n",
      " #   Column       Non-Null Count  Dtype  \n",
      "---  ------       --------------  -----  \n",
      " 0   PassengerId  891 non-null    int64  \n",
      " 1   Survived     891 non-null    int64  \n",
      " 2   Pclass       891 non-null    int64  \n",
      " 3   Name         891 non-null    object \n",
      " 4   Sex          891 non-null    object \n",
      " 5   Age          714 non-null    float64\n",
      " 6   SibSp        891 non-null    int64  \n",
      " 7   Parch        891 non-null    int64  \n",
      " 8   Ticket       891 non-null    object \n",
      " 9   Fare         891 non-null    float64\n",
      " 10  Cabin        204 non-null    object \n",
      " 11  Embarked     889 non-null    object \n",
      "dtypes: float64(2), int64(5), object(5)\n",
      "memory usage: 83.7+ KB\n"
     ]
    }
   ],
   "source": [
    "train.info()"
   ]
  },
  {
   "cell_type": "code",
   "execution_count": 6,
   "id": "ea83bcc7",
   "metadata": {
    "execution": {
     "iopub.execute_input": "2022-06-29T17:58:12.285813Z",
     "iopub.status.busy": "2022-06-29T17:58:12.284719Z",
     "iopub.status.idle": "2022-06-29T17:58:12.301094Z",
     "shell.execute_reply": "2022-06-29T17:58:12.299096Z"
    },
    "papermill": {
     "duration": 0.042692,
     "end_time": "2022-06-29T17:58:12.304373",
     "exception": false,
     "start_time": "2022-06-29T17:58:12.261681",
     "status": "completed"
    },
    "tags": []
   },
   "outputs": [
    {
     "name": "stdout",
     "output_type": "stream",
     "text": [
      "<class 'pandas.core.frame.DataFrame'>\n",
      "RangeIndex: 418 entries, 0 to 417\n",
      "Data columns (total 11 columns):\n",
      " #   Column       Non-Null Count  Dtype  \n",
      "---  ------       --------------  -----  \n",
      " 0   PassengerId  418 non-null    int64  \n",
      " 1   Pclass       418 non-null    int64  \n",
      " 2   Name         418 non-null    object \n",
      " 3   Sex          418 non-null    object \n",
      " 4   Age          332 non-null    float64\n",
      " 5   SibSp        418 non-null    int64  \n",
      " 6   Parch        418 non-null    int64  \n",
      " 7   Ticket       418 non-null    object \n",
      " 8   Fare         417 non-null    float64\n",
      " 9   Cabin        91 non-null     object \n",
      " 10  Embarked     418 non-null    object \n",
      "dtypes: float64(2), int64(4), object(5)\n",
      "memory usage: 36.0+ KB\n"
     ]
    }
   ],
   "source": [
    "test.info()"
   ]
  },
  {
   "cell_type": "code",
   "execution_count": 7,
   "id": "947d9158",
   "metadata": {
    "execution": {
     "iopub.execute_input": "2022-06-29T17:58:12.350998Z",
     "iopub.status.busy": "2022-06-29T17:58:12.350173Z",
     "iopub.status.idle": "2022-06-29T17:58:12.559810Z",
     "shell.execute_reply": "2022-06-29T17:58:12.558617Z"
    },
    "papermill": {
     "duration": 0.236231,
     "end_time": "2022-06-29T17:58:12.562442",
     "exception": false,
     "start_time": "2022-06-29T17:58:12.326211",
     "status": "completed"
    },
    "tags": []
   },
   "outputs": [
    {
     "data": {
      "text/plain": [
       "<AxesSubplot:>"
      ]
     },
     "execution_count": 7,
     "metadata": {},
     "output_type": "execute_result"
    },
    {
     "data": {
      "image/png": "[encoded data removed]",
      "text/plain": [
       "<Figure size 432x288 with 1 Axes>"
      ]
     },
     "metadata": {
      "needs_background": "light"
     },
     "output_type": "display_data"
    }
   ],
   "source": [
    "sns.heatmap(train.isnull(),yticklabels=False,cbar=False,cmap='viridis')"
   ]
  },
  {
   "cell_type": "code",
   "execution_count": 8,
   "id": "341badc1",
   "metadata": {
    "execution": {
     "iopub.execute_input": "2022-06-29T17:58:12.608331Z",
     "iopub.status.busy": "2022-06-29T17:58:12.607882Z",
     "iopub.status.idle": "2022-06-29T17:58:12.813803Z",
     "shell.execute_reply": "2022-06-29T17:58:12.812580Z"
    },
    "papermill": {
     "duration": 0.23206,
     "end_time": "2022-06-29T17:58:12.816244",
     "exception": false,
     "start_time": "2022-06-29T17:58:12.584184",
     "status": "completed"
    },
    "tags": []
   },
   "outputs": [
    {
     "data": {
      "text/plain": [
       "<AxesSubplot:xlabel='Survived', ylabel='count'>"
      ]
     },
     "execution_count": 8,
     "metadata": {},
     "output_type": "execute_result"
    },
    {
     "data": {
      "image/png": "[encoded data removed]",
      "text/plain": [
       "<Figure size 432x288 with 1 Axes>"
      ]
     },
     "metadata": {},
     "output_type": "display_data"
    }
   ],
   "source": [
    "sns.set_style('whitegrid')\n",
    "sns.countplot(x='Survived',data=train,palette='RdBu_r')"
   ]
  },
  {
   "cell_type": "code",
   "execution_count": 9,
   "id": "1ed17c2a",
   "metadata": {
    "execution": {
     "iopub.execute_input": "2022-06-29T17:58:12.862344Z",
     "iopub.status.busy": "2022-06-29T17:58:12.861680Z",
     "iopub.status.idle": "2022-06-29T17:58:13.090953Z",
     "shell.execute_reply": "2022-06-29T17:58:13.089502Z"
    },
    "papermill": {
     "duration": 0.255611,
     "end_time": "2022-06-29T17:58:13.093765",
     "exception": false,
     "start_time": "2022-06-29T17:58:12.838154",
     "status": "completed"
    },
    "tags": []
   },
   "outputs": [
    {
     "data": {
      "text/plain": [
       "<AxesSubplot:xlabel='Survived', ylabel='count'>"
      ]
     },
     "execution_count": 9,
     "metadata": {},
     "output_type": "execute_result"
    },
    {
     "data": {
      "image/png": "[encoded data removed]",
      "text/plain": [
       "<Figure size 432x288 with 1 Axes>"
      ]
     },
     "metadata": {},
     "output_type": "display_data"
    }
   ],
   "source": [
    "sns.set_style('whitegrid')\n",
    "sns.countplot(x='Survived',hue='Sex',data=train,palette='RdBu_r')"
   ]
  },
  {
   "cell_type": "code",
   "execution_count": 10,
   "id": "e0ed9848",
   "metadata": {
    "execution": {
     "iopub.execute_input": "2022-06-29T17:58:13.141974Z",
     "iopub.status.busy": "2022-06-29T17:58:13.140845Z",
     "iopub.status.idle": "2022-06-29T17:58:13.402531Z",
     "shell.execute_reply": "2022-06-29T17:58:13.401421Z"
    },
    "papermill": {
     "duration": 0.288638,
     "end_time": "2022-06-29T17:58:13.405035",
     "exception": false,
     "start_time": "2022-06-29T17:58:13.116397",
     "status": "completed"
    },
    "tags": []
   },
   "outputs": [
    {
     "data": {
      "text/plain": [
       "<AxesSubplot:xlabel='Survived', ylabel='count'>"
      ]
     },
     "execution_count": 10,
     "metadata": {},
     "output_type": "execute_result"
    },
    {
     "data": {
      "image/png": "[encoded data removed]",
      "text/plain": [
       "<Figure size 432x288 with 1 Axes>"
      ]
     },
     "metadata": {},
     "output_type": "display_data"
    }
   ],
   "source": [
    "sns.set_style('whitegrid')\n",
    "sns.countplot(x='Survived',hue='Pclass',data=train,palette='rainbow')"
   ]
  },
  {
   "cell_type": "code",
   "execution_count": 11,
   "id": "70dcf9f5",
   "metadata": {
    "execution": {
     "iopub.execute_input": "2022-06-29T17:58:13.456721Z",
     "iopub.status.busy": "2022-06-29T17:58:13.455980Z",
     "iopub.status.idle": "2022-06-29T17:58:14.026537Z",
     "shell.execute_reply": "2022-06-29T17:58:14.025169Z"
    },
    "papermill": {
     "duration": 0.60028,
     "end_time": "2022-06-29T17:58:14.029488",
     "exception": false,
     "start_time": "2022-06-29T17:58:13.429208",
     "status": "completed"
    },
    "tags": []
   },
   "outputs": [
    {
     "data": {
      "text/plain": [
       "<seaborn.axisgrid.FacetGrid at 0x7f0cb8449cd0>"
      ]
     },
     "execution_count": 11,
     "metadata": {},
     "output_type": "execute_result"
    },
    {
     "data": {
      "image/png": "[encoded data removed]",
      "text/plain": [
       "<Figure size 360x360 with 1 Axes>"
      ]
     },
     "metadata": {},
     "output_type": "display_data"
    }
   ],
   "source": [
    "# dropna: delete null values\n",
    "sns.displot(train['Age'].dropna(),kde=False,color='darkred',bins=30)\n"
   ]
  },
  {
   "cell_type": "code",
   "execution_count": 12,
   "id": "b35a41a3",
   "metadata": {
    "execution": {
     "iopub.execute_input": "2022-06-29T17:58:14.078862Z",
     "iopub.status.busy": "2022-06-29T17:58:14.077958Z",
     "iopub.status.idle": "2022-06-29T17:58:14.461348Z",
     "shell.execute_reply": "2022-06-29T17:58:14.459865Z"
    },
    "papermill": {
     "duration": 0.411548,
     "end_time": "2022-06-29T17:58:14.464385",
     "exception": false,
     "start_time": "2022-06-29T17:58:14.052837",
     "status": "completed"
    },
    "tags": []
   },
   "outputs": [
    {
     "data": {
      "text/plain": [
       "<AxesSubplot:>"
      ]
     },
     "execution_count": 12,
     "metadata": {},
     "output_type": "execute_result"
    },
    {
     "data": {
      "image/png": "[encoded data removed]",
      "text/plain": [
       "<Figure size 432x288 with 1 Axes>"
      ]
     },
     "metadata": {},
     "output_type": "display_data"
    }
   ],
   "source": [
    "train['Age'].hist(bins=30,color='darkred',alpha=0.7)"
   ]
  },
  {
   "cell_type": "code",
   "execution_count": 13,
   "id": "b20222a7",
   "metadata": {
    "execution": {
     "iopub.execute_input": "2022-06-29T17:58:14.514842Z",
     "iopub.status.busy": "2022-06-29T17:58:14.513584Z",
     "iopub.status.idle": "2022-06-29T17:58:14.768866Z",
     "shell.execute_reply": "2022-06-29T17:58:14.767907Z"
    },
    "papermill": {
     "duration": 0.282905,
     "end_time": "2022-06-29T17:58:14.771236",
     "exception": false,
     "start_time": "2022-06-29T17:58:14.488331",
     "status": "completed"
    },
    "tags": []
   },
   "outputs": [
    {
     "data": {
      "text/plain": [
       "<AxesSubplot:xlabel='SibSp', ylabel='count'>"
      ]
     },
     "execution_count": 13,
     "metadata": {},
     "output_type": "execute_result"
    },
    {
     "data": {
      "image/png": "[encoded data removed]",
      "text/plain": [
       "<Figure size 432x288 with 1 Axes>"
      ]
     },
     "metadata": {},
     "output_type": "display_data"
    }
   ],
   "source": [
    "sns.countplot(x='SibSp',data=train)"
   ]
  },
  {
   "cell_type": "code",
   "execution_count": 14,
   "id": "38e6d0e5",
   "metadata": {
    "execution": {
     "iopub.execute_input": "2022-06-29T17:58:14.821441Z",
     "iopub.status.busy": "2022-06-29T17:58:14.820686Z",
     "iopub.status.idle": "2022-06-29T17:58:15.089755Z",
     "shell.execute_reply": "2022-06-29T17:58:15.088462Z"
    },
    "papermill": {
     "duration": 0.296887,
     "end_time": "2022-06-29T17:58:15.092427",
     "exception": false,
     "start_time": "2022-06-29T17:58:14.795540",
     "status": "completed"
    },
    "tags": []
   },
   "outputs": [
    {
     "data": {
      "text/plain": [
       "<AxesSubplot:xlabel='Parch', ylabel='count'>"
      ]
     },
     "execution_count": 14,
     "metadata": {},
     "output_type": "execute_result"
    },
    {
     "data": {
      "image/png": "[encoded data removed]",
      "text/plain": [
       "<Figure size 432x288 with 1 Axes>"
      ]
     },
     "metadata": {},
     "output_type": "display_data"
    }
   ],
   "source": [
    "sns.countplot(x='Parch',data=train)"
   ]
  },
  {
   "cell_type": "code",
   "execution_count": 15,
   "id": "bfd864af",
   "metadata": {
    "execution": {
     "iopub.execute_input": "2022-06-29T17:58:15.145383Z",
     "iopub.status.busy": "2022-06-29T17:58:15.144857Z",
     "iopub.status.idle": "2022-06-29T17:58:15.523068Z",
     "shell.execute_reply": "2022-06-29T17:58:15.522097Z"
    },
    "papermill": {
     "duration": 0.408116,
     "end_time": "2022-06-29T17:58:15.525560",
     "exception": false,
     "start_time": "2022-06-29T17:58:15.117444",
     "status": "completed"
    },
    "tags": []
   },
   "outputs": [
    {
     "data": {
      "text/plain": [
       "<AxesSubplot:>"
      ]
     },
     "execution_count": 15,
     "metadata": {},
     "output_type": "execute_result"
    },
    {
     "data": {
      "image/png": "[encoded data removed]",
      "text/plain": [
       "<Figure size 576x288 with 1 Axes>"
      ]
     },
     "metadata": {},
     "output_type": "display_data"
    }
   ],
   "source": [
    "train['Fare'].hist(color='green',bins=40,figsize=(8,4))"
   ]
  },
  {
   "cell_type": "markdown",
   "id": "8800ad03",
   "metadata": {
    "papermill": {
     "duration": 0.02589,
     "end_time": "2022-06-29T17:58:15.576359",
     "exception": false,
     "start_time": "2022-06-29T17:58:15.550469",
     "status": "completed"
    },
    "tags": []
   },
   "source": [
    "## Clean data"
   ]
  },
  {
   "cell_type": "code",
   "execution_count": 16,
   "id": "ef6b238d",
   "metadata": {
    "execution": {
     "iopub.execute_input": "2022-06-29T17:58:15.629529Z",
     "iopub.status.busy": "2022-06-29T17:58:15.629095Z",
     "iopub.status.idle": "2022-06-29T17:58:15.915270Z",
     "shell.execute_reply": "2022-06-29T17:58:15.914045Z"
    },
    "papermill": {
     "duration": 0.317204,
     "end_time": "2022-06-29T17:58:15.918907",
     "exception": false,
     "start_time": "2022-06-29T17:58:15.601703",
     "status": "completed"
    },
    "tags": []
   },
   "outputs": [
    {
     "data": {
      "text/plain": [
       "<AxesSubplot:xlabel='Pclass', ylabel='Age'>"
      ]
     },
     "execution_count": 16,
     "metadata": {},
     "output_type": "execute_result"
    },
    {
     "data": {
      "image/png": "[encoded data removed]",
      "text/plain": [
       "<Figure size 864x504 with 1 Axes>"
      ]
     },
     "metadata": {},
     "output_type": "display_data"
    }
   ],
   "source": [
    "plt.figure(figsize=(12, 7))\n",
    "sns.boxplot(x='Pclass',y='Age',data=train,palette='winter')"
   ]
  },
  {
   "cell_type": "code",
   "execution_count": 17,
   "id": "7cbe7e51",
   "metadata": {
    "execution": {
     "iopub.execute_input": "2022-06-29T17:58:15.972957Z",
     "iopub.status.busy": "2022-06-29T17:58:15.971874Z",
     "iopub.status.idle": "2022-06-29T17:58:15.978285Z",
     "shell.execute_reply": "2022-06-29T17:58:15.977346Z"
    },
    "papermill": {
     "duration": 0.035956,
     "end_time": "2022-06-29T17:58:15.980720",
     "exception": false,
     "start_time": "2022-06-29T17:58:15.944764",
     "status": "completed"
    },
    "tags": []
   },
   "outputs": [],
   "source": [
    "fil_no_null = pd.notnull(train['Age'])\n",
    "edades = train[fil_no_null]"
   ]
  },
  {
   "cell_type": "code",
   "execution_count": 18,
   "id": "556e1526",
   "metadata": {
    "execution": {
     "iopub.execute_input": "2022-06-29T17:58:16.034908Z",
     "iopub.status.busy": "2022-06-29T17:58:16.034493Z",
     "iopub.status.idle": "2022-06-29T17:58:16.042355Z",
     "shell.execute_reply": "2022-06-29T17:58:16.041051Z"
    },
    "papermill": {
     "duration": 0.03873,
     "end_time": "2022-06-29T17:58:16.045241",
     "exception": false,
     "start_time": "2022-06-29T17:58:16.006511",
     "status": "completed"
    },
    "tags": []
   },
   "outputs": [],
   "source": [
    "fil_no_null_fare = pd.notnull(train['Fare'])\n",
    "tarifa = train[fil_no_null_fare]"
   ]
  },
  {
   "cell_type": "code",
   "execution_count": 19,
   "id": "0ee25d92",
   "metadata": {
    "execution": {
     "iopub.execute_input": "2022-06-29T17:58:16.099340Z",
     "iopub.status.busy": "2022-06-29T17:58:16.098077Z",
     "iopub.status.idle": "2022-06-29T17:58:16.127534Z",
     "shell.execute_reply": "2022-06-29T17:58:16.126101Z"
    },
    "papermill": {
     "duration": 0.059498,
     "end_time": "2022-06-29T17:58:16.130146",
     "exception": false,
     "start_time": "2022-06-29T17:58:16.070648",
     "status": "completed"
    },
    "tags": []
   },
   "outputs": [
    {
     "data": {
      "text/html": [
       "<div>\n",
       "<style scoped>\n",
       "    .dataframe tbody tr th:only-of-type {\n",
       "        vertical-align: middle;\n",
       "    }\n",
       "\n",
       "    .dataframe tbody tr th {\n",
       "        vertical-align: top;\n",
       "    }\n",
       "\n",
       "    .dataframe thead th {\n",
       "        text-align: right;\n",
       "    }\n",
       "</style>\n",
       "<table border=\"1\" class=\"dataframe\">\n",
       "  <thead>\n",
       "    <tr style=\"text-align: right;\">\n",
       "      <th></th>\n",
       "      <th>PassengerId</th>\n",
       "      <th>Survived</th>\n",
       "      <th>Pclass</th>\n",
       "      <th>Name</th>\n",
       "      <th>Sex</th>\n",
       "      <th>Age</th>\n",
       "      <th>SibSp</th>\n",
       "      <th>Parch</th>\n",
       "      <th>Ticket</th>\n",
       "      <th>Fare</th>\n",
       "      <th>Cabin</th>\n",
       "      <th>Embarked</th>\n",
       "    </tr>\n",
       "  </thead>\n",
       "  <tbody>\n",
       "    <tr>\n",
       "      <th>1</th>\n",
       "      <td>2</td>\n",
       "      <td>1</td>\n",
       "      <td>1</td>\n",
       "      <td>Cumings, Mrs. John Bradley (Florence Briggs Th...</td>\n",
       "      <td>female</td>\n",
       "      <td>38.0</td>\n",
       "      <td>1</td>\n",
       "      <td>0</td>\n",
       "      <td>PC 17599</td>\n",
       "      <td>71.2833</td>\n",
       "      <td>C85</td>\n",
       "      <td>C</td>\n",
       "    </tr>\n",
       "    <tr>\n",
       "      <th>3</th>\n",
       "      <td>4</td>\n",
       "      <td>1</td>\n",
       "      <td>1</td>\n",
       "      <td>Futrelle, Mrs. Jacques Heath (Lily May Peel)</td>\n",
       "      <td>female</td>\n",
       "      <td>35.0</td>\n",
       "      <td>1</td>\n",
       "      <td>0</td>\n",
       "      <td>113803</td>\n",
       "      <td>53.1000</td>\n",
       "      <td>C123</td>\n",
       "      <td>S</td>\n",
       "    </tr>\n",
       "    <tr>\n",
       "      <th>6</th>\n",
       "      <td>7</td>\n",
       "      <td>0</td>\n",
       "      <td>1</td>\n",
       "      <td>McCarthy, Mr. Timothy J</td>\n",
       "      <td>male</td>\n",
       "      <td>54.0</td>\n",
       "      <td>0</td>\n",
       "      <td>0</td>\n",
       "      <td>17463</td>\n",
       "      <td>51.8625</td>\n",
       "      <td>E46</td>\n",
       "      <td>S</td>\n",
       "    </tr>\n",
       "    <tr>\n",
       "      <th>11</th>\n",
       "      <td>12</td>\n",
       "      <td>1</td>\n",
       "      <td>1</td>\n",
       "      <td>Bonnell, Miss. Elizabeth</td>\n",
       "      <td>female</td>\n",
       "      <td>58.0</td>\n",
       "      <td>0</td>\n",
       "      <td>0</td>\n",
       "      <td>113783</td>\n",
       "      <td>26.5500</td>\n",
       "      <td>C103</td>\n",
       "      <td>S</td>\n",
       "    </tr>\n",
       "    <tr>\n",
       "      <th>23</th>\n",
       "      <td>24</td>\n",
       "      <td>1</td>\n",
       "      <td>1</td>\n",
       "      <td>Sloper, Mr. William Thompson</td>\n",
       "      <td>male</td>\n",
       "      <td>28.0</td>\n",
       "      <td>0</td>\n",
       "      <td>0</td>\n",
       "      <td>113788</td>\n",
       "      <td>35.5000</td>\n",
       "      <td>A6</td>\n",
       "      <td>S</td>\n",
       "    </tr>\n",
       "    <tr>\n",
       "      <th>...</th>\n",
       "      <td>...</td>\n",
       "      <td>...</td>\n",
       "      <td>...</td>\n",
       "      <td>...</td>\n",
       "      <td>...</td>\n",
       "      <td>...</td>\n",
       "      <td>...</td>\n",
       "      <td>...</td>\n",
       "      <td>...</td>\n",
       "      <td>...</td>\n",
       "      <td>...</td>\n",
       "      <td>...</td>\n",
       "    </tr>\n",
       "    <tr>\n",
       "      <th>871</th>\n",
       "      <td>872</td>\n",
       "      <td>1</td>\n",
       "      <td>1</td>\n",
       "      <td>Beckwith, Mrs. Richard Leonard (Sallie Monypeny)</td>\n",
       "      <td>female</td>\n",
       "      <td>47.0</td>\n",
       "      <td>1</td>\n",
       "      <td>1</td>\n",
       "      <td>11751</td>\n",
       "      <td>52.5542</td>\n",
       "      <td>D35</td>\n",
       "      <td>S</td>\n",
       "    </tr>\n",
       "    <tr>\n",
       "      <th>872</th>\n",
       "      <td>873</td>\n",
       "      <td>0</td>\n",
       "      <td>1</td>\n",
       "      <td>Carlsson, Mr. Frans Olof</td>\n",
       "      <td>male</td>\n",
       "      <td>33.0</td>\n",
       "      <td>0</td>\n",
       "      <td>0</td>\n",
       "      <td>695</td>\n",
       "      <td>5.0000</td>\n",
       "      <td>B51 B53 B55</td>\n",
       "      <td>S</td>\n",
       "    </tr>\n",
       "    <tr>\n",
       "      <th>879</th>\n",
       "      <td>880</td>\n",
       "      <td>1</td>\n",
       "      <td>1</td>\n",
       "      <td>Potter, Mrs. Thomas Jr (Lily Alexenia Wilson)</td>\n",
       "      <td>female</td>\n",
       "      <td>56.0</td>\n",
       "      <td>0</td>\n",
       "      <td>1</td>\n",
       "      <td>11767</td>\n",
       "      <td>83.1583</td>\n",
       "      <td>C50</td>\n",
       "      <td>C</td>\n",
       "    </tr>\n",
       "    <tr>\n",
       "      <th>887</th>\n",
       "      <td>888</td>\n",
       "      <td>1</td>\n",
       "      <td>1</td>\n",
       "      <td>Graham, Miss. Margaret Edith</td>\n",
       "      <td>female</td>\n",
       "      <td>19.0</td>\n",
       "      <td>0</td>\n",
       "      <td>0</td>\n",
       "      <td>112053</td>\n",
       "      <td>30.0000</td>\n",
       "      <td>B42</td>\n",
       "      <td>S</td>\n",
       "    </tr>\n",
       "    <tr>\n",
       "      <th>889</th>\n",
       "      <td>890</td>\n",
       "      <td>1</td>\n",
       "      <td>1</td>\n",
       "      <td>Behr, Mr. Karl Howell</td>\n",
       "      <td>male</td>\n",
       "      <td>26.0</td>\n",
       "      <td>0</td>\n",
       "      <td>0</td>\n",
       "      <td>111369</td>\n",
       "      <td>30.0000</td>\n",
       "      <td>C148</td>\n",
       "      <td>C</td>\n",
       "    </tr>\n",
       "  </tbody>\n",
       "</table>\n",
       "<p>186 rows × 12 columns</p>\n",
       "</div>"
      ],
      "text/plain": [
       "     PassengerId  Survived  Pclass  \\\n",
       "1              2         1       1   \n",
       "3              4         1       1   \n",
       "6              7         0       1   \n",
       "11            12         1       1   \n",
       "23            24         1       1   \n",
       "..           ...       ...     ...   \n",
       "871          872         1       1   \n",
       "872          873         0       1   \n",
       "879          880         1       1   \n",
       "887          888         1       1   \n",
       "889          890         1       1   \n",
       "\n",
       "                                                  Name     Sex   Age  SibSp  \\\n",
       "1    Cumings, Mrs. John Bradley (Florence Briggs Th...  female  38.0      1   \n",
       "3         Futrelle, Mrs. Jacques Heath (Lily May Peel)  female  35.0      1   \n",
       "6                              McCarthy, Mr. Timothy J    male  54.0      0   \n",
       "11                            Bonnell, Miss. Elizabeth  female  58.0      0   \n",
       "23                        Sloper, Mr. William Thompson    male  28.0      0   \n",
       "..                                                 ...     ...   ...    ...   \n",
       "871   Beckwith, Mrs. Richard Leonard (Sallie Monypeny)  female  47.0      1   \n",
       "872                           Carlsson, Mr. Frans Olof    male  33.0      0   \n",
       "879      Potter, Mrs. Thomas Jr (Lily Alexenia Wilson)  female  56.0      0   \n",
       "887                       Graham, Miss. Margaret Edith  female  19.0      0   \n",
       "889                              Behr, Mr. Karl Howell    male  26.0      0   \n",
       "\n",
       "     Parch    Ticket     Fare        Cabin Embarked  \n",
       "1        0  PC 17599  71.2833          C85        C  \n",
       "3        0    113803  53.1000         C123        S  \n",
       "6        0     17463  51.8625          E46        S  \n",
       "11       0    113783  26.5500         C103        S  \n",
       "23       0    113788  35.5000           A6        S  \n",
       "..     ...       ...      ...          ...      ...  \n",
       "871      1     11751  52.5542          D35        S  \n",
       "872      0       695   5.0000  B51 B53 B55        S  \n",
       "879      1     11767  83.1583          C50        C  \n",
       "887      0    112053  30.0000          B42        S  \n",
       "889      0    111369  30.0000         C148        C  \n",
       "\n",
       "[186 rows x 12 columns]"
      ]
     },
     "execution_count": 19,
     "metadata": {},
     "output_type": "execute_result"
    }
   ],
   "source": [
    "fil_1ra = edades['Pclass'] == 1\n",
    "pas_1ra = edades[fil_1ra]\n",
    "# pasajeros de prumera clase\n",
    "pas_1ra"
   ]
  },
  {
   "cell_type": "code",
   "execution_count": 20,
   "id": "248b3fb2",
   "metadata": {
    "execution": {
     "iopub.execute_input": "2022-06-29T17:58:16.184975Z",
     "iopub.status.busy": "2022-06-29T17:58:16.184139Z",
     "iopub.status.idle": "2022-06-29T17:58:16.213048Z",
     "shell.execute_reply": "2022-06-29T17:58:16.211411Z"
    },
    "papermill": {
     "duration": 0.059602,
     "end_time": "2022-06-29T17:58:16.215847",
     "exception": false,
     "start_time": "2022-06-29T17:58:16.156245",
     "status": "completed"
    },
    "tags": []
   },
   "outputs": [
    {
     "data": {
      "text/html": [
       "<div>\n",
       "<style scoped>\n",
       "    .dataframe tbody tr th:only-of-type {\n",
       "        vertical-align: middle;\n",
       "    }\n",
       "\n",
       "    .dataframe tbody tr th {\n",
       "        vertical-align: top;\n",
       "    }\n",
       "\n",
       "    .dataframe thead th {\n",
       "        text-align: right;\n",
       "    }\n",
       "</style>\n",
       "<table border=\"1\" class=\"dataframe\">\n",
       "  <thead>\n",
       "    <tr style=\"text-align: right;\">\n",
       "      <th></th>\n",
       "      <th>PassengerId</th>\n",
       "      <th>Survived</th>\n",
       "      <th>Pclass</th>\n",
       "      <th>Name</th>\n",
       "      <th>Sex</th>\n",
       "      <th>Age</th>\n",
       "      <th>SibSp</th>\n",
       "      <th>Parch</th>\n",
       "      <th>Ticket</th>\n",
       "      <th>Fare</th>\n",
       "      <th>Cabin</th>\n",
       "      <th>Embarked</th>\n",
       "    </tr>\n",
       "  </thead>\n",
       "  <tbody>\n",
       "    <tr>\n",
       "      <th>1</th>\n",
       "      <td>2</td>\n",
       "      <td>1</td>\n",
       "      <td>1</td>\n",
       "      <td>Cumings, Mrs. John Bradley (Florence Briggs Th...</td>\n",
       "      <td>female</td>\n",
       "      <td>38.0</td>\n",
       "      <td>1</td>\n",
       "      <td>0</td>\n",
       "      <td>PC 17599</td>\n",
       "      <td>71.2833</td>\n",
       "      <td>C85</td>\n",
       "      <td>C</td>\n",
       "    </tr>\n",
       "    <tr>\n",
       "      <th>3</th>\n",
       "      <td>4</td>\n",
       "      <td>1</td>\n",
       "      <td>1</td>\n",
       "      <td>Futrelle, Mrs. Jacques Heath (Lily May Peel)</td>\n",
       "      <td>female</td>\n",
       "      <td>35.0</td>\n",
       "      <td>1</td>\n",
       "      <td>0</td>\n",
       "      <td>113803</td>\n",
       "      <td>53.1000</td>\n",
       "      <td>C123</td>\n",
       "      <td>S</td>\n",
       "    </tr>\n",
       "    <tr>\n",
       "      <th>6</th>\n",
       "      <td>7</td>\n",
       "      <td>0</td>\n",
       "      <td>1</td>\n",
       "      <td>McCarthy, Mr. Timothy J</td>\n",
       "      <td>male</td>\n",
       "      <td>54.0</td>\n",
       "      <td>0</td>\n",
       "      <td>0</td>\n",
       "      <td>17463</td>\n",
       "      <td>51.8625</td>\n",
       "      <td>E46</td>\n",
       "      <td>S</td>\n",
       "    </tr>\n",
       "    <tr>\n",
       "      <th>11</th>\n",
       "      <td>12</td>\n",
       "      <td>1</td>\n",
       "      <td>1</td>\n",
       "      <td>Bonnell, Miss. Elizabeth</td>\n",
       "      <td>female</td>\n",
       "      <td>58.0</td>\n",
       "      <td>0</td>\n",
       "      <td>0</td>\n",
       "      <td>113783</td>\n",
       "      <td>26.5500</td>\n",
       "      <td>C103</td>\n",
       "      <td>S</td>\n",
       "    </tr>\n",
       "    <tr>\n",
       "      <th>23</th>\n",
       "      <td>24</td>\n",
       "      <td>1</td>\n",
       "      <td>1</td>\n",
       "      <td>Sloper, Mr. William Thompson</td>\n",
       "      <td>male</td>\n",
       "      <td>28.0</td>\n",
       "      <td>0</td>\n",
       "      <td>0</td>\n",
       "      <td>113788</td>\n",
       "      <td>35.5000</td>\n",
       "      <td>A6</td>\n",
       "      <td>S</td>\n",
       "    </tr>\n",
       "    <tr>\n",
       "      <th>...</th>\n",
       "      <td>...</td>\n",
       "      <td>...</td>\n",
       "      <td>...</td>\n",
       "      <td>...</td>\n",
       "      <td>...</td>\n",
       "      <td>...</td>\n",
       "      <td>...</td>\n",
       "      <td>...</td>\n",
       "      <td>...</td>\n",
       "      <td>...</td>\n",
       "      <td>...</td>\n",
       "      <td>...</td>\n",
       "    </tr>\n",
       "    <tr>\n",
       "      <th>871</th>\n",
       "      <td>872</td>\n",
       "      <td>1</td>\n",
       "      <td>1</td>\n",
       "      <td>Beckwith, Mrs. Richard Leonard (Sallie Monypeny)</td>\n",
       "      <td>female</td>\n",
       "      <td>47.0</td>\n",
       "      <td>1</td>\n",
       "      <td>1</td>\n",
       "      <td>11751</td>\n",
       "      <td>52.5542</td>\n",
       "      <td>D35</td>\n",
       "      <td>S</td>\n",
       "    </tr>\n",
       "    <tr>\n",
       "      <th>872</th>\n",
       "      <td>873</td>\n",
       "      <td>0</td>\n",
       "      <td>1</td>\n",
       "      <td>Carlsson, Mr. Frans Olof</td>\n",
       "      <td>male</td>\n",
       "      <td>33.0</td>\n",
       "      <td>0</td>\n",
       "      <td>0</td>\n",
       "      <td>695</td>\n",
       "      <td>5.0000</td>\n",
       "      <td>B51 B53 B55</td>\n",
       "      <td>S</td>\n",
       "    </tr>\n",
       "    <tr>\n",
       "      <th>879</th>\n",
       "      <td>880</td>\n",
       "      <td>1</td>\n",
       "      <td>1</td>\n",
       "      <td>Potter, Mrs. Thomas Jr (Lily Alexenia Wilson)</td>\n",
       "      <td>female</td>\n",
       "      <td>56.0</td>\n",
       "      <td>0</td>\n",
       "      <td>1</td>\n",
       "      <td>11767</td>\n",
       "      <td>83.1583</td>\n",
       "      <td>C50</td>\n",
       "      <td>C</td>\n",
       "    </tr>\n",
       "    <tr>\n",
       "      <th>887</th>\n",
       "      <td>888</td>\n",
       "      <td>1</td>\n",
       "      <td>1</td>\n",
       "      <td>Graham, Miss. Margaret Edith</td>\n",
       "      <td>female</td>\n",
       "      <td>19.0</td>\n",
       "      <td>0</td>\n",
       "      <td>0</td>\n",
       "      <td>112053</td>\n",
       "      <td>30.0000</td>\n",
       "      <td>B42</td>\n",
       "      <td>S</td>\n",
       "    </tr>\n",
       "    <tr>\n",
       "      <th>889</th>\n",
       "      <td>890</td>\n",
       "      <td>1</td>\n",
       "      <td>1</td>\n",
       "      <td>Behr, Mr. Karl Howell</td>\n",
       "      <td>male</td>\n",
       "      <td>26.0</td>\n",
       "      <td>0</td>\n",
       "      <td>0</td>\n",
       "      <td>111369</td>\n",
       "      <td>30.0000</td>\n",
       "      <td>C148</td>\n",
       "      <td>C</td>\n",
       "    </tr>\n",
       "  </tbody>\n",
       "</table>\n",
       "<p>216 rows × 12 columns</p>\n",
       "</div>"
      ],
      "text/plain": [
       "     PassengerId  Survived  Pclass  \\\n",
       "1              2         1       1   \n",
       "3              4         1       1   \n",
       "6              7         0       1   \n",
       "11            12         1       1   \n",
       "23            24         1       1   \n",
       "..           ...       ...     ...   \n",
       "871          872         1       1   \n",
       "872          873         0       1   \n",
       "879          880         1       1   \n",
       "887          888         1       1   \n",
       "889          890         1       1   \n",
       "\n",
       "                                                  Name     Sex   Age  SibSp  \\\n",
       "1    Cumings, Mrs. John Bradley (Florence Briggs Th...  female  38.0      1   \n",
       "3         Futrelle, Mrs. Jacques Heath (Lily May Peel)  female  35.0      1   \n",
       "6                              McCarthy, Mr. Timothy J    male  54.0      0   \n",
       "11                            Bonnell, Miss. Elizabeth  female  58.0      0   \n",
       "23                        Sloper, Mr. William Thompson    male  28.0      0   \n",
       "..                                                 ...     ...   ...    ...   \n",
       "871   Beckwith, Mrs. Richard Leonard (Sallie Monypeny)  female  47.0      1   \n",
       "872                           Carlsson, Mr. Frans Olof    male  33.0      0   \n",
       "879      Potter, Mrs. Thomas Jr (Lily Alexenia Wilson)  female  56.0      0   \n",
       "887                       Graham, Miss. Margaret Edith  female  19.0      0   \n",
       "889                              Behr, Mr. Karl Howell    male  26.0      0   \n",
       "\n",
       "     Parch    Ticket     Fare        Cabin Embarked  \n",
       "1        0  PC 17599  71.2833          C85        C  \n",
       "3        0    113803  53.1000         C123        S  \n",
       "6        0     17463  51.8625          E46        S  \n",
       "11       0    113783  26.5500         C103        S  \n",
       "23       0    113788  35.5000           A6        S  \n",
       "..     ...       ...      ...          ...      ...  \n",
       "871      1     11751  52.5542          D35        S  \n",
       "872      0       695   5.0000  B51 B53 B55        S  \n",
       "879      1     11767  83.1583          C50        C  \n",
       "887      0    112053  30.0000          B42        S  \n",
       "889      0    111369  30.0000         C148        C  \n",
       "\n",
       "[216 rows x 12 columns]"
      ]
     },
     "execution_count": 20,
     "metadata": {},
     "output_type": "execute_result"
    }
   ],
   "source": [
    "fil_1ra_tarifa = tarifa['Pclass'] == 1\n",
    "pas_1ra_tarifa = tarifa[fil_1ra_tarifa]\n",
    "# pasajeros de prumera clase\n",
    "pas_1ra_tarifa"
   ]
  },
  {
   "cell_type": "code",
   "execution_count": 21,
   "id": "c7ccda7f",
   "metadata": {
    "execution": {
     "iopub.execute_input": "2022-06-29T17:58:16.272006Z",
     "iopub.status.busy": "2022-06-29T17:58:16.270756Z",
     "iopub.status.idle": "2022-06-29T17:58:16.279956Z",
     "shell.execute_reply": "2022-06-29T17:58:16.278716Z"
    },
    "papermill": {
     "duration": 0.040003,
     "end_time": "2022-06-29T17:58:16.282454",
     "exception": false,
     "start_time": "2022-06-29T17:58:16.242451",
     "status": "completed"
    },
    "tags": []
   },
   "outputs": [
    {
     "data": {
      "text/plain": [
       "38.233440860215055"
      ]
     },
     "execution_count": 21,
     "metadata": {},
     "output_type": "execute_result"
    }
   ],
   "source": [
    "# Promedio de edades\n",
    "pas_1ra['Age'].mean()"
   ]
  },
  {
   "cell_type": "code",
   "execution_count": 22,
   "id": "eeb16493",
   "metadata": {
    "execution": {
     "iopub.execute_input": "2022-06-29T17:58:16.338669Z",
     "iopub.status.busy": "2022-06-29T17:58:16.337513Z",
     "iopub.status.idle": "2022-06-29T17:58:16.345733Z",
     "shell.execute_reply": "2022-06-29T17:58:16.344332Z"
    },
    "papermill": {
     "duration": 0.03931,
     "end_time": "2022-06-29T17:58:16.348702",
     "exception": false,
     "start_time": "2022-06-29T17:58:16.309392",
     "status": "completed"
    },
    "tags": []
   },
   "outputs": [
    {
     "data": {
      "text/plain": [
       "84.1546875"
      ]
     },
     "execution_count": 22,
     "metadata": {},
     "output_type": "execute_result"
    }
   ],
   "source": [
    "# Promedio de tarifa\n",
    "pas_1ra_tarifa['Fare'].mean()"
   ]
  },
  {
   "cell_type": "code",
   "execution_count": 23,
   "id": "e1936d7e",
   "metadata": {
    "execution": {
     "iopub.execute_input": "2022-06-29T17:58:16.404094Z",
     "iopub.status.busy": "2022-06-29T17:58:16.403668Z",
     "iopub.status.idle": "2022-06-29T17:58:16.417500Z",
     "shell.execute_reply": "2022-06-29T17:58:16.416229Z"
    },
    "papermill": {
     "duration": 0.044259,
     "end_time": "2022-06-29T17:58:16.419877",
     "exception": false,
     "start_time": "2022-06-29T17:58:16.375618",
     "status": "completed"
    },
    "tags": []
   },
   "outputs": [
    {
     "data": {
      "text/html": [
       "<div>\n",
       "<style scoped>\n",
       "    .dataframe tbody tr th:only-of-type {\n",
       "        vertical-align: middle;\n",
       "    }\n",
       "\n",
       "    .dataframe tbody tr th {\n",
       "        vertical-align: top;\n",
       "    }\n",
       "\n",
       "    .dataframe thead th {\n",
       "        text-align: right;\n",
       "    }\n",
       "</style>\n",
       "<table border=\"1\" class=\"dataframe\">\n",
       "  <thead>\n",
       "    <tr style=\"text-align: right;\">\n",
       "      <th></th>\n",
       "      <th>Age</th>\n",
       "    </tr>\n",
       "  </thead>\n",
       "  <tbody>\n",
       "    <tr>\n",
       "      <th>0.25</th>\n",
       "      <td>27.0</td>\n",
       "    </tr>\n",
       "    <tr>\n",
       "      <th>0.50</th>\n",
       "      <td>37.0</td>\n",
       "    </tr>\n",
       "    <tr>\n",
       "      <th>0.75</th>\n",
       "      <td>49.0</td>\n",
       "    </tr>\n",
       "  </tbody>\n",
       "</table>\n",
       "</div>"
      ],
      "text/plain": [
       "       Age\n",
       "0.25  27.0\n",
       "0.50  37.0\n",
       "0.75  49.0"
      ]
     },
     "execution_count": 23,
     "metadata": {},
     "output_type": "execute_result"
    }
   ],
   "source": [
    "pas_1ra[['Age']].quantile([0.25, 0.5, 0.75])"
   ]
  },
  {
   "cell_type": "code",
   "execution_count": 24,
   "id": "79636edd",
   "metadata": {
    "execution": {
     "iopub.execute_input": "2022-06-29T17:58:16.475373Z",
     "iopub.status.busy": "2022-06-29T17:58:16.474932Z",
     "iopub.status.idle": "2022-06-29T17:58:16.484785Z",
     "shell.execute_reply": "2022-06-29T17:58:16.483495Z"
    },
    "papermill": {
     "duration": 0.040671,
     "end_time": "2022-06-29T17:58:16.487360",
     "exception": false,
     "start_time": "2022-06-29T17:58:16.446689",
     "status": "completed"
    },
    "tags": []
   },
   "outputs": [
    {
     "data": {
      "text/plain": [
       "29.87763005780347"
      ]
     },
     "execution_count": 24,
     "metadata": {},
     "output_type": "execute_result"
    }
   ],
   "source": [
    "fil_2da = edades['Pclass'] == 2\n",
    "pas_2da = edades[fil_2da]\n",
    "# pasajeros de prumera clase\n",
    "pas_2da['Age'].mean()"
   ]
  },
  {
   "cell_type": "code",
   "execution_count": 25,
   "id": "2afa6b3c",
   "metadata": {
    "execution": {
     "iopub.execute_input": "2022-06-29T17:58:16.543066Z",
     "iopub.status.busy": "2022-06-29T17:58:16.542673Z",
     "iopub.status.idle": "2022-06-29T17:58:16.552467Z",
     "shell.execute_reply": "2022-06-29T17:58:16.551005Z"
    },
    "papermill": {
     "duration": 0.040458,
     "end_time": "2022-06-29T17:58:16.554909",
     "exception": false,
     "start_time": "2022-06-29T17:58:16.514451",
     "status": "completed"
    },
    "tags": []
   },
   "outputs": [
    {
     "data": {
      "text/plain": [
       "20.662183152173913"
      ]
     },
     "execution_count": 25,
     "metadata": {},
     "output_type": "execute_result"
    }
   ],
   "source": [
    "fil_2da_tarifa = tarifa['Pclass'] == 2\n",
    "pas_2da_tarifa = tarifa[fil_2da_tarifa]\n",
    "# pasajeros de prumera clase\n",
    "pas_2da_tarifa['Fare'].mean()"
   ]
  },
  {
   "cell_type": "code",
   "execution_count": 26,
   "id": "cb69fcfe",
   "metadata": {
    "execution": {
     "iopub.execute_input": "2022-06-29T17:58:16.610886Z",
     "iopub.status.busy": "2022-06-29T17:58:16.610449Z",
     "iopub.status.idle": "2022-06-29T17:58:16.624600Z",
     "shell.execute_reply": "2022-06-29T17:58:16.623352Z"
    },
    "papermill": {
     "duration": 0.045089,
     "end_time": "2022-06-29T17:58:16.627133",
     "exception": false,
     "start_time": "2022-06-29T17:58:16.582044",
     "status": "completed"
    },
    "tags": []
   },
   "outputs": [
    {
     "data": {
      "text/html": [
       "<div>\n",
       "<style scoped>\n",
       "    .dataframe tbody tr th:only-of-type {\n",
       "        vertical-align: middle;\n",
       "    }\n",
       "\n",
       "    .dataframe tbody tr th {\n",
       "        vertical-align: top;\n",
       "    }\n",
       "\n",
       "    .dataframe thead th {\n",
       "        text-align: right;\n",
       "    }\n",
       "</style>\n",
       "<table border=\"1\" class=\"dataframe\">\n",
       "  <thead>\n",
       "    <tr style=\"text-align: right;\">\n",
       "      <th></th>\n",
       "      <th>Age</th>\n",
       "    </tr>\n",
       "  </thead>\n",
       "  <tbody>\n",
       "    <tr>\n",
       "      <th>0.25</th>\n",
       "      <td>23.0</td>\n",
       "    </tr>\n",
       "    <tr>\n",
       "      <th>0.50</th>\n",
       "      <td>29.0</td>\n",
       "    </tr>\n",
       "    <tr>\n",
       "      <th>0.75</th>\n",
       "      <td>36.0</td>\n",
       "    </tr>\n",
       "  </tbody>\n",
       "</table>\n",
       "</div>"
      ],
      "text/plain": [
       "       Age\n",
       "0.25  23.0\n",
       "0.50  29.0\n",
       "0.75  36.0"
      ]
     },
     "execution_count": 26,
     "metadata": {},
     "output_type": "execute_result"
    }
   ],
   "source": [
    "pas_2da[['Age']].quantile([0.25, 0.5, 0.75])"
   ]
  },
  {
   "cell_type": "code",
   "execution_count": 27,
   "id": "56fdfec9",
   "metadata": {
    "execution": {
     "iopub.execute_input": "2022-06-29T17:58:16.683475Z",
     "iopub.status.busy": "2022-06-29T17:58:16.683004Z",
     "iopub.status.idle": "2022-06-29T17:58:16.692309Z",
     "shell.execute_reply": "2022-06-29T17:58:16.691117Z"
    },
    "papermill": {
     "duration": 0.040532,
     "end_time": "2022-06-29T17:58:16.694618",
     "exception": false,
     "start_time": "2022-06-29T17:58:16.654086",
     "status": "completed"
    },
    "tags": []
   },
   "outputs": [
    {
     "data": {
      "text/plain": [
       "25.14061971830986"
      ]
     },
     "execution_count": 27,
     "metadata": {},
     "output_type": "execute_result"
    }
   ],
   "source": [
    "fil_3ra = edades['Pclass'] == 3\n",
    "pas_3ra = edades[fil_3ra]\n",
    "# pasajeros de prumera clase\n",
    "pas_3ra['Age'].mean()"
   ]
  },
  {
   "cell_type": "code",
   "execution_count": 28,
   "id": "c6303a98",
   "metadata": {
    "execution": {
     "iopub.execute_input": "2022-06-29T17:58:16.751221Z",
     "iopub.status.busy": "2022-06-29T17:58:16.750758Z",
     "iopub.status.idle": "2022-06-29T17:58:16.760131Z",
     "shell.execute_reply": "2022-06-29T17:58:16.759188Z"
    },
    "papermill": {
     "duration": 0.040821,
     "end_time": "2022-06-29T17:58:16.762336",
     "exception": false,
     "start_time": "2022-06-29T17:58:16.721515",
     "status": "completed"
    },
    "tags": []
   },
   "outputs": [
    {
     "data": {
      "text/plain": [
       "13.675550101832993"
      ]
     },
     "execution_count": 28,
     "metadata": {},
     "output_type": "execute_result"
    }
   ],
   "source": [
    "fil_3ra_tarifa = tarifa['Pclass'] == 3\n",
    "pas_3ra_tarifa = tarifa[fil_3ra_tarifa]\n",
    "# pasajeros de prumera clase\n",
    "pas_3ra_tarifa['Fare'].mean()"
   ]
  },
  {
   "cell_type": "code",
   "execution_count": 29,
   "id": "0cba2735",
   "metadata": {
    "execution": {
     "iopub.execute_input": "2022-06-29T17:58:16.819970Z",
     "iopub.status.busy": "2022-06-29T17:58:16.819531Z",
     "iopub.status.idle": "2022-06-29T17:58:16.832700Z",
     "shell.execute_reply": "2022-06-29T17:58:16.831431Z"
    },
    "papermill": {
     "duration": 0.045027,
     "end_time": "2022-06-29T17:58:16.835124",
     "exception": false,
     "start_time": "2022-06-29T17:58:16.790097",
     "status": "completed"
    },
    "tags": []
   },
   "outputs": [
    {
     "data": {
      "text/html": [
       "<div>\n",
       "<style scoped>\n",
       "    .dataframe tbody tr th:only-of-type {\n",
       "        vertical-align: middle;\n",
       "    }\n",
       "\n",
       "    .dataframe tbody tr th {\n",
       "        vertical-align: top;\n",
       "    }\n",
       "\n",
       "    .dataframe thead th {\n",
       "        text-align: right;\n",
       "    }\n",
       "</style>\n",
       "<table border=\"1\" class=\"dataframe\">\n",
       "  <thead>\n",
       "    <tr style=\"text-align: right;\">\n",
       "      <th></th>\n",
       "      <th>Age</th>\n",
       "    </tr>\n",
       "  </thead>\n",
       "  <tbody>\n",
       "    <tr>\n",
       "      <th>0.25</th>\n",
       "      <td>18.0</td>\n",
       "    </tr>\n",
       "    <tr>\n",
       "      <th>0.50</th>\n",
       "      <td>24.0</td>\n",
       "    </tr>\n",
       "    <tr>\n",
       "      <th>0.75</th>\n",
       "      <td>32.0</td>\n",
       "    </tr>\n",
       "  </tbody>\n",
       "</table>\n",
       "</div>"
      ],
      "text/plain": [
       "       Age\n",
       "0.25  18.0\n",
       "0.50  24.0\n",
       "0.75  32.0"
      ]
     },
     "execution_count": 29,
     "metadata": {},
     "output_type": "execute_result"
    }
   ],
   "source": [
    "pas_3ra[['Age']].quantile([0.25, 0.5, 0.75])"
   ]
  },
  {
   "cell_type": "code",
   "execution_count": 30,
   "id": "9cc0a1bb",
   "metadata": {
    "execution": {
     "iopub.execute_input": "2022-06-29T17:58:16.893128Z",
     "iopub.status.busy": "2022-06-29T17:58:16.892655Z",
     "iopub.status.idle": "2022-06-29T17:58:16.900162Z",
     "shell.execute_reply": "2022-06-29T17:58:16.898717Z"
    },
    "papermill": {
     "duration": 0.039545,
     "end_time": "2022-06-29T17:58:16.902618",
     "exception": false,
     "start_time": "2022-06-29T17:58:16.863073",
     "status": "completed"
    },
    "tags": []
   },
   "outputs": [],
   "source": [
    "# Imputar datos de la clase a partir de la mediana de la edad\n",
    "def imputar_edad(cols):\n",
    "    Age = cols[0]\n",
    "    Pclass = cols[1]\n",
    "    \n",
    "    if pd.isnull(Age):\n",
    "\n",
    "        if Pclass == 1:\n",
    "            return 37\n",
    "\n",
    "        elif Pclass == 2:\n",
    "            return 29\n",
    "\n",
    "        else:\n",
    "            return 24\n",
    "\n",
    "    else:\n",
    "        return Age"
   ]
  },
  {
   "cell_type": "code",
   "execution_count": 31,
   "id": "268c44ec",
   "metadata": {
    "execution": {
     "iopub.execute_input": "2022-06-29T17:58:16.959237Z",
     "iopub.status.busy": "2022-06-29T17:58:16.958796Z",
     "iopub.status.idle": "2022-06-29T17:58:16.966520Z",
     "shell.execute_reply": "2022-06-29T17:58:16.965165Z"
    },
    "papermill": {
     "duration": 0.039335,
     "end_time": "2022-06-29T17:58:16.969237",
     "exception": false,
     "start_time": "2022-06-29T17:58:16.929902",
     "status": "completed"
    },
    "tags": []
   },
   "outputs": [],
   "source": [
    "# Imputar datos de la clase a partir de la mediana de la tarifa\n",
    "def imputar_tarifa(cols):\n",
    "    Fare = cols[0]\n",
    "    Pclass = cols[1]\n",
    "    \n",
    "    if pd.isnull(Fare):\n",
    "\n",
    "        if Pclass == 1:\n",
    "            return 84\n",
    "\n",
    "        elif Pclass == 2:\n",
    "            return 21\n",
    "\n",
    "        else:\n",
    "            return 14\n",
    "\n",
    "    else:\n",
    "        return Fare"
   ]
  },
  {
   "cell_type": "code",
   "execution_count": 32,
   "id": "c268ba7e",
   "metadata": {
    "execution": {
     "iopub.execute_input": "2022-06-29T17:58:17.026274Z",
     "iopub.status.busy": "2022-06-29T17:58:17.025842Z",
     "iopub.status.idle": "2022-06-29T17:58:17.067004Z",
     "shell.execute_reply": "2022-06-29T17:58:17.065594Z"
    },
    "papermill": {
     "duration": 0.073622,
     "end_time": "2022-06-29T17:58:17.070226",
     "exception": false,
     "start_time": "2022-06-29T17:58:16.996604",
     "status": "completed"
    },
    "tags": []
   },
   "outputs": [],
   "source": [
    "train['Age'] = train[['Age','Pclass']].apply(imputar_edad,axis=1)\n",
    "test['Age'] = test[['Age','Pclass']].apply(imputar_edad,axis=1)\n",
    "test['Fare'] = test[['Fare','Pclass']].apply(imputar_tarifa,axis=1)"
   ]
  },
  {
   "cell_type": "code",
   "execution_count": 33,
   "id": "bc215301",
   "metadata": {
    "execution": {
     "iopub.execute_input": "2022-06-29T17:58:17.127703Z",
     "iopub.status.busy": "2022-06-29T17:58:17.127322Z",
     "iopub.status.idle": "2022-06-29T17:58:17.412288Z",
     "shell.execute_reply": "2022-06-29T17:58:17.410797Z"
    },
    "papermill": {
     "duration": 0.316872,
     "end_time": "2022-06-29T17:58:17.415104",
     "exception": false,
     "start_time": "2022-06-29T17:58:17.098232",
     "status": "completed"
    },
    "tags": []
   },
   "outputs": [
    {
     "data": {
      "text/plain": [
       "<AxesSubplot:>"
      ]
     },
     "execution_count": 33,
     "metadata": {},
     "output_type": "execute_result"
    },
    {
     "data": {
      "image/png": "[encoded data removed]",
      "text/plain": [
       "<Figure size 432x288 with 1 Axes>"
      ]
     },
     "metadata": {},
     "output_type": "display_data"
    }
   ],
   "source": [
    "sns.heatmap(train.isnull(),yticklabels=False,cbar=False,cmap='viridis')"
   ]
  },
  {
   "cell_type": "code",
   "execution_count": 34,
   "id": "d6ff4578",
   "metadata": {
    "execution": {
     "iopub.execute_input": "2022-06-29T17:58:17.474402Z",
     "iopub.status.busy": "2022-06-29T17:58:17.473160Z",
     "iopub.status.idle": "2022-06-29T17:58:17.731617Z",
     "shell.execute_reply": "2022-06-29T17:58:17.730668Z"
    },
    "papermill": {
     "duration": 0.290848,
     "end_time": "2022-06-29T17:58:17.734036",
     "exception": false,
     "start_time": "2022-06-29T17:58:17.443188",
     "status": "completed"
    },
    "tags": []
   },
   "outputs": [
    {
     "data": {
      "text/plain": [
       "<AxesSubplot:>"
      ]
     },
     "execution_count": 34,
     "metadata": {},
     "output_type": "execute_result"
    },
    {
     "data": {
      "image/png": "[encoded data removed]",
      "text/plain": [
       "<Figure size 432x288 with 1 Axes>"
      ]
     },
     "metadata": {},
     "output_type": "display_data"
    }
   ],
   "source": [
    "sns.heatmap(test.isnull(),yticklabels=False,cbar=False,cmap='viridis')"
   ]
  },
  {
   "cell_type": "code",
   "execution_count": 35,
   "id": "3dd0a510",
   "metadata": {
    "execution": {
     "iopub.execute_input": "2022-06-29T17:58:17.795228Z",
     "iopub.status.busy": "2022-06-29T17:58:17.794506Z",
     "iopub.status.idle": "2022-06-29T17:58:17.810767Z",
     "shell.execute_reply": "2022-06-29T17:58:17.808801Z"
    },
    "papermill": {
     "duration": 0.050006,
     "end_time": "2022-06-29T17:58:17.813413",
     "exception": false,
     "start_time": "2022-06-29T17:58:17.763407",
     "status": "completed"
    },
    "tags": []
   },
   "outputs": [
    {
     "name": "stdout",
     "output_type": "stream",
     "text": [
      "<class 'pandas.core.frame.DataFrame'>\n",
      "RangeIndex: 891 entries, 0 to 890\n",
      "Data columns (total 12 columns):\n",
      " #   Column       Non-Null Count  Dtype  \n",
      "---  ------       --------------  -----  \n",
      " 0   PassengerId  891 non-null    int64  \n",
      " 1   Survived     891 non-null    int64  \n",
      " 2   Pclass       891 non-null    int64  \n",
      " 3   Name         891 non-null    object \n",
      " 4   Sex          891 non-null    object \n",
      " 5   Age          891 non-null    float64\n",
      " 6   SibSp        891 non-null    int64  \n",
      " 7   Parch        891 non-null    int64  \n",
      " 8   Ticket       891 non-null    object \n",
      " 9   Fare         891 non-null    float64\n",
      " 10  Cabin        204 non-null    object \n",
      " 11  Embarked     889 non-null    object \n",
      "dtypes: float64(2), int64(5), object(5)\n",
      "memory usage: 83.7+ KB\n"
     ]
    }
   ],
   "source": [
    "train.info()"
   ]
  },
  {
   "cell_type": "code",
   "execution_count": 36,
   "id": "c6e983cc",
   "metadata": {
    "execution": {
     "iopub.execute_input": "2022-06-29T17:58:17.873359Z",
     "iopub.status.busy": "2022-06-29T17:58:17.872536Z",
     "iopub.status.idle": "2022-06-29T17:58:17.880575Z",
     "shell.execute_reply": "2022-06-29T17:58:17.879606Z"
    },
    "papermill": {
     "duration": 0.0418,
     "end_time": "2022-06-29T17:58:17.883259",
     "exception": false,
     "start_time": "2022-06-29T17:58:17.841459",
     "status": "completed"
    },
    "tags": []
   },
   "outputs": [],
   "source": [
    "# Elimina la columna cabina\n",
    "# inplace: toma efecto sobre el mismo dataFrame\n",
    "train.drop('Cabin',axis=1,inplace=True)\n",
    "test.drop('Cabin',axis=1,inplace=True)"
   ]
  },
  {
   "cell_type": "code",
   "execution_count": 37,
   "id": "b21b1fbb",
   "metadata": {
    "execution": {
     "iopub.execute_input": "2022-06-29T17:58:17.942560Z",
     "iopub.status.busy": "2022-06-29T17:58:17.941717Z",
     "iopub.status.idle": "2022-06-29T17:58:17.961703Z",
     "shell.execute_reply": "2022-06-29T17:58:17.960101Z"
    },
    "papermill": {
     "duration": 0.05353,
     "end_time": "2022-06-29T17:58:17.964967",
     "exception": false,
     "start_time": "2022-06-29T17:58:17.911437",
     "status": "completed"
    },
    "tags": []
   },
   "outputs": [
    {
     "data": {
      "text/html": [
       "<div>\n",
       "<style scoped>\n",
       "    .dataframe tbody tr th:only-of-type {\n",
       "        vertical-align: middle;\n",
       "    }\n",
       "\n",
       "    .dataframe tbody tr th {\n",
       "        vertical-align: top;\n",
       "    }\n",
       "\n",
       "    .dataframe thead th {\n",
       "        text-align: right;\n",
       "    }\n",
       "</style>\n",
       "<table border=\"1\" class=\"dataframe\">\n",
       "  <thead>\n",
       "    <tr style=\"text-align: right;\">\n",
       "      <th></th>\n",
       "      <th>PassengerId</th>\n",
       "      <th>Survived</th>\n",
       "      <th>Pclass</th>\n",
       "      <th>Name</th>\n",
       "      <th>Sex</th>\n",
       "      <th>Age</th>\n",
       "      <th>SibSp</th>\n",
       "      <th>Parch</th>\n",
       "      <th>Ticket</th>\n",
       "      <th>Fare</th>\n",
       "      <th>Embarked</th>\n",
       "    </tr>\n",
       "  </thead>\n",
       "  <tbody>\n",
       "    <tr>\n",
       "      <th>0</th>\n",
       "      <td>1</td>\n",
       "      <td>0</td>\n",
       "      <td>3</td>\n",
       "      <td>Braund, Mr. Owen Harris</td>\n",
       "      <td>male</td>\n",
       "      <td>22.0</td>\n",
       "      <td>1</td>\n",
       "      <td>0</td>\n",
       "      <td>A/5 21171</td>\n",
       "      <td>7.2500</td>\n",
       "      <td>S</td>\n",
       "    </tr>\n",
       "    <tr>\n",
       "      <th>1</th>\n",
       "      <td>2</td>\n",
       "      <td>1</td>\n",
       "      <td>1</td>\n",
       "      <td>Cumings, Mrs. John Bradley (Florence Briggs Th...</td>\n",
       "      <td>female</td>\n",
       "      <td>38.0</td>\n",
       "      <td>1</td>\n",
       "      <td>0</td>\n",
       "      <td>PC 17599</td>\n",
       "      <td>71.2833</td>\n",
       "      <td>C</td>\n",
       "    </tr>\n",
       "    <tr>\n",
       "      <th>2</th>\n",
       "      <td>3</td>\n",
       "      <td>1</td>\n",
       "      <td>3</td>\n",
       "      <td>Heikkinen, Miss. Laina</td>\n",
       "      <td>female</td>\n",
       "      <td>26.0</td>\n",
       "      <td>0</td>\n",
       "      <td>0</td>\n",
       "      <td>STON/O2. 3101282</td>\n",
       "      <td>7.9250</td>\n",
       "      <td>S</td>\n",
       "    </tr>\n",
       "    <tr>\n",
       "      <th>3</th>\n",
       "      <td>4</td>\n",
       "      <td>1</td>\n",
       "      <td>1</td>\n",
       "      <td>Futrelle, Mrs. Jacques Heath (Lily May Peel)</td>\n",
       "      <td>female</td>\n",
       "      <td>35.0</td>\n",
       "      <td>1</td>\n",
       "      <td>0</td>\n",
       "      <td>113803</td>\n",
       "      <td>53.1000</td>\n",
       "      <td>S</td>\n",
       "    </tr>\n",
       "    <tr>\n",
       "      <th>4</th>\n",
       "      <td>5</td>\n",
       "      <td>0</td>\n",
       "      <td>3</td>\n",
       "      <td>Allen, Mr. William Henry</td>\n",
       "      <td>male</td>\n",
       "      <td>35.0</td>\n",
       "      <td>0</td>\n",
       "      <td>0</td>\n",
       "      <td>373450</td>\n",
       "      <td>8.0500</td>\n",
       "      <td>S</td>\n",
       "    </tr>\n",
       "  </tbody>\n",
       "</table>\n",
       "</div>"
      ],
      "text/plain": [
       "   PassengerId  Survived  Pclass  \\\n",
       "0            1         0       3   \n",
       "1            2         1       1   \n",
       "2            3         1       3   \n",
       "3            4         1       1   \n",
       "4            5         0       3   \n",
       "\n",
       "                                                Name     Sex   Age  SibSp  \\\n",
       "0                            Braund, Mr. Owen Harris    male  22.0      1   \n",
       "1  Cumings, Mrs. John Bradley (Florence Briggs Th...  female  38.0      1   \n",
       "2                             Heikkinen, Miss. Laina  female  26.0      0   \n",
       "3       Futrelle, Mrs. Jacques Heath (Lily May Peel)  female  35.0      1   \n",
       "4                           Allen, Mr. William Henry    male  35.0      0   \n",
       "\n",
       "   Parch            Ticket     Fare Embarked  \n",
       "0      0         A/5 21171   7.2500        S  \n",
       "1      0          PC 17599  71.2833        C  \n",
       "2      0  STON/O2. 3101282   7.9250        S  \n",
       "3      0            113803  53.1000        S  \n",
       "4      0            373450   8.0500        S  "
      ]
     },
     "execution_count": 37,
     "metadata": {},
     "output_type": "execute_result"
    }
   ],
   "source": [
    "train.head()"
   ]
  },
  {
   "cell_type": "code",
   "execution_count": 38,
   "id": "a3732ce5",
   "metadata": {
    "execution": {
     "iopub.execute_input": "2022-06-29T17:58:18.028225Z",
     "iopub.status.busy": "2022-06-29T17:58:18.027778Z",
     "iopub.status.idle": "2022-06-29T17:58:18.298696Z",
     "shell.execute_reply": "2022-06-29T17:58:18.297752Z"
    },
    "papermill": {
     "duration": 0.306644,
     "end_time": "2022-06-29T17:58:18.301131",
     "exception": false,
     "start_time": "2022-06-29T17:58:17.994487",
     "status": "completed"
    },
    "tags": []
   },
   "outputs": [
    {
     "data": {
      "text/plain": [
       "<AxesSubplot:>"
      ]
     },
     "execution_count": 38,
     "metadata": {},
     "output_type": "execute_result"
    },
    {
     "data": {
      "image/png": "[encoded data removed]",
      "text/plain": [
       "<Figure size 432x288 with 1 Axes>"
      ]
     },
     "metadata": {},
     "output_type": "display_data"
    }
   ],
   "source": [
    "sns.heatmap(train.isnull(),yticklabels=False,cbar=False,cmap='viridis')"
   ]
  },
  {
   "cell_type": "code",
   "execution_count": 39,
   "id": "e23f6bb7",
   "metadata": {
    "execution": {
     "iopub.execute_input": "2022-06-29T17:58:18.364153Z",
     "iopub.status.busy": "2022-06-29T17:58:18.363497Z",
     "iopub.status.idle": "2022-06-29T17:58:18.373916Z",
     "shell.execute_reply": "2022-06-29T17:58:18.372183Z"
    },
    "papermill": {
     "duration": 0.04522,
     "end_time": "2022-06-29T17:58:18.376955",
     "exception": false,
     "start_time": "2022-06-29T17:58:18.331735",
     "status": "completed"
    },
    "tags": []
   },
   "outputs": [],
   "source": [
    "# Elimina finas con datos faltantes\n",
    "train.dropna(inplace=True)"
   ]
  },
  {
   "cell_type": "code",
   "execution_count": 40,
   "id": "2c6d1a2e",
   "metadata": {
    "execution": {
     "iopub.execute_input": "2022-06-29T17:58:18.438052Z",
     "iopub.status.busy": "2022-06-29T17:58:18.437602Z",
     "iopub.status.idle": "2022-06-29T17:58:18.702903Z",
     "shell.execute_reply": "2022-06-29T17:58:18.701779Z"
    },
    "papermill": {
     "duration": 0.29862,
     "end_time": "2022-06-29T17:58:18.705395",
     "exception": false,
     "start_time": "2022-06-29T17:58:18.406775",
     "status": "completed"
    },
    "tags": []
   },
   "outputs": [
    {
     "data": {
      "text/plain": [
       "<AxesSubplot:>"
      ]
     },
     "execution_count": 40,
     "metadata": {},
     "output_type": "execute_result"
    },
    {
     "data": {
      "image/png": "[encoded data removed]",
      "text/plain": [
       "<Figure size 432x288 with 1 Axes>"
      ]
     },
     "metadata": {},
     "output_type": "display_data"
    }
   ],
   "source": [
    "sns.heatmap(train.isnull(),yticklabels=False,cbar=False,cmap='viridis')"
   ]
  },
  {
   "cell_type": "markdown",
   "id": "baabdef7",
   "metadata": {
    "papermill": {
     "duration": 0.029466,
     "end_time": "2022-06-29T17:58:18.764517",
     "exception": false,
     "start_time": "2022-06-29T17:58:18.735051",
     "status": "completed"
    },
    "tags": []
   },
   "source": [
    "## Convert categoricals to dummy"
   ]
  },
  {
   "cell_type": "code",
   "execution_count": 41,
   "id": "77930d43",
   "metadata": {
    "execution": {
     "iopub.execute_input": "2022-06-29T17:58:18.827402Z",
     "iopub.status.busy": "2022-06-29T17:58:18.826666Z",
     "iopub.status.idle": "2022-06-29T17:58:18.836763Z",
     "shell.execute_reply": "2022-06-29T17:58:18.835333Z"
    },
    "papermill": {
     "duration": 0.04514,
     "end_time": "2022-06-29T17:58:18.839633",
     "exception": false,
     "start_time": "2022-06-29T17:58:18.794493",
     "status": "completed"
    },
    "tags": []
   },
   "outputs": [],
   "source": [
    "def convert_categorical_to_dummy(dataframe):\n",
    "    dataframe.info()\n",
    "    # Valores que tiene Sex\n",
    "    dataframe['Sex'].unique()\n",
    "    # Valores que tiene Embarked\n",
    "    dataframe['Embarked'].unique()\n",
    "    dataframe.head()\n",
    "    # Convertir variables dummies (0-1) crea nuevas columnas\n",
    "    pd.get_dummies(dataframe['Sex'])\n",
    "    pd.get_dummies(dataframe['Embarked'],drop_first=True)\n",
    "    \n",
    "    # drop_first=True: elimina la primera columna categórica\n",
    "    # crea columnas sex y embark con variables dummies\n",
    "    sex = pd.get_dummies(dataframe['Sex'],drop_first=True)\n",
    "    embark = pd.get_dummies(dataframe['Embarked'],drop_first=True)\n",
    "    \n",
    "    # Elimina 4 columnas\n",
    "    dataframe.drop(['Sex','Embarked','Name','Ticket', 'PassengerId'],axis=1,inplace=True)\n",
    "    \n",
    "    # Agrega 2 columnas, axis = 1\n",
    "    dataframe = pd.concat([dataframe,sex,embark],axis=1)\n",
    "    \n",
    "    # Guardando datos procesados\n",
    "    #train.to_csv('titanic_procesado.csv')\n",
    "    return dataframe\n",
    "    "
   ]
  },
  {
   "cell_type": "code",
   "execution_count": 42,
   "id": "4e25e53e",
   "metadata": {
    "execution": {
     "iopub.execute_input": "2022-06-29T17:58:18.901155Z",
     "iopub.status.busy": "2022-06-29T17:58:18.900335Z",
     "iopub.status.idle": "2022-06-29T17:58:18.921875Z",
     "shell.execute_reply": "2022-06-29T17:58:18.920199Z"
    },
    "papermill": {
     "duration": 0.055728,
     "end_time": "2022-06-29T17:58:18.924991",
     "exception": false,
     "start_time": "2022-06-29T17:58:18.869263",
     "status": "completed"
    },
    "tags": []
   },
   "outputs": [
    {
     "name": "stdout",
     "output_type": "stream",
     "text": [
      "<class 'pandas.core.frame.DataFrame'>\n",
      "Int64Index: 889 entries, 0 to 890\n",
      "Data columns (total 11 columns):\n",
      " #   Column       Non-Null Count  Dtype  \n",
      "---  ------       --------------  -----  \n",
      " 0   PassengerId  889 non-null    int64  \n",
      " 1   Survived     889 non-null    int64  \n",
      " 2   Pclass       889 non-null    int64  \n",
      " 3   Name         889 non-null    object \n",
      " 4   Sex          889 non-null    object \n",
      " 5   Age          889 non-null    float64\n",
      " 6   SibSp        889 non-null    int64  \n",
      " 7   Parch        889 non-null    int64  \n",
      " 8   Ticket       889 non-null    object \n",
      " 9   Fare         889 non-null    float64\n",
      " 10  Embarked     889 non-null    object \n",
      "dtypes: float64(2), int64(5), object(4)\n",
      "memory usage: 83.3+ KB\n"
     ]
    }
   ],
   "source": [
    "train = convert_categorical_to_dummy(train)"
   ]
  },
  {
   "cell_type": "code",
   "execution_count": 43,
   "id": "e8c6a387",
   "metadata": {
    "execution": {
     "iopub.execute_input": "2022-06-29T17:58:18.989153Z",
     "iopub.status.busy": "2022-06-29T17:58:18.988365Z",
     "iopub.status.idle": "2022-06-29T17:58:19.009310Z",
     "shell.execute_reply": "2022-06-29T17:58:19.007084Z"
    },
    "papermill": {
     "duration": 0.056295,
     "end_time": "2022-06-29T17:58:19.012478",
     "exception": false,
     "start_time": "2022-06-29T17:58:18.956183",
     "status": "completed"
    },
    "tags": []
   },
   "outputs": [
    {
     "name": "stdout",
     "output_type": "stream",
     "text": [
      "<class 'pandas.core.frame.DataFrame'>\n",
      "RangeIndex: 418 entries, 0 to 417\n",
      "Data columns (total 10 columns):\n",
      " #   Column       Non-Null Count  Dtype  \n",
      "---  ------       --------------  -----  \n",
      " 0   PassengerId  418 non-null    int64  \n",
      " 1   Pclass       418 non-null    int64  \n",
      " 2   Name         418 non-null    object \n",
      " 3   Sex          418 non-null    object \n",
      " 4   Age          418 non-null    float64\n",
      " 5   SibSp        418 non-null    int64  \n",
      " 6   Parch        418 non-null    int64  \n",
      " 7   Ticket       418 non-null    object \n",
      " 8   Fare         418 non-null    float64\n",
      " 9   Embarked     418 non-null    object \n",
      "dtypes: float64(2), int64(4), object(4)\n",
      "memory usage: 32.8+ KB\n"
     ]
    }
   ],
   "source": [
    "test = convert_categorical_to_dummy(test)"
   ]
  },
  {
   "cell_type": "code",
   "execution_count": 44,
   "id": "3f16b467",
   "metadata": {
    "execution": {
     "iopub.execute_input": "2022-06-29T17:58:19.074765Z",
     "iopub.status.busy": "2022-06-29T17:58:19.074358Z",
     "iopub.status.idle": "2022-06-29T17:58:19.090204Z",
     "shell.execute_reply": "2022-06-29T17:58:19.088403Z"
    },
    "papermill": {
     "duration": 0.049685,
     "end_time": "2022-06-29T17:58:19.092803",
     "exception": false,
     "start_time": "2022-06-29T17:58:19.043118",
     "status": "completed"
    },
    "tags": []
   },
   "outputs": [
    {
     "name": "stdout",
     "output_type": "stream",
     "text": [
      "<class 'pandas.core.frame.DataFrame'>\n",
      "Int64Index: 889 entries, 0 to 890\n",
      "Data columns (total 9 columns):\n",
      " #   Column    Non-Null Count  Dtype  \n",
      "---  ------    --------------  -----  \n",
      " 0   Survived  889 non-null    int64  \n",
      " 1   Pclass    889 non-null    int64  \n",
      " 2   Age       889 non-null    float64\n",
      " 3   SibSp     889 non-null    int64  \n",
      " 4   Parch     889 non-null    int64  \n",
      " 5   Fare      889 non-null    float64\n",
      " 6   male      889 non-null    uint8  \n",
      " 7   Q         889 non-null    uint8  \n",
      " 8   S         889 non-null    uint8  \n",
      "dtypes: float64(2), int64(4), uint8(3)\n",
      "memory usage: 51.2 KB\n"
     ]
    }
   ],
   "source": [
    "train.info()"
   ]
  },
  {
   "cell_type": "code",
   "execution_count": 45,
   "id": "9ad03d45",
   "metadata": {
    "execution": {
     "iopub.execute_input": "2022-06-29T17:58:19.155854Z",
     "iopub.status.busy": "2022-06-29T17:58:19.155138Z",
     "iopub.status.idle": "2022-06-29T17:58:19.170245Z",
     "shell.execute_reply": "2022-06-29T17:58:19.168932Z"
    },
    "papermill": {
     "duration": 0.051402,
     "end_time": "2022-06-29T17:58:19.174131",
     "exception": false,
     "start_time": "2022-06-29T17:58:19.122729",
     "status": "completed"
    },
    "tags": []
   },
   "outputs": [
    {
     "name": "stdout",
     "output_type": "stream",
     "text": [
      "<class 'pandas.core.frame.DataFrame'>\n",
      "RangeIndex: 418 entries, 0 to 417\n",
      "Data columns (total 8 columns):\n",
      " #   Column  Non-Null Count  Dtype  \n",
      "---  ------  --------------  -----  \n",
      " 0   Pclass  418 non-null    int64  \n",
      " 1   Age     418 non-null    float64\n",
      " 2   SibSp   418 non-null    int64  \n",
      " 3   Parch   418 non-null    int64  \n",
      " 4   Fare    418 non-null    float64\n",
      " 5   male    418 non-null    uint8  \n",
      " 6   Q       418 non-null    uint8  \n",
      " 7   S       418 non-null    uint8  \n",
      "dtypes: float64(2), int64(3), uint8(3)\n",
      "memory usage: 17.7 KB\n"
     ]
    }
   ],
   "source": [
    "test.info()"
   ]
  },
  {
   "cell_type": "code",
   "execution_count": 46,
   "id": "51366250",
   "metadata": {
    "execution": {
     "iopub.execute_input": "2022-06-29T17:58:19.236693Z",
     "iopub.status.busy": "2022-06-29T17:58:19.235983Z",
     "iopub.status.idle": "2022-06-29T17:58:19.255376Z",
     "shell.execute_reply": "2022-06-29T17:58:19.253863Z"
    },
    "papermill": {
     "duration": 0.053163,
     "end_time": "2022-06-29T17:58:19.258090",
     "exception": false,
     "start_time": "2022-06-29T17:58:19.204927",
     "status": "completed"
    },
    "tags": []
   },
   "outputs": [
    {
     "data": {
      "text/html": [
       "<div>\n",
       "<style scoped>\n",
       "    .dataframe tbody tr th:only-of-type {\n",
       "        vertical-align: middle;\n",
       "    }\n",
       "\n",
       "    .dataframe tbody tr th {\n",
       "        vertical-align: top;\n",
       "    }\n",
       "\n",
       "    .dataframe thead th {\n",
       "        text-align: right;\n",
       "    }\n",
       "</style>\n",
       "<table border=\"1\" class=\"dataframe\">\n",
       "  <thead>\n",
       "    <tr style=\"text-align: right;\">\n",
       "      <th></th>\n",
       "      <th>Survived</th>\n",
       "      <th>Pclass</th>\n",
       "      <th>Age</th>\n",
       "      <th>SibSp</th>\n",
       "      <th>Parch</th>\n",
       "      <th>Fare</th>\n",
       "      <th>male</th>\n",
       "      <th>Q</th>\n",
       "      <th>S</th>\n",
       "    </tr>\n",
       "  </thead>\n",
       "  <tbody>\n",
       "    <tr>\n",
       "      <th>0</th>\n",
       "      <td>0</td>\n",
       "      <td>3</td>\n",
       "      <td>22.0</td>\n",
       "      <td>1</td>\n",
       "      <td>0</td>\n",
       "      <td>7.2500</td>\n",
       "      <td>1</td>\n",
       "      <td>0</td>\n",
       "      <td>1</td>\n",
       "    </tr>\n",
       "    <tr>\n",
       "      <th>1</th>\n",
       "      <td>1</td>\n",
       "      <td>1</td>\n",
       "      <td>38.0</td>\n",
       "      <td>1</td>\n",
       "      <td>0</td>\n",
       "      <td>71.2833</td>\n",
       "      <td>0</td>\n",
       "      <td>0</td>\n",
       "      <td>0</td>\n",
       "    </tr>\n",
       "    <tr>\n",
       "      <th>2</th>\n",
       "      <td>1</td>\n",
       "      <td>3</td>\n",
       "      <td>26.0</td>\n",
       "      <td>0</td>\n",
       "      <td>0</td>\n",
       "      <td>7.9250</td>\n",
       "      <td>0</td>\n",
       "      <td>0</td>\n",
       "      <td>1</td>\n",
       "    </tr>\n",
       "    <tr>\n",
       "      <th>3</th>\n",
       "      <td>1</td>\n",
       "      <td>1</td>\n",
       "      <td>35.0</td>\n",
       "      <td>1</td>\n",
       "      <td>0</td>\n",
       "      <td>53.1000</td>\n",
       "      <td>0</td>\n",
       "      <td>0</td>\n",
       "      <td>1</td>\n",
       "    </tr>\n",
       "    <tr>\n",
       "      <th>4</th>\n",
       "      <td>0</td>\n",
       "      <td>3</td>\n",
       "      <td>35.0</td>\n",
       "      <td>0</td>\n",
       "      <td>0</td>\n",
       "      <td>8.0500</td>\n",
       "      <td>1</td>\n",
       "      <td>0</td>\n",
       "      <td>1</td>\n",
       "    </tr>\n",
       "    <tr>\n",
       "      <th>5</th>\n",
       "      <td>0</td>\n",
       "      <td>3</td>\n",
       "      <td>24.0</td>\n",
       "      <td>0</td>\n",
       "      <td>0</td>\n",
       "      <td>8.4583</td>\n",
       "      <td>1</td>\n",
       "      <td>1</td>\n",
       "      <td>0</td>\n",
       "    </tr>\n",
       "    <tr>\n",
       "      <th>6</th>\n",
       "      <td>0</td>\n",
       "      <td>1</td>\n",
       "      <td>54.0</td>\n",
       "      <td>0</td>\n",
       "      <td>0</td>\n",
       "      <td>51.8625</td>\n",
       "      <td>1</td>\n",
       "      <td>0</td>\n",
       "      <td>1</td>\n",
       "    </tr>\n",
       "    <tr>\n",
       "      <th>7</th>\n",
       "      <td>0</td>\n",
       "      <td>3</td>\n",
       "      <td>2.0</td>\n",
       "      <td>3</td>\n",
       "      <td>1</td>\n",
       "      <td>21.0750</td>\n",
       "      <td>1</td>\n",
       "      <td>0</td>\n",
       "      <td>1</td>\n",
       "    </tr>\n",
       "    <tr>\n",
       "      <th>8</th>\n",
       "      <td>1</td>\n",
       "      <td>3</td>\n",
       "      <td>27.0</td>\n",
       "      <td>0</td>\n",
       "      <td>2</td>\n",
       "      <td>11.1333</td>\n",
       "      <td>0</td>\n",
       "      <td>0</td>\n",
       "      <td>1</td>\n",
       "    </tr>\n",
       "    <tr>\n",
       "      <th>9</th>\n",
       "      <td>1</td>\n",
       "      <td>2</td>\n",
       "      <td>14.0</td>\n",
       "      <td>1</td>\n",
       "      <td>0</td>\n",
       "      <td>30.0708</td>\n",
       "      <td>0</td>\n",
       "      <td>0</td>\n",
       "      <td>0</td>\n",
       "    </tr>\n",
       "    <tr>\n",
       "      <th>10</th>\n",
       "      <td>1</td>\n",
       "      <td>3</td>\n",
       "      <td>4.0</td>\n",
       "      <td>1</td>\n",
       "      <td>1</td>\n",
       "      <td>16.7000</td>\n",
       "      <td>0</td>\n",
       "      <td>0</td>\n",
       "      <td>1</td>\n",
       "    </tr>\n",
       "    <tr>\n",
       "      <th>11</th>\n",
       "      <td>1</td>\n",
       "      <td>1</td>\n",
       "      <td>58.0</td>\n",
       "      <td>0</td>\n",
       "      <td>0</td>\n",
       "      <td>26.5500</td>\n",
       "      <td>0</td>\n",
       "      <td>0</td>\n",
       "      <td>1</td>\n",
       "    </tr>\n",
       "    <tr>\n",
       "      <th>12</th>\n",
       "      <td>0</td>\n",
       "      <td>3</td>\n",
       "      <td>20.0</td>\n",
       "      <td>0</td>\n",
       "      <td>0</td>\n",
       "      <td>8.0500</td>\n",
       "      <td>1</td>\n",
       "      <td>0</td>\n",
       "      <td>1</td>\n",
       "    </tr>\n",
       "    <tr>\n",
       "      <th>13</th>\n",
       "      <td>0</td>\n",
       "      <td>3</td>\n",
       "      <td>39.0</td>\n",
       "      <td>1</td>\n",
       "      <td>5</td>\n",
       "      <td>31.2750</td>\n",
       "      <td>1</td>\n",
       "      <td>0</td>\n",
       "      <td>1</td>\n",
       "    </tr>\n",
       "    <tr>\n",
       "      <th>14</th>\n",
       "      <td>0</td>\n",
       "      <td>3</td>\n",
       "      <td>14.0</td>\n",
       "      <td>0</td>\n",
       "      <td>0</td>\n",
       "      <td>7.8542</td>\n",
       "      <td>0</td>\n",
       "      <td>0</td>\n",
       "      <td>1</td>\n",
       "    </tr>\n",
       "  </tbody>\n",
       "</table>\n",
       "</div>"
      ],
      "text/plain": [
       "    Survived  Pclass   Age  SibSp  Parch     Fare  male  Q  S\n",
       "0          0       3  22.0      1      0   7.2500     1  0  1\n",
       "1          1       1  38.0      1      0  71.2833     0  0  0\n",
       "2          1       3  26.0      0      0   7.9250     0  0  1\n",
       "3          1       1  35.0      1      0  53.1000     0  0  1\n",
       "4          0       3  35.0      0      0   8.0500     1  0  1\n",
       "5          0       3  24.0      0      0   8.4583     1  1  0\n",
       "6          0       1  54.0      0      0  51.8625     1  0  1\n",
       "7          0       3   2.0      3      1  21.0750     1  0  1\n",
       "8          1       3  27.0      0      2  11.1333     0  0  1\n",
       "9          1       2  14.0      1      0  30.0708     0  0  0\n",
       "10         1       3   4.0      1      1  16.7000     0  0  1\n",
       "11         1       1  58.0      0      0  26.5500     0  0  1\n",
       "12         0       3  20.0      0      0   8.0500     1  0  1\n",
       "13         0       3  39.0      1      5  31.2750     1  0  1\n",
       "14         0       3  14.0      0      0   7.8542     0  0  1"
      ]
     },
     "execution_count": 46,
     "metadata": {},
     "output_type": "execute_result"
    }
   ],
   "source": [
    "train.head(15)"
   ]
  },
  {
   "cell_type": "markdown",
   "id": "94656b5b",
   "metadata": {
    "papermill": {
     "duration": 0.030247,
     "end_time": "2022-06-29T17:58:19.318658",
     "exception": false,
     "start_time": "2022-06-29T17:58:19.288411",
     "status": "completed"
    },
    "tags": []
   },
   "source": [
    "# Using Logistic Regression"
   ]
  },
  {
   "cell_type": "code",
   "execution_count": 47,
   "id": "6acd6a6d",
   "metadata": {
    "execution": {
     "iopub.execute_input": "2022-06-29T17:58:19.382396Z",
     "iopub.status.busy": "2022-06-29T17:58:19.381593Z",
     "iopub.status.idle": "2022-06-29T17:58:19.388839Z",
     "shell.execute_reply": "2022-06-29T17:58:19.387892Z"
    },
    "papermill": {
     "duration": 0.042901,
     "end_time": "2022-06-29T17:58:19.391555",
     "exception": false,
     "start_time": "2022-06-29T17:58:19.348654",
     "status": "completed"
    },
    "tags": []
   },
   "outputs": [],
   "source": [
    "X = train.drop('Survived',axis=1)"
   ]
  },
  {
   "cell_type": "code",
   "execution_count": 48,
   "id": "9695d5d1",
   "metadata": {
    "execution": {
     "iopub.execute_input": "2022-06-29T17:58:19.454208Z",
     "iopub.status.busy": "2022-06-29T17:58:19.453373Z",
     "iopub.status.idle": "2022-06-29T17:58:19.459060Z",
     "shell.execute_reply": "2022-06-29T17:58:19.458162Z"
    },
    "papermill": {
     "duration": 0.03998,
     "end_time": "2022-06-29T17:58:19.461696",
     "exception": false,
     "start_time": "2022-06-29T17:58:19.421716",
     "status": "completed"
    },
    "tags": []
   },
   "outputs": [],
   "source": [
    "y = train['Survived']"
   ]
  },
  {
   "cell_type": "code",
   "execution_count": 49,
   "id": "8a7d6d25",
   "metadata": {
    "execution": {
     "iopub.execute_input": "2022-06-29T17:58:19.524200Z",
     "iopub.status.busy": "2022-06-29T17:58:19.523373Z",
     "iopub.status.idle": "2022-06-29T17:58:19.728829Z",
     "shell.execute_reply": "2022-06-29T17:58:19.727485Z"
    },
    "papermill": {
     "duration": 0.240043,
     "end_time": "2022-06-29T17:58:19.731719",
     "exception": false,
     "start_time": "2022-06-29T17:58:19.491676",
     "status": "completed"
    },
    "tags": []
   },
   "outputs": [],
   "source": [
    "from sklearn.model_selection import train_test_split"
   ]
  },
  {
   "cell_type": "code",
   "execution_count": 50,
   "id": "7743d6be",
   "metadata": {
    "execution": {
     "iopub.execute_input": "2022-06-29T17:58:19.793449Z",
     "iopub.status.busy": "2022-06-29T17:58:19.793025Z",
     "iopub.status.idle": "2022-06-29T17:58:19.803202Z",
     "shell.execute_reply": "2022-06-29T17:58:19.802116Z"
    },
    "papermill": {
     "duration": 0.044096,
     "end_time": "2022-06-29T17:58:19.805633",
     "exception": false,
     "start_time": "2022-06-29T17:58:19.761537",
     "status": "completed"
    },
    "tags": []
   },
   "outputs": [],
   "source": [
    "# train_size: % de datos para entrenamiento\n",
    "# test_size: % de datos para pruebas\n",
    "# random_state: semilla\n",
    "X_train, X_test, y_train, y_test = train_test_split( X, y, test_size=0.30,\n",
    "                                                    random_state=101,\n",
    "                                                    stratify=y\n",
    "                                                   )"
   ]
  },
  {
   "cell_type": "code",
   "execution_count": 51,
   "id": "0b3b5d06",
   "metadata": {
    "execution": {
     "iopub.execute_input": "2022-06-29T17:58:19.868575Z",
     "iopub.status.busy": "2022-06-29T17:58:19.867937Z",
     "iopub.status.idle": "2022-06-29T17:58:19.874225Z",
     "shell.execute_reply": "2022-06-29T17:58:19.873293Z"
    },
    "papermill": {
     "duration": 0.040524,
     "end_time": "2022-06-29T17:58:19.876618",
     "exception": false,
     "start_time": "2022-06-29T17:58:19.836094",
     "status": "completed"
    },
    "tags": []
   },
   "outputs": [
    {
     "data": {
      "text/plain": [
       "(622, 8)"
      ]
     },
     "execution_count": 51,
     "metadata": {},
     "output_type": "execute_result"
    }
   ],
   "source": [
    "X_train.shape"
   ]
  },
  {
   "cell_type": "code",
   "execution_count": 52,
   "id": "3177df3b",
   "metadata": {
    "execution": {
     "iopub.execute_input": "2022-06-29T17:58:19.939091Z",
     "iopub.status.busy": "2022-06-29T17:58:19.938433Z",
     "iopub.status.idle": "2022-06-29T17:58:19.944312Z",
     "shell.execute_reply": "2022-06-29T17:58:19.943290Z"
    },
    "papermill": {
     "duration": 0.040088,
     "end_time": "2022-06-29T17:58:19.946620",
     "exception": false,
     "start_time": "2022-06-29T17:58:19.906532",
     "status": "completed"
    },
    "tags": []
   },
   "outputs": [
    {
     "data": {
      "text/plain": [
       "(267, 8)"
      ]
     },
     "execution_count": 52,
     "metadata": {},
     "output_type": "execute_result"
    }
   ],
   "source": [
    "X_test.shape"
   ]
  },
  {
   "cell_type": "code",
   "execution_count": 53,
   "id": "1827fc99",
   "metadata": {
    "execution": {
     "iopub.execute_input": "2022-06-29T17:58:20.008973Z",
     "iopub.status.busy": "2022-06-29T17:58:20.008353Z",
     "iopub.status.idle": "2022-06-29T17:58:20.014464Z",
     "shell.execute_reply": "2022-06-29T17:58:20.013567Z"
    },
    "papermill": {
     "duration": 0.04046,
     "end_time": "2022-06-29T17:58:20.016919",
     "exception": false,
     "start_time": "2022-06-29T17:58:19.976459",
     "status": "completed"
    },
    "tags": []
   },
   "outputs": [
    {
     "data": {
      "text/plain": [
       "(622,)"
      ]
     },
     "execution_count": 53,
     "metadata": {},
     "output_type": "execute_result"
    }
   ],
   "source": [
    "y_train.shape"
   ]
  },
  {
   "cell_type": "code",
   "execution_count": 54,
   "id": "896e108d",
   "metadata": {
    "execution": {
     "iopub.execute_input": "2022-06-29T17:58:20.080368Z",
     "iopub.status.busy": "2022-06-29T17:58:20.079931Z",
     "iopub.status.idle": "2022-06-29T17:58:20.087944Z",
     "shell.execute_reply": "2022-06-29T17:58:20.086659Z"
    },
    "papermill": {
     "duration": 0.042945,
     "end_time": "2022-06-29T17:58:20.090492",
     "exception": false,
     "start_time": "2022-06-29T17:58:20.047547",
     "status": "completed"
    },
    "tags": []
   },
   "outputs": [
    {
     "data": {
      "text/plain": [
       "(267,)"
      ]
     },
     "execution_count": 54,
     "metadata": {},
     "output_type": "execute_result"
    }
   ],
   "source": [
    "y_test.shape"
   ]
  },
  {
   "cell_type": "markdown",
   "id": "d46da572",
   "metadata": {
    "papermill": {
     "duration": 0.03067,
     "end_time": "2022-06-29T17:58:20.151719",
     "exception": false,
     "start_time": "2022-06-29T17:58:20.121049",
     "status": "completed"
    },
    "tags": []
   },
   "source": [
    "## Predict"
   ]
  },
  {
   "cell_type": "code",
   "execution_count": 55,
   "id": "d15e912e",
   "metadata": {
    "execution": {
     "iopub.execute_input": "2022-06-29T17:58:20.217857Z",
     "iopub.status.busy": "2022-06-29T17:58:20.216692Z",
     "iopub.status.idle": "2022-06-29T17:58:20.304745Z",
     "shell.execute_reply": "2022-06-29T17:58:20.303517Z"
    },
    "papermill": {
     "duration": 0.123126,
     "end_time": "2022-06-29T17:58:20.307804",
     "exception": false,
     "start_time": "2022-06-29T17:58:20.184678",
     "status": "completed"
    },
    "tags": []
   },
   "outputs": [],
   "source": [
    "# Algoritmo para clasificación binaria\n",
    "from sklearn.linear_model import LogisticRegression"
   ]
  },
  {
   "cell_type": "code",
   "execution_count": 56,
   "id": "6aa1e52c",
   "metadata": {
    "execution": {
     "iopub.execute_input": "2022-06-29T17:58:20.370910Z",
     "iopub.status.busy": "2022-06-29T17:58:20.370125Z",
     "iopub.status.idle": "2022-06-29T17:58:20.374945Z",
     "shell.execute_reply": "2022-06-29T17:58:20.374087Z"
    },
    "papermill": {
     "duration": 0.038941,
     "end_time": "2022-06-29T17:58:20.377175",
     "exception": false,
     "start_time": "2022-06-29T17:58:20.338234",
     "status": "completed"
    },
    "tags": []
   },
   "outputs": [],
   "source": [
    "logmodel = LogisticRegression(max_iter = 500)"
   ]
  },
  {
   "cell_type": "code",
   "execution_count": 57,
   "id": "fafe4f9c",
   "metadata": {
    "execution": {
     "iopub.execute_input": "2022-06-29T17:58:20.440824Z",
     "iopub.status.busy": "2022-06-29T17:58:20.439724Z",
     "iopub.status.idle": "2022-06-29T17:58:20.448062Z",
     "shell.execute_reply": "2022-06-29T17:58:20.447073Z"
    },
    "papermill": {
     "duration": 0.042415,
     "end_time": "2022-06-29T17:58:20.450407",
     "exception": false,
     "start_time": "2022-06-29T17:58:20.407992",
     "status": "completed"
    },
    "tags": []
   },
   "outputs": [
    {
     "data": {
      "text/plain": [
       "{'C': 1.0,\n",
       " 'class_weight': None,\n",
       " 'dual': False,\n",
       " 'fit_intercept': True,\n",
       " 'intercept_scaling': 1,\n",
       " 'l1_ratio': None,\n",
       " 'max_iter': 500,\n",
       " 'multi_class': 'auto',\n",
       " 'n_jobs': None,\n",
       " 'penalty': 'l2',\n",
       " 'random_state': None,\n",
       " 'solver': 'lbfgs',\n",
       " 'tol': 0.0001,\n",
       " 'verbose': 0,\n",
       " 'warm_start': False}"
      ]
     },
     "execution_count": 57,
     "metadata": {},
     "output_type": "execute_result"
    }
   ],
   "source": [
    "params = logmodel.get_params()\n",
    "params"
   ]
  },
  {
   "cell_type": "code",
   "execution_count": 58,
   "id": "54ff824a",
   "metadata": {
    "execution": {
     "iopub.execute_input": "2022-06-29T17:58:20.513920Z",
     "iopub.status.busy": "2022-06-29T17:58:20.512856Z",
     "iopub.status.idle": "2022-06-29T17:58:20.722000Z",
     "shell.execute_reply": "2022-06-29T17:58:20.720441Z"
    },
    "papermill": {
     "duration": 0.243944,
     "end_time": "2022-06-29T17:58:20.724898",
     "exception": false,
     "start_time": "2022-06-29T17:58:20.480954",
     "status": "completed"
    },
    "tags": []
   },
   "outputs": [
    {
     "data": {
      "text/plain": [
       "LogisticRegression(max_iter=500)"
      ]
     },
     "execution_count": 58,
     "metadata": {},
     "output_type": "execute_result"
    }
   ],
   "source": [
    "logmodel.fit(X_train,y_train)"
   ]
  },
  {
   "cell_type": "code",
   "execution_count": 59,
   "id": "8cff6cf6",
   "metadata": {
    "execution": {
     "iopub.execute_input": "2022-06-29T17:58:20.791654Z",
     "iopub.status.busy": "2022-06-29T17:58:20.791243Z",
     "iopub.status.idle": "2022-06-29T17:58:20.798748Z",
     "shell.execute_reply": "2022-06-29T17:58:20.797769Z"
    },
    "papermill": {
     "duration": 0.043755,
     "end_time": "2022-06-29T17:58:20.801644",
     "exception": false,
     "start_time": "2022-06-29T17:58:20.757889",
     "status": "completed"
    },
    "tags": []
   },
   "outputs": [
    {
     "name": "stdout",
     "output_type": "stream",
     "text": [
      "LogisticRegression iterations: [130]\n"
     ]
    }
   ],
   "source": [
    "# Iteraciones con las que el modelo llegó a converger\n",
    "print(\"LogisticRegression iterations:\", logmodel.n_iter_)"
   ]
  },
  {
   "cell_type": "code",
   "execution_count": 60,
   "id": "56689653",
   "metadata": {
    "execution": {
     "iopub.execute_input": "2022-06-29T17:58:20.867096Z",
     "iopub.status.busy": "2022-06-29T17:58:20.865847Z",
     "iopub.status.idle": "2022-06-29T17:58:20.873623Z",
     "shell.execute_reply": "2022-06-29T17:58:20.872530Z"
    },
    "papermill": {
     "duration": 0.043156,
     "end_time": "2022-06-29T17:58:20.876087",
     "exception": false,
     "start_time": "2022-06-29T17:58:20.832931",
     "status": "completed"
    },
    "tags": []
   },
   "outputs": [],
   "source": [
    "predictions = logmodel.predict(X_test)"
   ]
  },
  {
   "cell_type": "markdown",
   "id": "c9a673cf",
   "metadata": {
    "papermill": {
     "duration": 0.029883,
     "end_time": "2022-06-29T17:58:20.937453",
     "exception": false,
     "start_time": "2022-06-29T17:58:20.907570",
     "status": "completed"
    },
    "tags": []
   },
   "source": [
    "## Result"
   ]
  },
  {
   "cell_type": "code",
   "execution_count": 61,
   "id": "c7f54e7f",
   "metadata": {
    "execution": {
     "iopub.execute_input": "2022-06-29T17:58:21.046565Z",
     "iopub.status.busy": "2022-06-29T17:58:21.045934Z",
     "iopub.status.idle": "2022-06-29T17:58:21.050856Z",
     "shell.execute_reply": "2022-06-29T17:58:21.049924Z"
    },
    "papermill": {
     "duration": 0.08494,
     "end_time": "2022-06-29T17:58:21.053515",
     "exception": false,
     "start_time": "2022-06-29T17:58:20.968575",
     "status": "completed"
    },
    "tags": []
   },
   "outputs": [],
   "source": [
    "from sklearn.metrics import confusion_matrix"
   ]
  },
  {
   "cell_type": "code",
   "execution_count": 62,
   "id": "8951d45b",
   "metadata": {
    "execution": {
     "iopub.execute_input": "2022-06-29T17:58:21.117222Z",
     "iopub.status.busy": "2022-06-29T17:58:21.116776Z",
     "iopub.status.idle": "2022-06-29T17:58:21.126306Z",
     "shell.execute_reply": "2022-06-29T17:58:21.125395Z"
    },
    "papermill": {
     "duration": 0.043674,
     "end_time": "2022-06-29T17:58:21.128547",
     "exception": false,
     "start_time": "2022-06-29T17:58:21.084873",
     "status": "completed"
    },
    "tags": []
   },
   "outputs": [
    {
     "data": {
      "text/plain": [
       "array([[142,  23],\n",
       "       [ 33,  69]])"
      ]
     },
     "execution_count": 62,
     "metadata": {},
     "output_type": "execute_result"
    }
   ],
   "source": [
    "confusion_matrix(y_test,predictions)"
   ]
  },
  {
   "cell_type": "code",
   "execution_count": 63,
   "id": "b40659d0",
   "metadata": {
    "execution": {
     "iopub.execute_input": "2022-06-29T17:58:21.197394Z",
     "iopub.status.busy": "2022-06-29T17:58:21.196095Z",
     "iopub.status.idle": "2022-06-29T17:58:21.201524Z",
     "shell.execute_reply": "2022-06-29T17:58:21.200543Z"
    },
    "papermill": {
     "duration": 0.04323,
     "end_time": "2022-06-29T17:58:21.204097",
     "exception": false,
     "start_time": "2022-06-29T17:58:21.160867",
     "status": "completed"
    },
    "tags": []
   },
   "outputs": [],
   "source": [
    "from sklearn.metrics import classification_report"
   ]
  },
  {
   "cell_type": "code",
   "execution_count": 64,
   "id": "3100ac59",
   "metadata": {
    "execution": {
     "iopub.execute_input": "2022-06-29T17:58:21.287162Z",
     "iopub.status.busy": "2022-06-29T17:58:21.286342Z",
     "iopub.status.idle": "2022-06-29T17:58:21.297983Z",
     "shell.execute_reply": "2022-06-29T17:58:21.296887Z"
    },
    "papermill": {
     "duration": 0.058052,
     "end_time": "2022-06-29T17:58:21.301177",
     "exception": false,
     "start_time": "2022-06-29T17:58:21.243125",
     "status": "completed"
    },
    "tags": []
   },
   "outputs": [
    {
     "name": "stdout",
     "output_type": "stream",
     "text": [
      "              precision    recall  f1-score   support\n",
      "\n",
      "           0       0.81      0.86      0.84       165\n",
      "           1       0.75      0.68      0.71       102\n",
      "\n",
      "    accuracy                           0.79       267\n",
      "   macro avg       0.78      0.77      0.77       267\n",
      "weighted avg       0.79      0.79      0.79       267\n",
      "\n"
     ]
    }
   ],
   "source": [
    "print(classification_report(y_test,predictions))"
   ]
  },
  {
   "cell_type": "code",
   "execution_count": 65,
   "id": "31f116c9",
   "metadata": {
    "execution": {
     "iopub.execute_input": "2022-06-29T17:58:21.369234Z",
     "iopub.status.busy": "2022-06-29T17:58:21.368314Z",
     "iopub.status.idle": "2022-06-29T17:58:21.373353Z",
     "shell.execute_reply": "2022-06-29T17:58:21.372256Z"
    },
    "papermill": {
     "duration": 0.041848,
     "end_time": "2022-06-29T17:58:21.375729",
     "exception": false,
     "start_time": "2022-06-29T17:58:21.333881",
     "status": "completed"
    },
    "tags": []
   },
   "outputs": [],
   "source": [
    "from sklearn.metrics import plot_confusion_matrix"
   ]
  },
  {
   "cell_type": "code",
   "execution_count": 66,
   "id": "108b02d2",
   "metadata": {
    "execution": {
     "iopub.execute_input": "2022-06-29T17:58:21.439599Z",
     "iopub.status.busy": "2022-06-29T17:58:21.438974Z",
     "iopub.status.idle": "2022-06-29T17:58:21.597318Z",
     "shell.execute_reply": "2022-06-29T17:58:21.595685Z"
    },
    "papermill": {
     "duration": 0.194718,
     "end_time": "2022-06-29T17:58:21.601119",
     "exception": false,
     "start_time": "2022-06-29T17:58:21.406401",
     "status": "completed"
    },
    "tags": []
   },
   "outputs": [
    {
     "name": "stderr",
     "output_type": "stream",
     "text": [
      "/opt/conda/lib/python3.7/site-packages/sklearn/utils/deprecation.py:87: FutureWarning: Function plot_confusion_matrix is deprecated; Function `plot_confusion_matrix` is deprecated in 1.0 and will be removed in 1.2. Use one of the class methods: ConfusionMatrixDisplay.from_predictions or ConfusionMatrixDisplay.from_estimator.\n",
      "  warnings.warn(msg, category=FutureWarning)\n"
     ]
    },
    {
     "data": {
      "text/plain": [
       "<sklearn.metrics._plot.confusion_matrix.ConfusionMatrixDisplay at 0x7f0cb7d0b290>"
      ]
     },
     "execution_count": 66,
     "metadata": {},
     "output_type": "execute_result"
    },
    {
     "data": {
      "image/png": "[encoded data removed]",
      "text/plain": [
       "<Figure size 432x288 with 1 Axes>"
      ]
     },
     "metadata": {},
     "output_type": "display_data"
    }
   ],
   "source": [
    "plot_confusion_matrix(logmodel, X_test, y_test, colorbar=False)"
   ]
  },
  {
   "cell_type": "code",
   "execution_count": 67,
   "id": "d95c55be",
   "metadata": {
    "execution": {
     "iopub.execute_input": "2022-06-29T17:58:21.691424Z",
     "iopub.status.busy": "2022-06-29T17:58:21.690618Z",
     "iopub.status.idle": "2022-06-29T17:58:21.695588Z",
     "shell.execute_reply": "2022-06-29T17:58:21.694642Z"
    },
    "papermill": {
     "duration": 0.040248,
     "end_time": "2022-06-29T17:58:21.697975",
     "exception": false,
     "start_time": "2022-06-29T17:58:21.657727",
     "status": "completed"
    },
    "tags": []
   },
   "outputs": [],
   "source": [
    "from sklearn.metrics import plot_roc_curve"
   ]
  },
  {
   "cell_type": "code",
   "execution_count": 68,
   "id": "0adf7108",
   "metadata": {
    "execution": {
     "iopub.execute_input": "2022-06-29T17:58:21.763676Z",
     "iopub.status.busy": "2022-06-29T17:58:21.763255Z",
     "iopub.status.idle": "2022-06-29T17:58:22.057487Z",
     "shell.execute_reply": "2022-06-29T17:58:22.056097Z"
    },
    "papermill": {
     "duration": 0.329941,
     "end_time": "2022-06-29T17:58:22.060149",
     "exception": false,
     "start_time": "2022-06-29T17:58:21.730208",
     "status": "completed"
    },
    "tags": []
   },
   "outputs": [
    {
     "name": "stderr",
     "output_type": "stream",
     "text": [
      "/opt/conda/lib/python3.7/site-packages/sklearn/utils/deprecation.py:87: FutureWarning: Function plot_roc_curve is deprecated; Function :func:`plot_roc_curve` is deprecated in 1.0 and will be removed in 1.2. Use one of the class methods: :meth:`sklearn.metric.RocCurveDisplay.from_predictions` or :meth:`sklearn.metric.RocCurveDisplay.from_estimator`.\n",
      "  warnings.warn(msg, category=FutureWarning)\n"
     ]
    },
    {
     "data": {
      "text/plain": [
       "<sklearn.metrics._plot.roc_curve.RocCurveDisplay at 0x7f0cb73f5490>"
      ]
     },
     "execution_count": 68,
     "metadata": {},
     "output_type": "execute_result"
    },
    {
     "data": {
      "image/png": "[encoded data removed]",
      "text/plain": [
       "<Figure size 432x288 with 1 Axes>"
      ]
     },
     "metadata": {},
     "output_type": "display_data"
    }
   ],
   "source": [
    "plot_roc_curve(logmodel, X_test, y_test, pos_label=0)"
   ]
  },
  {
   "cell_type": "code",
   "execution_count": 69,
   "id": "d4a7f80b",
   "metadata": {
    "execution": {
     "iopub.execute_input": "2022-06-29T17:58:22.126162Z",
     "iopub.status.busy": "2022-06-29T17:58:22.125354Z",
     "iopub.status.idle": "2022-06-29T17:58:22.428655Z",
     "shell.execute_reply": "2022-06-29T17:58:22.427095Z"
    },
    "papermill": {
     "duration": 0.339573,
     "end_time": "2022-06-29T17:58:22.431424",
     "exception": false,
     "start_time": "2022-06-29T17:58:22.091851",
     "status": "completed"
    },
    "tags": []
   },
   "outputs": [
    {
     "name": "stderr",
     "output_type": "stream",
     "text": [
      "/opt/conda/lib/python3.7/site-packages/sklearn/utils/deprecation.py:87: FutureWarning: Function plot_roc_curve is deprecated; Function :func:`plot_roc_curve` is deprecated in 1.0 and will be removed in 1.2. Use one of the class methods: :meth:`sklearn.metric.RocCurveDisplay.from_predictions` or :meth:`sklearn.metric.RocCurveDisplay.from_estimator`.\n",
      "  warnings.warn(msg, category=FutureWarning)\n"
     ]
    },
    {
     "data": {
      "text/plain": [
       "<sklearn.metrics._plot.roc_curve.RocCurveDisplay at 0x7f0cb738a350>"
      ]
     },
     "execution_count": 69,
     "metadata": {},
     "output_type": "execute_result"
    },
    {
     "data": {
      "image/png": "[encoded data removed]",
      "text/plain": [
       "<Figure size 432x288 with 1 Axes>"
      ]
     },
     "metadata": {},
     "output_type": "display_data"
    }
   ],
   "source": [
    "plot_roc_curve(logmodel, X_test, y_test, pos_label=1)"
   ]
  },
  {
   "cell_type": "markdown",
   "id": "41123064",
   "metadata": {
    "papermill": {
     "duration": 0.033387,
     "end_time": "2022-06-29T17:58:22.498314",
     "exception": false,
     "start_time": "2022-06-29T17:58:22.464927",
     "status": "completed"
    },
    "tags": []
   },
   "source": [
    "## Predict with test.csv"
   ]
  },
  {
   "cell_type": "code",
   "execution_count": 70,
   "id": "0e8eefbd",
   "metadata": {
    "execution": {
     "iopub.execute_input": "2022-06-29T17:58:22.565577Z",
     "iopub.status.busy": "2022-06-29T17:58:22.565162Z",
     "iopub.status.idle": "2022-06-29T17:58:22.574744Z",
     "shell.execute_reply": "2022-06-29T17:58:22.573782Z"
    },
    "papermill": {
     "duration": 0.045987,
     "end_time": "2022-06-29T17:58:22.577283",
     "exception": false,
     "start_time": "2022-06-29T17:58:22.531296",
     "status": "completed"
    },
    "tags": []
   },
   "outputs": [],
   "source": [
    "predictions_test = logmodel.predict(test)\n",
    "result = pd.DataFrame({'PassengerId': test_original['PassengerId'], 'Survived': predictions_test})"
   ]
  },
  {
   "cell_type": "code",
   "execution_count": 71,
   "id": "ec211da4",
   "metadata": {
    "execution": {
     "iopub.execute_input": "2022-06-29T17:58:22.646437Z",
     "iopub.status.busy": "2022-06-29T17:58:22.645293Z",
     "iopub.status.idle": "2022-06-29T17:58:22.650437Z",
     "shell.execute_reply": "2022-06-29T17:58:22.649256Z"
    },
    "papermill": {
     "duration": 0.042649,
     "end_time": "2022-06-29T17:58:22.652858",
     "exception": false,
     "start_time": "2022-06-29T17:58:22.610209",
     "status": "completed"
    },
    "tags": []
   },
   "outputs": [],
   "source": [
    "#gender_submission"
   ]
  },
  {
   "cell_type": "code",
   "execution_count": 72,
   "id": "d04cd632",
   "metadata": {
    "execution": {
     "iopub.execute_input": "2022-06-29T17:58:22.720608Z",
     "iopub.status.busy": "2022-06-29T17:58:22.719752Z",
     "iopub.status.idle": "2022-06-29T17:58:22.733565Z",
     "shell.execute_reply": "2022-06-29T17:58:22.732295Z"
    },
    "papermill": {
     "duration": 0.050098,
     "end_time": "2022-06-29T17:58:22.735895",
     "exception": false,
     "start_time": "2022-06-29T17:58:22.685797",
     "status": "completed"
    },
    "tags": []
   },
   "outputs": [
    {
     "data": {
      "text/html": [
       "<div>\n",
       "<style scoped>\n",
       "    .dataframe tbody tr th:only-of-type {\n",
       "        vertical-align: middle;\n",
       "    }\n",
       "\n",
       "    .dataframe tbody tr th {\n",
       "        vertical-align: top;\n",
       "    }\n",
       "\n",
       "    .dataframe thead th {\n",
       "        text-align: right;\n",
       "    }\n",
       "</style>\n",
       "<table border=\"1\" class=\"dataframe\">\n",
       "  <thead>\n",
       "    <tr style=\"text-align: right;\">\n",
       "      <th></th>\n",
       "      <th>PassengerId</th>\n",
       "      <th>Survived</th>\n",
       "    </tr>\n",
       "  </thead>\n",
       "  <tbody>\n",
       "    <tr>\n",
       "      <th>0</th>\n",
       "      <td>892</td>\n",
       "      <td>0</td>\n",
       "    </tr>\n",
       "    <tr>\n",
       "      <th>1</th>\n",
       "      <td>893</td>\n",
       "      <td>0</td>\n",
       "    </tr>\n",
       "    <tr>\n",
       "      <th>2</th>\n",
       "      <td>894</td>\n",
       "      <td>0</td>\n",
       "    </tr>\n",
       "    <tr>\n",
       "      <th>3</th>\n",
       "      <td>895</td>\n",
       "      <td>0</td>\n",
       "    </tr>\n",
       "    <tr>\n",
       "      <th>4</th>\n",
       "      <td>896</td>\n",
       "      <td>1</td>\n",
       "    </tr>\n",
       "    <tr>\n",
       "      <th>...</th>\n",
       "      <td>...</td>\n",
       "      <td>...</td>\n",
       "    </tr>\n",
       "    <tr>\n",
       "      <th>413</th>\n",
       "      <td>1305</td>\n",
       "      <td>0</td>\n",
       "    </tr>\n",
       "    <tr>\n",
       "      <th>414</th>\n",
       "      <td>1306</td>\n",
       "      <td>1</td>\n",
       "    </tr>\n",
       "    <tr>\n",
       "      <th>415</th>\n",
       "      <td>1307</td>\n",
       "      <td>0</td>\n",
       "    </tr>\n",
       "    <tr>\n",
       "      <th>416</th>\n",
       "      <td>1308</td>\n",
       "      <td>0</td>\n",
       "    </tr>\n",
       "    <tr>\n",
       "      <th>417</th>\n",
       "      <td>1309</td>\n",
       "      <td>0</td>\n",
       "    </tr>\n",
       "  </tbody>\n",
       "</table>\n",
       "<p>418 rows × 2 columns</p>\n",
       "</div>"
      ],
      "text/plain": [
       "     PassengerId  Survived\n",
       "0            892         0\n",
       "1            893         0\n",
       "2            894         0\n",
       "3            895         0\n",
       "4            896         1\n",
       "..           ...       ...\n",
       "413         1305         0\n",
       "414         1306         1\n",
       "415         1307         0\n",
       "416         1308         0\n",
       "417         1309         0\n",
       "\n",
       "[418 rows x 2 columns]"
      ]
     },
     "execution_count": 72,
     "metadata": {},
     "output_type": "execute_result"
    }
   ],
   "source": [
    "result"
   ]
  },
  {
   "cell_type": "markdown",
   "id": "7ebb0782",
   "metadata": {
    "papermill": {
     "duration": 0.032759,
     "end_time": "2022-06-29T17:58:22.801447",
     "exception": false,
     "start_time": "2022-06-29T17:58:22.768688",
     "status": "completed"
    },
    "tags": []
   },
   "source": [
    "### Saving result to csv"
   ]
  },
  {
   "cell_type": "code",
   "execution_count": 73,
   "id": "b0aba469",
   "metadata": {
    "execution": {
     "iopub.execute_input": "2022-06-29T17:58:22.870959Z",
     "iopub.status.busy": "2022-06-29T17:58:22.870251Z",
     "iopub.status.idle": "2022-06-29T17:58:22.879331Z",
     "shell.execute_reply": "2022-06-29T17:58:22.877928Z"
    },
    "papermill": {
     "duration": 0.047185,
     "end_time": "2022-06-29T17:58:22.882066",
     "exception": false,
     "start_time": "2022-06-29T17:58:22.834881",
     "status": "completed"
    },
    "tags": []
   },
   "outputs": [],
   "source": [
    "# Guardando datos procesados\n",
    "result.to_csv('submmit.csv', index = False)"
   ]
  }
 ],
 "metadata": {
  "kernelspec": {
   "display_name": "Python 3",
   "language": "python",
   "name": "python3"
  },
  "language_info": {
   "codemirror_mode": {
    "name": "ipython",
    "version": 3
   },
   "file_extension": ".py",
   "mimetype": "text/x-python",
   "name": "python",
   "nbconvert_exporter": "python",
   "pygments_lexer": "ipython3",
   "version": "3.7.12"
  },
  "papermill": {
   "default_parameters": {},
   "duration": 24.133222,
   "end_time": "2022-06-29T17:58:23.739350",
   "environment_variables": {},
   "exception": null,
   "input_path": "__notebook__.ipynb",
   "output_path": "__notebook__.ipynb",
   "parameters": {},
   "start_time": "2022-06-29T17:57:59.606128",
   "version": "2.3.4"
  }
 },
 "nbformat": 4,
 "nbformat_minor": 5
}
